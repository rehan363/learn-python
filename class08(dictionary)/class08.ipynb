{
 "cells": [
  {
   "cell_type": "code",
   "execution_count": 1,
   "metadata": {},
   "outputs": [
    {
     "name": "stdout",
     "output_type": "stream",
     "text": [
      "['clear', 'copy', 'fromkeys', 'get', 'items', 'keys', 'pop', 'popitem', 'setdefault', 'update', 'values']\n"
     ]
    }
   ],
   "source": [
    "#disadvantages of any\n",
    "from typing import Dict,Union,Optional    \n",
    "import pprint                          #pprint is used for printing json data\\formate or lists in beautiful way.\n",
    "\n",
    "key = Union[int,str]  #we can also crate our custom type as created below\n",
    "value = Union[str,int,float,set]\n",
    "\n",
    "data : Dict [value,key] ={      #keys  #values\n",
    "                                \"name\":\"rehan\",\n",
    "                                \"fname\":\"khalid\",\n",
    "                                \"education\":\"bscs\",\n",
    "                              \n",
    "                               \n",
    "}\n",
    "\\\n",
    "methoods : list[str] = [m for m in dir(data) if\"__\" not in m]\n",
    "print(methoods)\n"
   ]
  },
  {
   "cell_type": "code",
   "execution_count": 21,
   "metadata": {},
   "outputs": [
    {
     "name": "stdout",
     "output_type": "stream",
     "text": [
      "before {'name': 'rehan', 'fname': 'khalid', 'education': 'bscs'}\n",
      "{'name': 'rehan', 'fname': 'khalid'}\n"
     ]
    }
   ],
   "source": [
    "\n",
    "from typing import Dict,Union,Optional    \n",
    "import pprint                          #pprint is used for printing json data\\formate or lists in beautiful way.\n",
    "\n",
    "key = Union[int,str]  #we can also crate our custom type as created below\n",
    "value = Union[str,int,float,set]\n",
    "\n",
    "data : Dict [value,key] ={      #keys  #values\n",
    "                                \"name\":\"rehan\",\n",
    "                                \"fname\":\"khalid\",\n",
    "                                \"education\":\"bscs\",\n",
    "                                          \n",
    "}\n",
    "\n",
    "print(\"before\",data)\n",
    "# data.clear()  # clear meethood empty all the list \n",
    "del data[\"education\"]    # delete all the data\n",
    "print(data) \n",
    "# print(\"after\",data)\n",
    "\n"
   ]
  },
  {
   "cell_type": "code",
   "execution_count": 6,
   "metadata": {},
   "outputs": [
    {
     "name": "stdout",
     "output_type": "stream",
     "text": [
      "before {'name': 'rehan', 'fname': 'khalid', 'education': 'bscs'}\n",
      "no value\n",
      "after {'name': 'rehan', 'fname': 'khalid', 'education': 'bscs', 'pakistan': 'no value'}\n"
     ]
    }
   ],
   "source": [
    "from typing import Dict,Union,Optional    \n",
    "import pprint                          #pprint is used for printing json data\\formate or lists in beautiful way.\n",
    "\n",
    "key = Union[int,str]  #we can also crate our custom type as created below\n",
    "value = Union[str,int,float,set]\n",
    "\n",
    "data : Dict [value,key] ={      #keys  #values\n",
    "                                \"name\":\"rehan\",\n",
    "                                \"fname\":\"khalid\",\n",
    "                                \"education\":\"bscs\",\n",
    "                                          \n",
    "}\n",
    " \n",
    "print(\"before\",data)\n",
    "\n",
    "a : str = data.setdefault(\"pakistan\",\"no value\")   #set default checks the value if not present it wil also add to dict\n",
    "print(a)\n",
    "\n",
    "print(\"after\",data)"
   ]
  },
  {
   "cell_type": "code",
   "execution_count": 14,
   "metadata": {},
   "outputs": [
    {
     "name": "stdout",
     "output_type": "stream",
     "text": [
      "{'color': 'green', 'points': 5}\n",
      "{'color': 'green'}\n"
     ]
    }
   ],
   "source": [
    "alien_0 = {'color': 'green', 'points': 5}\n",
    "print(alien_0)\n",
    "del alien_0['points']\n",
    "print(alien_0)"
   ]
  },
  {
   "cell_type": "code",
   "execution_count": 10,
   "metadata": {},
   "outputs": [
    {
     "data": {
      "text/plain": [
       "{'name': 'ali',\n",
       " 'fname': 'sami',\n",
       " 'age': '20',\n",
       " 'height': '6feet',\n",
       " 'educaation': 'bscs'}"
      ]
     },
     "execution_count": 10,
     "metadata": {},
     "output_type": "execute_result"
    }
   ],
   "source": [
    "from typing import Dict,Optional,Union\n",
    "import pprint\n",
    "\n",
    "key = Union[str,int]\n",
    "value = Union[float,str,int]\n",
    "data : Dict [key,value] = {\n",
    "                           \"name\":\"ali\",\n",
    "                           \"fname\":\"sami\",\n",
    "                           \"age\":\"20\"\n",
    "}\n",
    "\n",
    "\n",
    "data1 : Dict [key,value] = {\n",
    "                            \"height\":\"6feet\",\n",
    "                            \"educaation\":\"bscs\"\n",
    "}\n",
    "\n",
    "data.update(data1)\n",
    "\n",
    "data"
   ]
  },
  {
   "cell_type": "code",
   "execution_count": 14,
   "metadata": {},
   "outputs": [
    {
     "data": {
      "text/html": [
       "<div>\n",
       "<style scoped>\n",
       "    .dataframe tbody tr th:only-of-type {\n",
       "        vertical-align: middle;\n",
       "    }\n",
       "\n",
       "    .dataframe tbody tr th {\n",
       "        vertical-align: top;\n",
       "    }\n",
       "\n",
       "    .dataframe thead th {\n",
       "        text-align: right;\n",
       "    }\n",
       "</style>\n",
       "<table border=\"1\" class=\"dataframe\">\n",
       "  <thead>\n",
       "    <tr style=\"text-align: right;\">\n",
       "      <th></th>\n",
       "      <th>roll_number</th>\n",
       "      <th>name</th>\n",
       "      <th>education</th>\n",
       "    </tr>\n",
       "  </thead>\n",
       "  <tbody>\n",
       "    <tr>\n",
       "      <th>0</th>\n",
       "      <td>11</td>\n",
       "      <td>ali</td>\n",
       "      <td>Matric</td>\n",
       "    </tr>\n",
       "    <tr>\n",
       "      <th>1</th>\n",
       "      <td>33</td>\n",
       "      <td>ahmed</td>\n",
       "      <td>Inter</td>\n",
       "    </tr>\n",
       "    <tr>\n",
       "      <th>2</th>\n",
       "      <td>86</td>\n",
       "      <td>hamxa</td>\n",
       "      <td>Bs</td>\n",
       "    </tr>\n",
       "  </tbody>\n",
       "</table>\n",
       "</div>"
      ],
      "text/plain": [
       "   roll_number   name education\n",
       "0           11    ali    Matric\n",
       "1           33  ahmed     Inter\n",
       "2           86  hamxa        Bs"
      ]
     },
     "execution_count": 14,
     "metadata": {},
     "output_type": "execute_result"
    }
   ],
   "source": [
    "import pandas as pd\n",
    "from typing import Any\n",
    "\n",
    "students_data : Dict [str,list[Any]] = {\n",
    "    \"roll_number\":[11,33,86],\n",
    "    \"name\":[\"ali\",\"ahmed\",\"hamxa\"],\n",
    "    \"education\":[\"Matric\",\"Inter\",\"Bs\"]\n",
    "}\n",
    "\n",
    "df : pd.DataFrame = pd.DataFrame(students_data)\n",
    "\n",
    "df"
   ]
  },
  {
   "cell_type": "code",
   "execution_count": 18,
   "metadata": {},
   "outputs": [
    {
     "data": {
      "text/plain": [
       "True"
      ]
     },
     "execution_count": 18,
     "metadata": {},
     "output_type": "execute_result"
    }
   ],
   "source": [
    "\"ali\" in \"\"\"hello my name is ali, i am developer.\"\"\"\n",
    "# we can easily check the string in paragraph."
   ]
  },
  {
   "cell_type": "code",
   "execution_count": 20,
   "metadata": {},
   "outputs": [
    {
     "ename": "TypeError",
     "evalue": "'function' object is not subscriptable",
     "output_type": "error",
     "traceback": [
      "\u001b[1;31m---------------------------------------------------------------------------\u001b[0m",
      "\u001b[1;31mTypeError\u001b[0m                                 Traceback (most recent call last)",
      "Cell \u001b[1;32mIn[20], line 3\u001b[0m\n\u001b[0;32m      1\u001b[0m \u001b[38;5;28;01mimport\u001b[39;00m  \u001b[38;5;21;01mjson\u001b[39;00m\n\u001b[1;32m----> 3\u001b[0m data1 \u001b[38;5;241m=\u001b[39m json\u001b[38;5;241m.\u001b[39mdumps[data]\n\u001b[0;32m      5\u001b[0m \u001b[38;5;28mprint\u001b[39m(data1)\n",
      "\u001b[1;31mTypeError\u001b[0m: 'function' object is not subscriptable"
     ]
    }
   ],
   "source": [
    "import  json\n",
    "\n",
    "data1 = json.dumps[data]\n",
    "\n",
    "print(data1)"
   ]
  }
 ],
 "metadata": {
  "kernelspec": {
   "display_name": "base",
   "language": "python",
   "name": "python3"
  },
  "language_info": {
   "codemirror_mode": {
    "name": "ipython",
    "version": 3
   },
   "file_extension": ".py",
   "mimetype": "text/x-python",
   "name": "python",
   "nbconvert_exporter": "python",
   "pygments_lexer": "ipython3",
   "version": "3.12.4"
  }
 },
 "nbformat": 4,
 "nbformat_minor": 2
}
