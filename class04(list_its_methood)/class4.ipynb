{
 "cells": [
  {
   "cell_type": "code",
   "execution_count": 2,
   "metadata": {},
   "outputs": [],
   "source": [
    "#old methood\n",
    "\n",
    "name1:str = \"ali\"\n",
    "name2:str = \"rehan\"\n",
    "name3:str = \"ahmed\""
   ]
  },
  {
   "cell_type": "markdown",
   "metadata": {},
   "source": [
    "# list \n",
    "* dynamic length (no limit to store variables)\n",
    "* hetrogenious datatypes (multiple data types)\n",
    "* index * positive negative\n",
    "\n",
    "* slicing\n",
    "    * VARIABLES 'names[start:end:step]'\n",
    "    * start : int = include\n",
    "    * end  : int = n-1 \n",
    "    * step : sequence  (gap btween numbrs it may be 1 2 3)\n"
   ]
  },
  {
   "cell_type": "markdown",
   "metadata": {},
   "source": []
  },
  {
   "cell_type": "code",
   "execution_count": 3,
   "metadata": {},
   "outputs": [
    {
     "name": "stdout",
     "output_type": "stream",
     "text": [
      "ali\n",
      "ali\n"
     ]
    }
   ],
   "source": [
    "#OLD METHOOD\n",
    "\n",
    "#form positive   0    1       2\n",
    "name  =      [\"ali\",\"rehan\",\"ahmed\"]   # length-1 (formula)\n",
    "#from negative -3    -2       -1      no zero n -\n",
    "\n",
    "print(name[0])  # ali\n",
    "print(name[-3])  #ali"
   ]
  },
  {
   "cell_type": "markdown",
   "metadata": {},
   "source": [
    "# new methood"
   ]
  },
  {
   "cell_type": "code",
   "execution_count": 1,
   "metadata": {},
   "outputs": [
    {
     "name": "stdout",
     "output_type": "stream",
     "text": [
      "ali\n",
      "laptop owner REHAN\n",
      "['rehan', 7, 'ali']\n",
      "7\n"
     ]
    }
   ],
   "source": [
    "from typing import Any\n",
    "name : list[Any] =[\"rehan\",7,\"ali\"]\n",
    "\n",
    "print(name[-1])\n",
    "print(f'laptop owner {name[-3].upper()}')\n",
    "\n",
    "print(name)\n",
    "\n",
    "print((name [-2]))"
   ]
  },
  {
   "cell_type": "code",
   "execution_count": 13,
   "metadata": {},
   "outputs": [
    {
     "name": "stdout",
     "output_type": "stream",
     "text": [
      "['A', 'B', 'C', 'D', 'E', 'F', 'G', 'H', 'I', 'J', 'K', 'L', 'M', 'N', 'O', 'P', 'Q', 'U', 'R', 'S', 'T', 'U', 'V', 'E', 'X', 'Y', 'Z']\n"
     ]
    }
   ],
   "source": [
    "\n",
    "characters :list[str] = list(\"ABCDEFGHIJKLMNOPQURSTUVEXYZ\")\n",
    "print(characters)"
   ]
  },
  {
   "cell_type": "code",
   "execution_count": 25,
   "metadata": {},
   "outputs": [
    {
     "name": "stdout",
     "output_type": "stream",
     "text": [
      "['A', 'B', 'C', 'D']\n",
      "['A', 'B']\n",
      "['A', 'C', 'E', 'G']\n",
      "['A', 'F', 'K', 'P', 'T', 'Y']\n",
      "['A', 'D']\n"
     ]
    }
   ],
   "source": [
    "# sliving\n",
    "#defalt slicing will always from left to right\n",
    "# slicing data will always be in list form\n",
    "\n",
    "characters: list[str] = list(['A', 'B', 'C', 'D', 'E', 'F', 'G', 'H', 'I', 'J', 'K', 'L', 'M', 'N', 'O', 'P', 'Q', 'U', 'R', 'S', 'T', 'U', 'V', 'E', 'X', 'Y', 'Z'])\n",
    "print(characters[0:4])   # 0 is include \n",
    "print(characters[:2])\n",
    "print(characters[0:7:2])\n",
    "print(characters[::5])\n",
    "print(characters[0:5:3])"
   ]
  },
  {
   "cell_type": "markdown",
   "metadata": {},
   "source": [
    "# for negative indexing"
   ]
  },
  {
   "cell_type": "code",
   "execution_count": 29,
   "metadata": {},
   "outputs": [
    {
     "name": "stdout",
     "output_type": "stream",
     "text": [
      "['Z', 'Y', 'X', 'E', 'V', 'U', 'T', 'S', 'R', 'U', 'Q', 'P', 'O', 'N', 'M', 'L', 'K', 'J', 'I', 'H', 'G', 'F', 'E', 'D', 'C', 'B', 'A']\n"
     ]
    }
   ],
   "source": [
    "characters: list[str] = list(['A', 'B', 'C', 'D', 'E', 'F', 'G', 'H', 'I', 'J', 'K', 'L', 'M', 'N', 'O', 'P', 'Q', 'U', 'R', 'S', 'T', 'U', 'V', 'E', 'X', 'Y', 'Z'])\n",
    "print(characters[ : :-1])   "
   ]
  },
  {
   "cell_type": "code",
   "execution_count": 3,
   "metadata": {},
   "outputs": [
    {
     "name": "stdout",
     "output_type": "stream",
     "text": [
      "['B', 'C', 'D', 'E']\n",
      "['D', 'E', 'F', 'G']\n",
      "['B', 'C', 'D']\n",
      "['G', 'F', 'E']\n",
      "['G', 'E', 'C']\n",
      "['H', 'G', 'F', 'E', 'D', 'C', 'B']\n",
      "['A', 'B', 'C', 'D', 'E', 'F', 'G']\n"
     ]
    }
   ],
   "source": [
    "#                              0    1    2    3    4    5    6    7\n",
    "characters: list[str] = list(['A', 'B', 'C', 'D', 'E', 'F', 'G', 'H'])\n",
    "#                              -8    -7   -6  -5  -4   -3   -2    -1\n",
    "print(characters[1:-3])\n",
    "print(characters[3:-1])\n",
    "print(characters[-7:4])\n",
    "print(characters[-2:-5:-1])\n",
    "print(characters[-2:-8:-2])\n",
    "print(characters[-1:-8:-1])\n",
    "print(characters[0:-1:1])\n"
   ]
  },
  {
   "cell_type": "code",
   "execution_count": 27,
   "metadata": {},
   "outputs": [
    {
     "name": "stdout",
     "output_type": "stream",
     "text": [
      "['A', 'B', 'C', 'D', 'E', 'F', 'G']\n",
      "['A', 'C', 'E', 'G']\n",
      "['A', 'D', 'G']\n",
      "['A', 'E']\n",
      "['A', 'F']\n",
      "['A', 'B', 'C', 'D', 'E', 'F', 'G']\n",
      "['H', 'G', 'F', 'E', 'D', 'C', 'B', 'A']\n",
      "['A', 'B', 'C', 'D', 'E', 'F', 'G']\n",
      "['D']\n",
      "['E', 'F', 'G']\n"
     ]
    }
   ],
   "source": [
    "#                              0    1    2    3    4    5    6    7\n",
    "characters: list[str] = list(['A', 'B', 'C', 'D', 'E', 'F', 'G', 'H'])\n",
    "#                              -8    -7   -6  -5  -4   -3   -2    -1\n",
    "\n",
    "print(characters[0:-1:1])\n",
    "print(characters[0:-1:2])\n",
    "print(characters[0:-1:3])\n",
    "print(characters[0:-1:4])\n",
    "print(characters[0:-1:5])\n",
    "print(characters[0:7:1])\n",
    "print(characters[-1:-9:-1])\n",
    "print(characters[-8:-1:1])\n",
    "print(characters[-5:-6:-1])\n",
    "print(characters[-4:-1:1])"
   ]
  },
  {
   "cell_type": "markdown",
   "metadata": {},
   "source": [
    "# example of indexing and slicing"
   ]
  },
  {
   "cell_type": "code",
   "execution_count": 29,
   "metadata": {},
   "outputs": [
    {
     "name": "stdout",
     "output_type": "stream",
     "text": [
      "students with scores above 90 :\n",
      "john\n"
     ]
    }
   ],
   "source": [
    "from typing import Any\n",
    "students: list[Any] =[(\"john\",95),(\"ali\",54),(\"sam\",43),(\"alice\",84)]\n",
    "\n",
    "average_score =90\n",
    "\n",
    "selected_students = [student[0] for student in students if student[1]> average_score]\n",
    "\n",
    "print(\"students with scores above\", average_score , \":\")\n",
    "\n",
    "for student in selected_students:\n",
    "    print(student)\n",
    "\n"
   ]
  },
  {
   "cell_type": "markdown",
   "metadata": {},
   "source": [
    "# list methoods"
   ]
  },
  {
   "cell_type": "code",
   "execution_count": 6,
   "metadata": {},
   "outputs": [
    {
     "name": "stdout",
     "output_type": "stream",
     "text": [
      "rehan\n",
      "['ch rehan', 7, 'ali', True]\n",
      "['ch rehan', 7, True]\n"
     ]
    }
   ],
   "source": [
    "from typing import Any\n",
    "name : list[Any] =[\"rehan\",7,\"ali\",True]\n",
    "print(name[0])\n",
    "\n",
    "name[0]=\"ch rehan\"         # as python is mutable =>(editable)\n",
    "print(name)\n",
    "\n",
    "del name[2]    # delete an elements from array\n",
    "print(name)"
   ]
  },
  {
   "cell_type": "code",
   "execution_count": 7,
   "metadata": {},
   "outputs": [
    {
     "name": "stdout",
     "output_type": "stream",
     "text": [
      "pakistan\n",
      "None\n"
     ]
    }
   ],
   "source": [
    "a : str = print(\"pakistan\")  # non return function\n",
    "\n",
    "print(a)"
   ]
  },
  {
   "cell_type": "code",
   "execution_count": 8,
   "metadata": {},
   "outputs": [
    {
     "data": {
      "text/plain": [
       "3192603099776"
      ]
     },
     "metadata": {},
     "output_type": "display_data"
    }
   ],
   "source": [
    "a : str= id(name) #return function\n",
    "display(a)"
   ]
  },
  {
   "cell_type": "code",
   "execution_count": 10,
   "metadata": {},
   "outputs": [
    {
     "data": {
      "text/plain": [
       "['__add__',\n",
       " '__class__',\n",
       " '__class_getitem__',\n",
       " '__contains__',\n",
       " '__delattr__',\n",
       " '__delitem__',\n",
       " '__dir__',\n",
       " '__doc__',\n",
       " '__eq__',\n",
       " '__format__',\n",
       " '__ge__',\n",
       " '__getattribute__',\n",
       " '__getitem__',\n",
       " '__getstate__',\n",
       " '__gt__',\n",
       " '__hash__',\n",
       " '__iadd__',\n",
       " '__imul__',\n",
       " '__init__',\n",
       " '__init_subclass__',\n",
       " '__iter__',\n",
       " '__le__',\n",
       " '__len__',\n",
       " '__lt__',\n",
       " '__mul__',\n",
       " '__ne__',\n",
       " '__new__',\n",
       " '__reduce__',\n",
       " '__reduce_ex__',\n",
       " '__repr__',\n",
       " '__reversed__',\n",
       " '__rmul__',\n",
       " '__setattr__',\n",
       " '__setitem__',\n",
       " '__sizeof__',\n",
       " '__str__',\n",
       " '__subclasshook__',\n",
       " 'append',\n",
       " 'clear',\n",
       " 'copy',\n",
       " 'count',\n",
       " 'extend',\n",
       " 'index',\n",
       " 'insert',\n",
       " 'pop',\n",
       " 'remove',\n",
       " 'reverse',\n",
       " 'sort']"
      ]
     },
     "execution_count": 10,
     "metadata": {},
     "output_type": "execute_result"
    }
   ],
   "source": [
    "[i for i in dir(list) if \"___\" not in i]"
   ]
  },
  {
   "cell_type": "markdown",
   "metadata": {},
   "source": [
    "# help                                \n",
    "* help(object)\n",
    "* object?\n",
    "* object??\n",
    "* ?object\n",
    "* ??object\n"
   ]
  },
  {
   "cell_type": "code",
   "execution_count": 11,
   "metadata": {},
   "outputs": [
    {
     "name": "stdout",
     "output_type": "stream",
     "text": [
      "Help on built-in function print in module builtins:\n",
      "\n",
      "print(*args, sep=' ', end='\\n', file=None, flush=False)\n",
      "    Prints the values to a stream, or to sys.stdout by default.\n",
      "\n",
      "    sep\n",
      "      string inserted between values, default a space.\n",
      "    end\n",
      "      string appended after the last value, default a newline.\n",
      "    file\n",
      "      a file-like object (stream); defaults to the current sys.stdout.\n",
      "    flush\n",
      "      whether to forcibly flush the stream.\n",
      "\n"
     ]
    }
   ],
   "source": [
    "help(print)"
   ]
  },
  {
   "cell_type": "code",
   "execution_count": 1,
   "metadata": {},
   "outputs": [
    {
     "name": "stdout",
     "output_type": "stream",
     "text": [
      "['rehan', 'ali', True]\n"
     ]
    }
   ],
   "source": [
    "from typing import Any\n",
    "name :list[Any] =[\"rehan\",7,\"ali\",True]\n",
    "\n",
    "a:str =name.pop(1)        # pop is return methood as its value is stored in a\n",
    "print(name)"
   ]
  },
  {
   "cell_type": "markdown",
   "metadata": {},
   "source": [
    "# append methood adds element in last"
   ]
  },
  {
   "cell_type": "code",
   "execution_count": 5,
   "metadata": {},
   "outputs": [
    {
     "name": "stdout",
     "output_type": "stream",
     "text": [
      "['a', 's', 'ch rehan', 'ali']\n"
     ]
    }
   ],
   "source": [
    "name :list[str] = ['a','s']\n",
    "\n",
    "name.append(\"ch rehan\")\n",
    "name.append(\"ali\")\n",
    "print(name)\n"
   ]
  },
  {
   "cell_type": "markdown",
   "metadata": {},
   "source": [
    "# insert methood adds element at the perticular  index we want"
   ]
  },
  {
   "cell_type": "code",
   "execution_count": 6,
   "metadata": {},
   "outputs": [
    {
     "name": "stdout",
     "output_type": "stream",
     "text": [
      "['a', 'c']\n",
      "['a', 'b', 'c']\n"
     ]
    }
   ],
   "source": [
    "name :list[str] =['a','c']\n",
    "print(name)\n",
    "\n",
    "name.insert(1 ,\"b\")\n",
    "print(name)"
   ]
  },
  {
   "cell_type": "code",
   "execution_count": 2,
   "metadata": {},
   "outputs": [
    {
     "ename": "NameError",
     "evalue": "name 'a' is not defined",
     "output_type": "error",
     "traceback": [
      "\u001b[1;31m---------------------------------------------------------------------------\u001b[0m",
      "\u001b[1;31mNameError\u001b[0m                                 Traceback (most recent call last)",
      "Cell \u001b[1;32mIn[2], line 3\u001b[0m\n\u001b[0;32m      1\u001b[0m a : \u001b[38;5;28mstr\u001b[39m \u001b[38;5;241m=\u001b[39m[\u001b[38;5;241m1\u001b[39m,\u001b[38;5;241m2\u001b[39m,\u001b[38;5;241m3\u001b[39m,\u001b[38;5;241m4\u001b[39m]\n\u001b[0;32m      2\u001b[0m \u001b[38;5;28;01mdel\u001b[39;00m(a)\n\u001b[1;32m----> 3\u001b[0m \u001b[38;5;28mprint\u001b[39m(\u001b[43ma\u001b[49m)\n",
      "\u001b[1;31mNameError\u001b[0m: name 'a' is not defined"
     ]
    }
   ],
   "source": [
    "a : str =[1,2,3,4]\n",
    "del(a) # delete all object from memmory\n",
    "print(a)"
   ]
  },
  {
   "cell_type": "code",
   "execution_count": 4,
   "metadata": {},
   "outputs": [
    {
     "name": "stdout",
     "output_type": "stream",
     "text": [
      "[]\n"
     ]
    }
   ],
   "source": [
    "a : list[str] =[1,2,3,4]\n",
    "a.clear() # remain all elements but object is remaining\n",
    "print(a)"
   ]
  },
  {
   "cell_type": "code",
   "execution_count": 8,
   "metadata": {},
   "outputs": [
    {
     "name": "stdout",
     "output_type": "stream",
     "text": [
      "[1, 2, 3, 4]\n",
      "[1, 2, 3, 4]\n",
      "['ch', 2, 3, 4]\n",
      "['ch', 2, 3, 4]\n"
     ]
    }
   ],
   "source": [
    "a : list[str] =[1,2,3,4]\n",
    "b =a\n",
    "print(a)\n",
    "print(b)\n",
    "b[0]=\"ch\"\n",
    "print(a)\n",
    "print(b)\n"
   ]
  },
  {
   "cell_type": "code",
   "execution_count": 2,
   "metadata": {},
   "outputs": [
    {
     "name": "stdout",
     "output_type": "stream",
     "text": [
      "[1, 2, 3, 4]\n",
      "[1, 2, 3, 4]\n",
      "[1, 2, 3, 4]\n",
      "['ch', 2, 3, 4]\n"
     ]
    }
   ],
   "source": [
    "a : list[str] =[1,2,3,4]\n",
    "b = a.copy()\n",
    "print(a)\n",
    "print(b)\n",
    "b[0]=\"ch\"\n",
    "print(a)\n",
    "print(b)\n"
   ]
  },
  {
   "cell_type": "code",
   "execution_count": 1,
   "metadata": {},
   "outputs": [
    {
     "name": "stdout",
     "output_type": "stream",
     "text": [
      "2\n"
     ]
    }
   ],
   "source": [
    "a : list[str] =[\"a\",\"s\",\"a\"]\n",
    "print(a.count(\"a\"))\n"
   ]
  },
  {
   "cell_type": "code",
   "execution_count": 2,
   "metadata": {},
   "outputs": [
    {
     "name": "stdout",
     "output_type": "stream",
     "text": [
      "['sir zia', 'rehan', ['usman', 'ali']]\n"
     ]
    }
   ],
   "source": [
    "name : list[str] =[\"sir zia\",\"rehan\"]\n",
    "\n",
    "new_faculity : list[str]=[\"usman\",\"ali\"]\n",
    "\n",
    "name.append(new_faculity) #whole liat is addwd\n",
    "print(name)"
   ]
  },
  {
   "cell_type": "code",
   "execution_count": 3,
   "metadata": {},
   "outputs": [
    {
     "name": "stdout",
     "output_type": "stream",
     "text": [
      "['sir zia', 'rehan', 'usman', 'ali']\n"
     ]
    }
   ],
   "source": [
    "name : list[str] =[\"sir zia\",\"rehan\"]\n",
    "\n",
    "new_faculity : list[str]=[\"usman\",\"ali\"]\n",
    "\n",
    "name.extend(new_faculity) # elements are added in list\n",
    "print(name)"
   ]
  },
  {
   "cell_type": "code",
   "execution_count": 14,
   "metadata": {},
   "outputs": [
    {
     "name": "stdout",
     "output_type": "stream",
     "text": [
      "['A', 'B', 'C', 'D', 'E', 'F', 'G']\n",
      "['G', 'F', 'E', 'D', 'C', 'B', 'A']\n"
     ]
    }
   ],
   "source": [
    "name: list[str] = list(\"ABCDEFG\")  # Convert string to list\n",
    "print(name)\n",
    "name.reverse()  # Reverse the list\n",
    "print(name)\n"
   ]
  },
  {
   "cell_type": "code",
   "execution_count": 16,
   "metadata": {},
   "outputs": [
    {
     "name": "stdout",
     "output_type": "stream",
     "text": [
      "['A', 'C', 'B', 'E', 'F', 'D']\n",
      "['A', 'B', 'C', 'D', 'E', 'F']\n"
     ]
    }
   ],
   "source": [
    "name:list[str]=list(\"ACBEFD\")\n",
    "print(name)\n",
    "name.sort()\n",
    "print(name)"
   ]
  },
  {
   "cell_type": "code",
   "execution_count": 2,
   "metadata": {},
   "outputs": [
    {
     "name": "stdout",
     "output_type": "stream",
     "text": [
      "['c', 'b', 'd', 'D']\n",
      "['D', 'b', 'c', 'd']\n"
     ]
    }
   ],
   "source": [
    "name:list[str]=list(\"cbdD\")\n",
    "print(name)\n",
    "name.sort()\n",
    "print(name)"
   ]
  },
  {
   "cell_type": "code",
   "execution_count": 27,
   "metadata": {},
   "outputs": [
    {
     "name": "stdout",
     "output_type": "stream",
     "text": [
      "['honda', 'suzuki', 'yahma']\n",
      "['suzuki', 'yahma']\n"
     ]
    }
   ],
   "source": [
    "#pop \n",
    "motorcycles:list[str]=list((\"honda\",\"suzuki\",\"yahma\"))\n",
    "print(motorcycles)\n",
    "motorcycles.pop(0)\n",
    "print(motorcycles)"
   ]
  },
  {
   "cell_type": "code",
   "execution_count": 33,
   "metadata": {},
   "outputs": [
    {
     "name": "stdout",
     "output_type": "stream",
     "text": [
      "The bike that i owned last was Yahma!\n"
     ]
    }
   ],
   "source": [
    "motorcycles:list[str]=list((\"honda\",\"suzuki\",\"yahma\"))\n",
    "last_owned_bike=motorcycles.pop()\n",
    "\n",
    "print(f'The bike that i owned last was {last_owned_bike.capitalize()}!')"
   ]
  },
  {
   "cell_type": "code",
   "execution_count": 39,
   "metadata": {},
   "outputs": [
    {
     "name": "stdout",
     "output_type": "stream",
     "text": [
      "['honda', 'suzuki', 'yahma', 'united']\n",
      "['suzuki', 'yahma', 'united']\n",
      "\n",
      " Sorry! honda is too expensive for me!!\n"
     ]
    }
   ],
   "source": [
    "motorcycles:list[str]=list((\"honda\",\"suzuki\",\"yahma\",\"united\"))\n",
    "print(motorcycles)\n",
    "to_expensive=\"honda\"\n",
    "motorcycles.remove(to_expensive)\n",
    "print(motorcycles)\n",
    "print(f\"\\n Sorry! {to_expensive} is too expensive for me!!\")\n"
   ]
  },
  {
   "cell_type": "markdown",
   "metadata": {},
   "source": [
    "# ASSINGMENT"
   ]
  },
  {
   "cell_type": "code",
   "execution_count": 21,
   "metadata": {},
   "outputs": [
    {
     "name": "stdout",
     "output_type": "stream",
     "text": [
      "ALI! you are invited to dinner.\n",
      "SAM! you are invited to dinner.\n",
      "Elon_Musk! you are invited to dinner.\n"
     ]
    }
   ],
   "source": [
    "              #     TRY IT YOURSELF\n",
    "\n",
    "# # 3-4   .. Guest List: If you could invite anyone, living or deceased, to dinner, who \n",
    "# would you invite? Make a list that includes at least three people you’d like to \n",
    "# invite to dinner. Then use your list to print a message to each person, inviting \n",
    "# them to dinner\n",
    "\n",
    "# guest list\n",
    "\n",
    "\n",
    "guest:list[str]=list((\"ALI\",\"SAM\",\"Elon_Musk\" ))\n",
    "\n",
    "print(f'{guest[0]}! you are invited to dinner.')\n",
    "\n",
    "print(f'{guest[1]}! you are invited to dinner.')\n",
    "\n",
    "print(f'{guest[2].title()}! you are invited to dinner.')\n",
    "\n"
   ]
  },
  {
   "cell_type": "code",
   "execution_count": 20,
   "metadata": {},
   "outputs": [
    {
     "name": "stdout",
     "output_type": "stream",
     "text": [
      "Sorry! SAM cant join us.\n",
      "NP Umer is invited.\n",
      "Now ['ALI', 'Umer', 'Elon_Musk'] are invited.\n"
     ]
    }
   ],
   "source": [
    "# 3.5 Changing guest list\n",
    "\n",
    "# Changing Guest List: You just heard that one of your guests can’t make the \n",
    "# dinner, so you need to send out a new set of invitations. You’ll have to think of \n",
    "# someone else to invite.\n",
    "# • Start with your program from Exercise 3-4. Add a print() call at the end of \n",
    "# your program, stating the name of the guest who can’t make it.\n",
    "# • Modify your list, replacing the name of the guest who can’t make it with the \n",
    "# name of the new person you are inviting.\n",
    "# • Print a second set of invitation messages, one for each person who is still in \n",
    "# your list\n",
    "\n",
    "\n",
    "guest:list[str]=list((\"ALI\",\"SAM\",\"Elon_Musk\" ))\n",
    "\n",
    "print(f'Sorry! {guest[1]} cant join us.')\n",
    "\n",
    "guest.pop(1)\n",
    "\n",
    "guest.insert(1,\"Umer\")\n",
    "\n",
    "print(f'NP {guest[1]} is invited.')\n",
    "\n",
    "print(f'Now {guest} are invited.')\n"
   ]
  },
  {
   "cell_type": "code",
   "execution_count": 16,
   "metadata": {},
   "outputs": [
    {
     "name": "stdout",
     "output_type": "stream",
     "text": [
      "['ALI', 'SAM', 'Elon_Musk'] GoodNews! we found a bigger table.\n",
      " so we will invite more members\n",
      "John you are invited to dinner.\n",
      "ALI you are invited to dinner.\n",
      "Alice you are invited to dinner.\n",
      "SAM you are invited to dinner.\n",
      "Elon_Musk you are invited to dinner.\n",
      "Alex you are invited to dinner.\n",
      "6 people are invited to dinner\n"
     ]
    }
   ],
   "source": [
    "# 3.6 More Guests\n",
    "\n",
    "# More Guests: You just found a bigger dinner table, so now more space is \n",
    "# available. Think of three more guests to invite to dinner.\n",
    "# • Start with your program from Exercise 3-4 or 3-5. Add a print() call to the \n",
    "# end of your program, informing people that you found a bigger table.\n",
    "# • Use insert() to add one new guest to the beginning of your list.\n",
    "# • Use insert() to add one new guest to the middle of your list.\n",
    "# • Use append() to add one new guest to the end of your list.\n",
    "# • Print a new set of invitation messages, one for each person in your list.\n",
    "\n",
    "\n",
    "guest:list[str]=list((\"ALI\",\"SAM\",\"Elon_Musk\" ))\n",
    "\n",
    "print(f'{guest} GoodNews! we found a bigger table.\\n so we will invite more members')\n",
    "\n",
    "guest.insert(0,'John')\n",
    "guest.insert(2,'Alice')\n",
    "guest.append('Alex')\n",
    "\n",
    "print(f'{guest[0]} you are invited to dinner.')\n",
    "print(f'{guest[1]} you are invited to dinner.')\n",
    "print(f'{guest[2]} you are invited to dinner.')\n",
    "print(f'{guest[3]} you are invited to dinner.')\n",
    "print(f'{guest[4]} you are invited to dinner.')\n",
    "print(f'{guest[5]} you are invited to dinner.')\n",
    "print(f'{len(guest)} people are invited to dinner')"
   ]
  },
  {
   "cell_type": "code",
   "execution_count": 14,
   "metadata": {},
   "outputs": [
    {
     "name": "stdout",
     "output_type": "stream",
     "text": [
      "['John', 'ALI', 'Alice', 'SAM', 'Elon_Musk', 'Alex'] are now invited\n",
      "\n",
      "SORRY! Our table has not arrived so wee have only space for 2 members\n",
      "\n",
      "Alex You are not invited.\n",
      "\n",
      "Elon_Musk You are not invited.\n",
      "\n",
      "SAM You are not invited.\n",
      "\n",
      "Alice You are not invited.\n",
      "\n",
      "John! Dont worry you are still invited \n",
      "ALI! Dont worry you are still invited \n",
      "[]\n",
      "0\n"
     ]
    }
   ],
   "source": [
    "# 3-7. Shrinking Guest List\n",
    "\n",
    "#  You just found out that your new dinner table won’t \n",
    "# arrive in time for the dinner, and now you have space for only two guests.\n",
    "# • Start with your program from Exercise 3-6. Add a new line that prints a \n",
    "# message saying that you can invite only two people for dinner.\n",
    "# • Use pop() to remove guests from your list one at a time until only two \n",
    "# names remain in your list. Each time you pop a name from your list, print a \n",
    "# message to that person letting them know you’re sorry you can’t invite them \n",
    "# to dinner.\n",
    "# • Print a message to each of the two people still on your list, letting them \n",
    "# know they’re still invited.\n",
    "# • Use del to remove the last two names from your list, so you have an empty \n",
    "# list. Print your list to make sure you actually have an empty list at the end of \n",
    "# your program\n",
    "\n",
    "\n",
    "guest:list[str]=list((\"ALI\",\"SAM\",\"Elon_Musk\" ))\n",
    "\n",
    "# print(f'{guest} GoodNews! we found a bigger table.\\n so we will invite more members')\n",
    "\n",
    "guest.insert(0,'John')\n",
    "guest.insert(2,'Alice')\n",
    "guest.append('Alex')\n",
    "\n",
    "print(f'{guest} are now invited\\n')\n",
    "\n",
    "print(\"SORRY! Our table has not arrived so wee have only space for 2 members\\n\")\n",
    "print(f\"{guest[5]} You are not invited.\\n\")\n",
    "guest.pop()\n",
    "print(f\"{guest[4]} You are not invited.\\n\")\n",
    "guest.pop()\n",
    "print(f\"{guest[3]} You are not invited.\\n\")\n",
    "guest.pop()\n",
    "print(f\"{guest[2]} You are not invited.\\n\")\n",
    "guest.pop()\n",
    "print(f\"{guest[0]}! Dont worry you are still invited \")\n",
    "print(f\"{guest[1]}! Dont worry you are still invited \")\n",
    "\n",
    "del guest[0:2]\n",
    "print(guest)\n",
    "\n",
    "\n",
    "\n"
   ]
  },
  {
   "cell_type": "markdown",
   "metadata": {},
   "source": [
    "===========================================x======================================x============================="
   ]
  },
  {
   "cell_type": "markdown",
   "metadata": {},
   "source": [
    "# Sorting a List Permanently with the sort() Method\n"
   ]
  },
  {
   "cell_type": "code",
   "execution_count": 11,
   "metadata": {},
   "outputs": [
    {
     "name": "stdout",
     "output_type": "stream",
     "text": [
      "['ahmed', 'ali', 'bilal', 'sam']\n",
      "['sam', 'bilal', 'ali', 'ahmed']\n"
     ]
    }
   ],
   "source": [
    "names:list[str] = list((\"bilal\",\"ahmed\",\"sam\",\"ali\"))\n",
    "names.sort()\n",
    "\n",
    "print(names)\n",
    "names.sort(reverse=True)\n",
    "print(names)"
   ]
  },
  {
   "cell_type": "markdown",
   "metadata": {},
   "source": [
    "# Sorting a List Temporarily with the sorted() Function\n"
   ]
  },
  {
   "cell_type": "code",
   "execution_count": 15,
   "metadata": {},
   "outputs": [
    {
     "name": "stdout",
     "output_type": "stream",
     "text": [
      "['bilal', 'ahmed', 'sam', 'ali']\n",
      "['ahmed', 'ali', 'bilal', 'sam']\n",
      "['bilal', 'ahmed', 'sam', 'ali']\n"
     ]
    }
   ],
   "source": [
    "names :list[str] =list((\"bilal\",\"ahmed\",\"sam\",\"ali\"))\n",
    "\n",
    "print(names)\n",
    "print(sorted(names))\n",
    "print(names)"
   ]
  },
  {
   "cell_type": "markdown",
   "metadata": {},
   "source": [
    "# Printing a List in Reverse Order\n"
   ]
  },
  {
   "cell_type": "code",
   "execution_count": 3,
   "metadata": {},
   "outputs": [
    {
     "name": "stdout",
     "output_type": "stream",
     "text": [
      "['bilal', 'ahmed', 'sam', 'ali']\n",
      "['ali', 'sam', 'ahmed', 'bilal']\n",
      "['bilal', 'ahmed', 'sam', 'ali']\n"
     ]
    }
   ],
   "source": [
    "names :list[str] =list((\"bilal\",\"ahmed\",\"sam\",\"ali\"))\n",
    "print(names)\n",
    "names.reverse()\n",
    "print(names)\n",
    "names.reverse()\n",
    "print(names)"
   ]
  },
  {
   "cell_type": "markdown",
   "metadata": {},
   "source": [
    "# Finding the Length of a List\n"
   ]
  },
  {
   "cell_type": "code",
   "execution_count": 6,
   "metadata": {},
   "outputs": [
    {
     "data": {
      "text/plain": [
       "3"
      ]
     },
     "execution_count": 6,
     "metadata": {},
     "output_type": "execute_result"
    }
   ],
   "source": [
    "cars :list[str]=list(('BMW','HONDA','TOYOTA'))\n",
    "len(cars)"
   ]
  },
  {
   "cell_type": "markdown",
   "metadata": {},
   "source": [
    "# TRY IT YOURSELF\n"
   ]
  },
  {
   "cell_type": "markdown",
   "metadata": {},
   "source": [
    "<!-- # -8. Seeing the World: Think of at least five places in the world you’d like \n",
    "to visit.\n",
    "• Store the locations in a list. Make sure the list is not in alphabetical order.\n",
    "• Print your list in its original order. Don’t worry about printing the list neatly; \n",
    "just print it as a raw Python list.\n",
    "• Use sorted() to print your list in alphabetical order without modifying the \n",
    "actual list.\n",
    "• Show that your list is still in its original order by printing it.\n",
    "• Use sorted() to print your list in reverse-alphabetical order without chang\u0002ing the order of the original list.\n",
    "• Show that your list is still in its original order by printing it again.\n",
    "• Use reverse() to change the order of your list. Print the list to show that its \n",
    "order has changed.\n",
    "• Use reverse() to change the order of your list again. Print the list to show \n",
    "it’s back to its original order.\n",
    "• Use sort() to change your list so it’s stored in alphabetical order. Print the \n",
    "list to show that its order has been changed.\n",
    "• Use sort() to change your list so it’s stored in reverse-alphabetical order. \n",
    "Print the list to show that its order has changed. -->"
   ]
  },
  {
   "cell_type": "code",
   "execution_count": 13,
   "metadata": {},
   "outputs": [
    {
     "name": "stdout",
     "output_type": "stream",
     "text": [
      "['naran', 'skrdu', 'los angles', 'america']\n",
      "['america', 'los angles', 'naran', 'skrdu']\n",
      "['naran', 'skrdu', 'los angles', 'america']\n",
      "['america', 'los angles', 'skrdu', 'naran']\n",
      "['skrdu', 'naran', 'los angles', 'america']\n"
     ]
    }
   ],
   "source": [
    "fav_places : list[str] = list((\"naran\",\"skrdu\",\"los angles\",\"america\"))\n",
    "print(fav_places)\n",
    "print(sorted(fav_places))\n",
    "print(fav_places)\n",
    "fav_places.reverse()\n",
    "print(fav_places)\n",
    "fav_places.sort(reverse=True)\n",
    "print(fav_places)"
   ]
  }
 ],
 "metadata": {
  "kernelspec": {
   "display_name": "python12",
   "language": "python",
   "name": "python3"
  },
  "language_info": {
   "codemirror_mode": {
    "name": "ipython",
    "version": 3
   },
   "file_extension": ".py",
   "mimetype": "text/x-python",
   "name": "python",
   "nbconvert_exporter": "python",
   "pygments_lexer": "ipython3",
   "version": "3.12.0"
  }
 },
 "nbformat": 4,
 "nbformat_minor": 2
}
