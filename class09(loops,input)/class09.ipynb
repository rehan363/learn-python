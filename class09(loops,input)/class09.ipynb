{
 "cells": [
  {
   "cell_type": "markdown",
   "metadata": {},
   "source": [
    "# loops and input from user\n",
    "* while\n",
    "* for\n",
    "* controls \n",
    "   * break\n",
    "   * continue\n",
    "   * pass\n",
    "* input from input function\n",
    "* input from console\n",
    "\n",
    "# loop working on itterative datatypes\n",
    "* list\n",
    "* dict\n",
    "* tupple\n",
    "* string"
   ]
  },
  {
   "cell_type": "markdown",
   "metadata": {},
   "source": [
    "# input from user\n",
    "* input function\n",
    "    * default type = string\n",
    "\n",
    "* sys.argv (for console input in abc.py file )\n",
    "    * default type = object"
   ]
  },
  {
   "cell_type": "markdown",
   "metadata": {},
   "source": [
    "# loops\n",
    "\n",
    "* while loop"
   ]
  },
  {
   "cell_type": "code",
   "execution_count": 9,
   "metadata": {},
   "outputs": [
    {
     "name": "stdout",
     "output_type": "stream",
     "text": [
      "curret_number is {current_number}\n",
      "curret_number is {current_number}\n",
      "curret_number is {current_number}\n",
      "curret_number is {current_number}\n",
      "curret_number is {current_number}\n",
      "curret_number is {current_number}\n",
      "curret_number is {current_number}\n",
      "curret_number is {current_number}\n",
      "curret_number is {current_number}\n",
      "curret_number is {current_number}\n",
      "curret_number is {current_number}\n",
      "curret_number is {current_number}\n",
      "curret_number is {current_number}\n",
      "curret_number is {current_number}\n",
      "curret_number is {current_number}\n",
      "curret_number is {current_number}\n",
      "curret_number is {current_number}\n",
      "curret_number is {current_number}\n",
      "curret_number is {current_number}\n"
     ]
    }
   ],
   "source": []
  },
  {
   "cell_type": "code",
   "execution_count": 2,
   "metadata": {},
   "outputs": [
    {
     "name": "stdout",
     "output_type": "stream",
     "text": [
      "current index is 0 and length is 102\n",
      "current index is 1 and length is 22\n",
      "current index is 2 and length is 313\n"
     ]
    }
   ],
   "source": [
    "l1 : list[int] = [102,22,313]\n",
    "\n",
    "index : int = 0\n",
    "\n",
    "while index < len(l1):\n",
    "    print(f\"current index is {index} and length is {l1[index]}\")\n",
    "    index +=1"
   ]
  },
  {
   "cell_type": "markdown",
   "metadata": {},
   "source": [
    "# example database managment system\n",
    "\n"
   ]
  },
  {
   "cell_type": "code",
   "execution_count": 12,
   "metadata": {},
   "outputs": [
    {
     "name": "stdout",
     "output_type": "stream",
     "text": [
      "write exit to stop this pogram.\n"
     ]
    },
    {
     "ename": "NameError",
     "evalue": "name 'data' is not defined",
     "output_type": "error",
     "traceback": [
      "\u001b[1;31m---------------------------------------------------------------------------\u001b[0m",
      "\u001b[1;31mNameError\u001b[0m                                 Traceback (most recent call last)",
      "Cell \u001b[1;32mIn[12], line 14\u001b[0m\n\u001b[0;32m     12\u001b[0m     \u001b[38;5;28;01mbreak\u001b[39;00m\n\u001b[0;32m     13\u001b[0m \u001b[38;5;28;01melse\u001b[39;00m:\n\u001b[1;32m---> 14\u001b[0m     data\u001b[38;5;241m.\u001b[39mappend({\u001b[38;5;124m\"\u001b[39m\u001b[38;5;124mname\u001b[39m\u001b[38;5;124m\"\u001b[39m : name,\n\u001b[0;32m     15\u001b[0m             \u001b[38;5;124m\"\u001b[39m\u001b[38;5;124meducation\u001b[39m\u001b[38;5;124m\"\u001b[39m : education})\n\u001b[0;32m     18\u001b[0m display(data)\n",
      "\u001b[1;31mNameError\u001b[0m: name 'data' is not defined"
     ]
    }
   ],
   "source": [
    "data : list[dict[str,str]]\n",
    "\n",
    "flag : bool = True\n",
    "\n",
    "while flag:\n",
    "    print(\"write exit to stop this pogram.\")\n",
    "    name : str = input(\"enter your name.\\t\")\n",
    "    education : str = input(\"enter your education.\")\n",
    "\n",
    "    if name  in [\"exit\"] or education  in [\"exit\"]:\n",
    "        flag = False\n",
    "        break\n",
    "    else:\n",
    "        data.append({\"name\" : name,\n",
    "                \"education\" : education})\n",
    "\n",
    "\n",
    "    display(data)\n"
   ]
  },
  {
   "cell_type": "code",
   "execution_count": 13,
   "metadata": {},
   "outputs": [
    {
     "name": "stdout",
     "output_type": "stream",
     "text": [
      "write exit to stop this program.\n",
      "write exit to stop this program.\n",
      "Name: h, Education: j\n"
     ]
    }
   ],
   "source": [
    "data = []  # Initialize an empty list to store the data\n",
    "\n",
    "flag = True\n",
    "\n",
    "while flag:\n",
    "    print(\"write exit to stop this program.\")\n",
    "    name = input(\"enter your name.\\t\")\n",
    "    education = input(\"enter your education.\")\n",
    "\n",
    "    if name.lower() == \"exit\" or education.lower() == \"exit\":\n",
    "        flag = False\n",
    "        break\n",
    "\n",
    "    data.append({\"name\": name, \"education\": education})\n",
    "\n",
    "# Now you can use the 'data' list to display or process the information\n",
    "for person in data:\n",
    "    print(f\"Name: {person['name']}, Education: {person['education']}\")"
   ]
  },
  {
   "cell_type": "markdown",
   "metadata": {},
   "source": [
    "# controls\n",
    "* break\n",
    "* continue\n",
    "    * skip\n",
    "* pass"
   ]
  },
  {
   "cell_type": "code",
   "execution_count": 24,
   "metadata": {},
   "outputs": [
    {
     "name": "stdout",
     "output_type": "stream",
     "text": [
      "1\n",
      "3\n",
      "4\n",
      "5\n",
      "6\n",
      "7\n",
      "8\n",
      "9\n",
      "10\n"
     ]
    }
   ],
   "source": [
    "for i in range(1,11):\n",
    "    if i ==2:\n",
    "        continue  # it will ignore 2 and continue rest code\n",
    "    print(i)"
   ]
  },
  {
   "cell_type": "code",
   "execution_count": 25,
   "metadata": {},
   "outputs": [],
   "source": [
    "# pass\n",
    "for i in range(1,9):\n",
    "    pass     #(it will not generate an error allowing us to write logic any time)"
   ]
  }
 ],
 "metadata": {
  "kernelspec": {
   "display_name": "base",
   "language": "python",
   "name": "python3"
  },
  "language_info": {
   "codemirror_mode": {
    "name": "ipython",
    "version": 3
   },
   "file_extension": ".py",
   "mimetype": "text/x-python",
   "name": "python",
   "nbconvert_exporter": "python",
   "pygments_lexer": "ipython3",
   "version": "3.12.4"
  }
 },
 "nbformat": 4,
 "nbformat_minor": 2
}
