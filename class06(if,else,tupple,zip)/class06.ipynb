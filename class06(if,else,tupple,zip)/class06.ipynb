{
 "cells": [
  {
   "cell_type": "markdown",
   "metadata": {},
   "source": [
    "#Union\n",
    "* union is used to assign multiple datatypes in one variable"
   ]
  },
  {
   "cell_type": "code",
   "execution_count": 6,
   "metadata": {},
   "outputs": [
    {
     "name": "stdout",
     "output_type": "stream",
     "text": [
      "7.0\n"
     ]
    }
   ],
   "source": [
    "from typing import Union\n",
    "\n",
    "grade : Union[int , float] = 7.0\n",
    "\n",
    "print(grade)"
   ]
  },
  {
   "cell_type": "code",
   "execution_count": 11,
   "metadata": {},
   "outputs": [],
   "source": [
    "# # GRADING SYSTEM;\n",
    "\n",
    "# percentage : union[int , float] = int(input(\"Enter your percentage:\\n\"))\n",
    "# # grade : union[str , None] \n",
    "\n",
    "# if percentage >= 90 :\n",
    "#     print(f\"Your percentage is {percentage} and your grade is A+.\")\n",
    "# elif percentage >=80:\n",
    "#     print(f\"Your percentage is {percentage} and your grade is A.\")\n",
    "# elif percentage >=70 :\n",
    "#     print(f\"Your percentage is {percentage} and your grade is B+.\")\n",
    "# elif percentage >=60:\n",
    "#     print(f\"Your percentage is {percentage} and your grade is B.\")\n",
    "# elif percentage >=40:\n",
    "#     print(f\"Your percentage  is {percentage} and your grade is C.\") \n",
    "# else:\n",
    "#     print(\"You percentage is {percentage} and you are fail !\")\n",
    "\n",
    "\n",
    "\n",
    "\n",
    "# the above code is not neat and clean\n",
    " "
   ]
  },
  {
   "cell_type": "code",
   "execution_count": 9,
   "metadata": {},
   "outputs": [
    {
     "name": "stdout",
     "output_type": "stream",
     "text": [
      "Your percentage is 55.0 and your grade is C.\n"
     ]
    }
   ],
   "source": [
    "#GRADING SYSTEM;\n",
    "\n",
    "def calculate_grade(percentage):\n",
    "\n",
    "    if percentage >=90:\n",
    "        return \"A+\"\n",
    "    elif percentage >=80:\n",
    "        return \"A\"\n",
    "    elif percentage >=70:\n",
    "        return \"B+\"\n",
    "    elif percentage >=60:\n",
    "        return \"B\"\n",
    "    elif percentage >=50:\n",
    "        return \"C\"\n",
    "    else:\n",
    "        print(\"You are fail!\")\n",
    "\n",
    "#get the percentage from user:\n",
    "\n",
    "percentage   = float(input(\"Enter the percentage to get grades:\"))\n",
    "if percentage <= 100:\n",
    "    grade =calculate_grade(percentage)\n",
    "    print(f\"Your percentage is {percentage} and your grade is {grade}.\")\n",
    "else:\n",
    "    print(f\"Please enter the percentage with in 100%\")"
   ]
  },
  {
   "cell_type": "code",
   "execution_count": 12,
   "metadata": {},
   "outputs": [
    {
     "name": "stdout",
     "output_type": "stream",
     "text": [
      "rwj\n"
     ]
    }
   ],
   "source": [
    "#we can use multiple assign multiple types by using | as below:(this is the alternate of union methood,)\n",
    "\n",
    "name : int | str = input(\"enter name...\")\n",
    "print(name)"
   ]
  },
  {
   "cell_type": "markdown",
   "metadata": {},
   "source": [
    "#list"
   ]
  },
  {
   "cell_type": "code",
   "execution_count": null,
   "metadata": {},
   "outputs": [],
   "source": [
    "#list               0         1     2\n",
    "data : list[str] =[\"rehan\",\"ali\",\"ahmed\"]"
   ]
  },
  {
   "cell_type": "markdown",
   "metadata": {},
   "source": [
    "#set (datatypes)"
   ]
  },
  {
   "cell_type": "code",
   "execution_count": 30,
   "metadata": {},
   "outputs": [
    {
     "name": "stdout",
     "output_type": "stream",
     "text": [
      "{0, 1, 2, 3, 4, 5, 6, 7, 9}\n"
     ]
    }
   ],
   "source": [
    "data : set = {1,3,9,6,2,5,3,4,0,3,7}  # arrange all the integers but we cant apply indexing to it\n",
    "                                      # return unique\n",
    "print(data)"
   ]
  },
  {
   "cell_type": "code",
   "execution_count": 34,
   "metadata": {},
   "outputs": [
    {
     "data": {
      "text/plain": [
       "['clear',\n",
       " 'copy',\n",
       " 'fromkeys',\n",
       " 'get',\n",
       " 'items',\n",
       " 'keys',\n",
       " 'pop',\n",
       " 'popitem',\n",
       " 'setdefault',\n",
       " 'update',\n",
       " 'values']"
      ]
     },
     "execution_count": 34,
     "metadata": {},
     "output_type": "execute_result"
    }
   ],
   "source": [
    "[i for i in dir(data) if \"__\" not in i]"
   ]
  },
  {
   "cell_type": "markdown",
   "metadata": {},
   "source": [
    "#dictionary\n"
   ]
  },
  {
   "cell_type": "code",
   "execution_count": 19,
   "metadata": {},
   "outputs": [
    {
     "name": "stdout",
     "output_type": "stream",
     "text": [
      "{'education': 'bscs', 'fname': 'khalid', 'name': 'rehan'}\n",
      "rehan\n",
      "khalid\n",
      "bscs\n"
     ]
    }
   ],
   "source": [
    "from typing import Dict,Union,Optional    \n",
    "import pprint                          #pprint is used for printing json data\\formate or lists in beautiful way.\n",
    "\n",
    "key = Union[int,str]  #we can also crate our custom type as created below\n",
    "value = Union[str,int,float,set]\n",
    "\n",
    "data : Dict [value,key] ={\n",
    "                                \"name\":\"rehan\",\n",
    "                                \"fname\":\"khalid\",\n",
    "                                \"education\":\"bscs\",\n",
    "}\n",
    "\n",
    "pprint.pprint(data)  \n",
    "  # 1st pprint is name of pakage and 2nd pprint is calling fuctiion that is made inside pakage of pprint.\n",
    "\n",
    "print(data[\"name\"])\n",
    "print(data[\"fname\"])\n",
    "print(data[\"education\"])"
   ]
  },
  {
   "cell_type": "code",
   "execution_count": 33,
   "metadata": {},
   "outputs": [
    {
     "name": "stdout",
     "output_type": "stream",
     "text": [
      "{10: 'pakistan', 'education': 'bscs', 'fname': 'khalid', 'name': 'rehan'}\n",
      "rehan\n",
      "khalid\n",
      "bscs\n",
      "pakistan\n",
      "\n"
     ]
    }
   ],
   "source": [
    "#disadvantages of any\n",
    "from typing import Dict,Union,Optional    \n",
    "import pprint                          #pprint is used for printing json data\\formate or lists in beautiful way.\n",
    "\n",
    "key = Union[int,str]  #we can also crate our custom type as created below\n",
    "value = Union[str,int,float,set]\n",
    "\n",
    "data : Dict [value,key] ={      #keys  #values\n",
    "                                \"name\":\"rehan\",\n",
    "                                \"fname\":\"khalid\",\n",
    "                                \"education\":\"bscs\",\n",
    "                                10:\"pakistan\",\n",
    "                               # [1,2,3]:\"lahore\", (error)  #TypeError: unhashable type: 'list'\n",
    "                               \n",
    "}\n",
    "\n",
    "pprint.pprint(data)  \n",
    "  # 1st pprint is name of pakage and 2nd pprint is calling fuctiion that is made inside pakage of pprint.\n",
    "\n",
    "print(data[\"name\"])\n",
    "print(data[\"fname\"])\n",
    "print(data[\"education\"])\n",
    "print(data[10])\n",
    "print()"
   ]
  },
  {
   "cell_type": "code",
   "execution_count": 38,
   "metadata": {},
   "outputs": [
    {
     "name": "stdout",
     "output_type": "stream",
     "text": [
      "{'name': ['rehan'], 'fname': ['khalid'], 'age': ['19']}\n"
     ]
    }
   ],
   "source": [
    "data : Dict[key,value] ={}\n",
    "sname : str = input(\"enter name!\\n\")\n",
    "fname : str = input(\"enter father_name!\\n\")\n",
    "age : int= input(\"enter age!\\n\")\n",
    "\n",
    "\n",
    "data [\"name\"] =[sname]\n",
    "data [\"fname\"] =[fname]\n",
    "data [\"age\"] =[age]\n",
    "\n",
    "\n",
    "print(data)"
   ]
  },
  {
   "cell_type": "markdown",
   "metadata": {},
   "source": [
    "#get methood"
   ]
  },
  {
   "cell_type": "code",
   "execution_count": 55,
   "metadata": {},
   "outputs": [
    {
     "name": "stdout",
     "output_type": "stream",
     "text": [
      "{10: 'pakistan', 'education': 'bscs', 'fname': 'khalid', 'name': 'rehan'}\n",
      "na\n",
      "rehan\n",
      "dict_keys(['name', 'fname', 'education', 10])\n",
      "dict_values(['rehan', 'khalid', 'bscs', 'pakistan'])\n",
      "dict_items([('name', 'rehan'), ('fname', 'khalid'), ('education', 'bscs'), (10, 'pakistan')])\n",
      "name\n",
      "fname\n",
      "education\n",
      "10\n"
     ]
    }
   ],
   "source": [
    "#disadvantages of any\n",
    "from typing import Dict,Union,Optional    \n",
    "import pprint                          #pprint is used for printing json data\\formate or lists in beautiful way.\n",
    "\n",
    "key = Union[int,str]  #we can also crate our custom type as created below\n",
    "value = Union[str,int,float,set]\n",
    "\n",
    "data : Dict [value,key] ={      #keys  #values\n",
    "                                \"name\":\"rehan\",\n",
    "                                \"fname\":\"khalid\",\n",
    "                                \"education\":\"bscs\",\n",
    "                                10:\"pakistan\",\n",
    "                               # [1,2,3]:\"lahore\", (error)  #TypeError: unhashable type: 'list'\n",
    "                               \n",
    "}\n",
    "\n",
    "pprint.pprint(data)  \n",
    "  # 1st pprint is name of pakage and 2nd pprint is calling fuctiion that is made inside pakage of pprint.\n",
    "\n",
    "print (data.get(\"pakistan\",\"na\")) #get function is very important bcz it prevents crash of whole application it will search the name in dic if not found it will simply through error that we provided\n",
    "print (data.get(\"name\",\"na\"))\n",
    "# print(data[\"ali\"])      error ;  KeyError: 'ali' crash whole application\n",
    "\n",
    "print(data.keys())    #gives keys\n",
    "print(data.values())  #gives values\n",
    "print(data.items())\n",
    "\n",
    "\n",
    "\n",
    "for k in data.keys(): \n",
    "    print(k)\n"
   ]
  },
  {
   "cell_type": "code",
   "execution_count": 59,
   "metadata": {},
   "outputs": [
    {
     "name": "stdout",
     "output_type": "stream",
     "text": [
      "{10: 'pakistan', 'education': 'bscs', 'fname': 'khalid', 'name': 'rehan'}\n",
      "na\n",
      "rehan\n",
      "dict_keys(['name', 'fname', 'education', 10])\n",
      "dict_values(['rehan', 'khalid', 'bscs', 'pakistan'])\n",
      "dict_items([('name', 'rehan'), ('fname', 'khalid'), ('education', 'bscs'), (10, 'pakistan')])\n"
     ]
    },
    {
     "data": {
      "text/plain": [
       "{'rehan': 'name', 'khalid': 'fname', 'bscs': 'education', 'pakistan': 10}"
      ]
     },
     "execution_count": 59,
     "metadata": {},
     "output_type": "execute_result"
    }
   ],
   "source": [
    "#disadvantages of any\n",
    "from typing import Dict,Union,Optional    \n",
    "import pprint                          #pprint is used for printing json data\\formate or lists in beautiful way.\n",
    "\n",
    "key = Union[int,str]  #we can also crate our custom type as created below\n",
    "value = Union[str,int,float,set]\n",
    "\n",
    "data : Dict [value,key] ={      #keys  #values\n",
    "                                \"name\":\"rehan\",\n",
    "                                \"fname\":\"khalid\",\n",
    "                                \"education\":\"bscs\",\n",
    "                                10:\"pakistan\",\n",
    "                               # [1,2,3]:\"lahore\", (error)  #TypeError: unhashable type: 'list'\n",
    "                               \n",
    "}\n",
    "\n",
    "pprint.pprint(data)  \n",
    "  # 1st pprint is name of pakage and 2nd pprint is calling fuctiion that is made inside pakage of pprint.\n",
    "\n",
    "print (data.get(\"pakistan\",\"na\")) #get function is very important bcz it prevents(server from getting down) crash of whole application it will search the name in dic if not found it will simply through error that we provided\n",
    "print (data.get(\"name\",\"na\"))\n",
    "# print(data[\"ali\"])      error ;  KeyError: 'ali' crash whole application\n",
    "\n",
    "print(data.keys())    #gives keys\n",
    "print(data.values())  #gives values\n",
    "print(data.items())\n",
    "\n",
    "#list comprehensive\n",
    "\n",
    "{k:v for k,v in data.items()}\n",
    "\n",
    "#for shufling(very easy methood)\n",
    "\n",
    "{v:k for k,v in data.items()}\n"
   ]
  },
  {
   "cell_type": "markdown",
   "metadata": {},
   "source": [
    "#shufling very easy in python"
   ]
  },
  {
   "cell_type": "code",
   "execution_count": 60,
   "metadata": {},
   "outputs": [
    {
     "name": "stdout",
     "output_type": "stream",
     "text": [
      "6 5\n"
     ]
    }
   ],
   "source": [
    "a =5\n",
    "    b=6\n",
    "\n",
    "    a,b = b,a\n",
    "    print(a,b)"
   ]
  },
  {
   "cell_type": "code",
   "execution_count": 64,
   "metadata": {},
   "outputs": [
    {
     "name": "stdout",
     "output_type": "stream",
     "text": [
      "{}\n"
     ]
    },
    {
     "data": {
      "text/plain": [
       "{'id': None, 'name': None, 'pasword': None}"
      ]
     },
     "execution_count": 64,
     "metadata": {},
     "output_type": "execute_result"
    }
   ],
   "source": [
    "keys : list [str] =[\"id\",\"name\",\"pasword\"]\n",
    "\n",
    "data : Dict [key,value] = {}\n",
    "\n",
    "print (data)\n",
    "\n",
    "data.fromkeys(keys)"
   ]
  },
  {
   "cell_type": "code",
   "execution_count": null,
   "metadata": {},
   "outputs": [],
   "source": []
  }
 ],
 "metadata": {
  "kernelspec": {
   "display_name": "base",
   "language": "python",
   "name": "python3"
  },
  "language_info": {
   "codemirror_mode": {
    "name": "ipython",
    "version": 3
   },
   "file_extension": ".py",
   "mimetype": "text/x-python",
   "name": "python",
   "nbconvert_exporter": "python",
   "pygments_lexer": "ipython3",
   "version": "3.12.4"
  }
 },
 "nbformat": 4,
 "nbformat_minor": 2
}
