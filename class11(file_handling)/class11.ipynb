{
 "cells": [
  {
   "cell_type": "markdown",
   "metadata": {},
   "source": [
    "# handles run time error\n",
    "\n",
    "* try \n",
    "    logic\n",
    "\n",
    "* except(error_class01,error_class02):\n",
    "    * if error occur run this block\n",
    "\n",
    "* else:\n",
    "    * if error not occured\n",
    "* finally:\n",
    "    * always run\n",
    "    \n",
    "\n"
   ]
  },
  {
   "cell_type": "code",
   "execution_count": 21,
   "metadata": {},
   "outputs": [
    {
     "ename": "ZeroDivisionError",
     "evalue": "division by zero",
     "output_type": "error",
     "traceback": [
      "\u001b[1;31m---------------------------------------------------------------------------\u001b[0m",
      "\u001b[1;31mZeroDivisionError\u001b[0m                         Traceback (most recent call last)",
      "Cell \u001b[1;32mIn[21], line 1\u001b[0m\n\u001b[1;32m----> 1\u001b[0m \u001b[38;5;28mprint\u001b[39m(\u001b[38;5;241m7\u001b[39m\u001b[38;5;241m/\u001b[39m\u001b[38;5;241m0\u001b[39m)\n",
      "\u001b[1;31mZeroDivisionError\u001b[0m: division by zero"
     ]
    }
   ],
   "source": [
    "print(7/0)\n"
   ]
  },
  {
   "cell_type": "code",
   "execution_count": null,
   "metadata": {},
   "outputs": [
    {
     "name": "stdout",
     "output_type": "stream",
     "text": [
      "there is error!\n"
     ]
    }
   ],
   "source": [
    "try:\n",
    "    print(7/0)\n",
    "\n",
    "except(ZeroDivisionError):\n",
    "    print(\"there is error!\")\n",
    "    "
   ]
  },
  {
   "cell_type": "code",
   "execution_count": null,
   "metadata": {},
   "outputs": [
    {
     "name": "stdout",
     "output_type": "stream",
     "text": [
      "logic1\n",
      "logic2\n",
      "logic3\n",
      "logic4\n",
      "there is dividion error\n",
      "logic6\n",
      "logic7\n"
     ]
    }
   ],
   "source": [
    "print(\"logic1\")\n",
    "print(\"logic2\")\n",
    "print(\"logic3\")\n",
    "print(\"logic4\")\n",
    "try:\n",
    "    print(5/0)\n",
    "\n",
    "except(ZeroDivisionError):\n",
    "    print(\"there is dividion error\")\n",
    "print(\"logic6\")\n",
    "print(\"logic7\")\n",
    "\n",
    "\n"
   ]
  },
  {
   "cell_type": "code",
   "execution_count": null,
   "metadata": {},
   "outputs": [
    {
     "data": {
      "text/plain": [
       "34"
      ]
     },
     "execution_count": 16,
     "metadata": {},
     "output_type": "execute_result"
    }
   ],
   "source": [
    "from pathlib import Path\n",
    "\n",
    "# Define the file path (using an absolute path can help avoid path issues)\n",
    "path = Path('guest.txt')\n",
    "\n",
    "# Attempt to write text to the file\n",
    "\n",
    "name :str = input(\"enter your name\")\n",
    "father_name :str = input(\"enter your father name\")\n",
    "\n",
    "content = f\"Name : {name} , father_name : {father_name}\"\n",
    "\n",
    "\n",
    "path.write_text(content)\n"
   ]
  },
  {
   "cell_type": "code",
   "execution_count": null,
   "metadata": {},
   "outputs": [
    {
     "name": "stdout",
     "output_type": "stream",
     "text": [
      "zero division error cant divide.\n"
     ]
    }
   ],
   "source": [
    "try:\n",
    "   print(5/0)\n",
    "\n",
    "except(ZeroDivisionError):\n",
    "    print(\"zero division error cant divide.\")"
   ]
  },
  {
   "cell_type": "code",
   "execution_count": null,
   "metadata": {},
   "outputs": [
    {
     "name": "stdout",
     "output_type": "stream",
     "text": [
      "1.6666666666666667\n",
      "something went wrong!\n"
     ]
    }
   ],
   "source": [
    "try:\n",
    "    print(5/3)\n",
    "    open(\"xyz.txt\")\n",
    "    # print(xyx)\n",
    "    \n",
    "    \n",
    "except(ZeroDivisionError):\n",
    "    print(\"ZeroDivisionError\")\n",
    "\n",
    "except(NameError):\n",
    "    print(\"NameError\")\n",
    "\n",
    "except:\n",
    "    print(\"something went wrong!\")\n"
   ]
  },
  {
   "cell_type": "code",
   "execution_count": null,
   "metadata": {},
   "outputs": [
    {
     "name": "stdout",
     "output_type": "stream",
     "text": [
      "some thing is wrong !\n",
      "name 'age' is not defined\n"
     ]
    }
   ],
   "source": [
    "try:\n",
    "    print(age)\n",
    "\n",
    "except Exception as e:\n",
    "    print(f\"some thing is wrong !\\n{e}\")"
   ]
  },
  {
   "cell_type": "code",
   "execution_count": null,
   "metadata": {},
   "outputs": [
    {
     "name": "stdout",
     "output_type": "stream",
     "text": [
      "some thing went wrong \n",
      "name 'l1' is not defined\n"
     ]
    }
   ],
   "source": [
    "try:\n",
    "    print(l1[20])\n",
    "\n",
    "except Exception as e:\n",
    "    print(f\"some thing went wrong \\n{e}\")"
   ]
  },
  {
   "cell_type": "code",
   "execution_count": null,
   "metadata": {},
   "outputs": [
    {
     "name": "stdout",
     "output_type": "stream",
     "text": [
      "1 rehan 18\n"
     ]
    }
   ],
   "source": [
    "class student_card():\n",
    "    def __init__(self , roll_no:int , age:str,name:str )->None:\n",
    "        if age<18 or age>60:\n",
    "            raise StudentAgeError(\"you are not eligible for pogram.. \")\n",
    "        self.roll_no = roll_no\n",
    "        self.age = age\n",
    "        self.name= name\n",
    "\n",
    "\n",
    "\n",
    "\n",
    "\n",
    "class StudentAgeError(Exception):   #custom error class\n",
    "    pass\n",
    "\n",
    "\n",
    "\n",
    "student1 = student_card(1,18 ,\"rehan\")\n",
    "\n",
    "print(student1.roll_no , student1.name , student1.age)"
   ]
  },
  {
   "cell_type": "code",
   "execution_count": null,
   "metadata": {},
   "outputs": [
    {
     "ename": "StudentAgeError",
     "evalue": "you are not eligible for pogram.. ",
     "output_type": "error",
     "traceback": [
      "\u001b[1;31m---------------------------------------------------------------------------\u001b[0m",
      "\u001b[1;31mStudentAgeError\u001b[0m                           Traceback (most recent call last)",
      "Cell \u001b[1;32mIn[7], line 1\u001b[0m\n\u001b[1;32m----> 1\u001b[0m student2 \u001b[38;5;241m=\u001b[39m student_card(\u001b[38;5;241m11\u001b[39m,\u001b[38;5;241m61\u001b[39m,\u001b[38;5;124m\"\u001b[39m\u001b[38;5;124mhamad\u001b[39m\u001b[38;5;124m\"\u001b[39m)\n\u001b[0;32m      2\u001b[0m \u001b[38;5;28mprint\u001b[39m(student2)\n",
      "Cell \u001b[1;32mIn[6], line 4\u001b[0m, in \u001b[0;36mstudent_card.__init__\u001b[1;34m(self, roll_no, age, name)\u001b[0m\n\u001b[0;32m      2\u001b[0m \u001b[38;5;28;01mdef\u001b[39;00m \u001b[38;5;21m__init__\u001b[39m(\u001b[38;5;28mself\u001b[39m , roll_no:\u001b[38;5;28mint\u001b[39m , age:\u001b[38;5;28mstr\u001b[39m,name:\u001b[38;5;28mstr\u001b[39m )\u001b[38;5;241m-\u001b[39m\u001b[38;5;241m>\u001b[39m\u001b[38;5;28;01mNone\u001b[39;00m:\n\u001b[0;32m      3\u001b[0m     \u001b[38;5;28;01mif\u001b[39;00m age\u001b[38;5;241m<\u001b[39m\u001b[38;5;241m18\u001b[39m \u001b[38;5;129;01mor\u001b[39;00m age\u001b[38;5;241m>\u001b[39m\u001b[38;5;241m60\u001b[39m:\n\u001b[1;32m----> 4\u001b[0m         \u001b[38;5;28;01mraise\u001b[39;00m StudentAgeError(\u001b[38;5;124m\"\u001b[39m\u001b[38;5;124myou are not eligible for pogram.. \u001b[39m\u001b[38;5;124m\"\u001b[39m)\n\u001b[0;32m      5\u001b[0m     \u001b[38;5;28mself\u001b[39m\u001b[38;5;241m.\u001b[39mroll_no \u001b[38;5;241m=\u001b[39m roll_no\n\u001b[0;32m      6\u001b[0m     \u001b[38;5;28mself\u001b[39m\u001b[38;5;241m.\u001b[39mage \u001b[38;5;241m=\u001b[39m age\n",
      "\u001b[1;31mStudentAgeError\u001b[0m: you are not eligible for pogram.. "
     ]
    }
   ],
   "source": [
    "student2 = student_card(11,61,\"hamad\")            #my custom error.\n",
    "print(student2)"
   ]
  },
  {
   "cell_type": "markdown",
   "metadata": {},
   "source": [
    "# how to open txt file directly."
   ]
  },
  {
   "cell_type": "code",
   "execution_count": null,
   "metadata": {},
   "outputs": [
    {
     "name": "stdout",
     "output_type": "stream",
     "text": [
      "Name : rehan , father_name : ahmed\n"
     ]
    }
   ],
   "source": [
    "data = open(\"./guest.txt\")\n",
    "print(data.read())"
   ]
  },
  {
   "cell_type": "code",
   "execution_count": null,
   "metadata": {},
   "outputs": [
    {
     "data": {
      "text/plain": [
       "{'_CHUNK_SIZE',\n",
       " '_checkClosed',\n",
       " '_checkReadable',\n",
       " '_checkSeekable',\n",
       " '_checkWritable',\n",
       " '_finalizing',\n",
       " 'buffer',\n",
       " 'close',\n",
       " 'closed',\n",
       " 'detach',\n",
       " 'encoding',\n",
       " 'errors',\n",
       " 'fileno',\n",
       " 'flush',\n",
       " 'isatty',\n",
       " 'line_buffering',\n",
       " 'mode',\n",
       " 'name',\n",
       " 'newlines',\n",
       " 'read',\n",
       " 'readable',\n",
       " 'readline',\n",
       " 'readlines',\n",
       " 'reconfigure',\n",
       " 'seek',\n",
       " 'seekable',\n",
       " 'tell',\n",
       " 'truncate',\n",
       " 'writable',\n",
       " 'write',\n",
       " 'write_through',\n",
       " 'writelines'}"
      ]
     },
     "execution_count": 10,
     "metadata": {},
     "output_type": "execute_result"
    }
   ],
   "source": [
    "{i for i in  dir(data) if \"__\"not in i}"
   ]
  },
  {
   "cell_type": "code",
   "execution_count": null,
   "metadata": {},
   "outputs": [
    {
     "name": "stdout",
     "output_type": "stream",
     "text": [
      "Name : rehan , father_name : ahmed\n",
      "\n"
     ]
    }
   ],
   "source": [
    "with open(\"./guest.txt\") as file:                    #auto connectivity and disconectivity with file\n",
    "    print(file.read())\n"
   ]
  },
  {
   "cell_type": "code",
   "execution_count": null,
   "metadata": {},
   "outputs": [
    {
     "name": "stdout",
     "output_type": "stream",
     "text": [
      "Name : rehan , father_name : ahmed\n",
      "\n"
     ]
    }
   ],
   "source": [
    "with open(\"./guest.txt\") as file:                    #auto connectivity and disconectivity with file\n",
    "\n",
    "  \n",
    "    print(file.readline())          #read only one line"
   ]
  },
  {
   "cell_type": "code",
   "execution_count": null,
   "metadata": {},
   "outputs": [
    {
     "name": "stdout",
     "output_type": "stream",
     "text": [
      "['Name : rehan , father_name : ahmed\\n', 'hello1\\n']\n"
     ]
    }
   ],
   "source": [
    "with open(\"./guest.txt\") as file:  \n",
    "\n",
    "  print(file.readlines())           #read all lines one by one.\n"
   ]
  },
  {
   "cell_type": "code",
   "execution_count": null,
   "metadata": {},
   "outputs": [
    {
     "name": "stdout",
     "output_type": "stream",
     "text": [
      "['Name : rehan , father_name : ahmed\\n', 'hello1\\n']\n"
     ]
    }
   ],
   "source": [
    "with open(\"./guest.txt\",'r') as file:  #only open a file that is readable.\n",
    "                                  #we cant write in this file bcz \"r\" is only for readable. it will give(UnsupportedOperation: not writable)ERROR.\n",
    "  print(file.readlines()[:2])   \n",
    "  #file.write('hello')"
   ]
  },
  {
   "cell_type": "code",
   "execution_count": null,
   "metadata": {},
   "outputs": [
    {
     "name": "stdout",
     "output_type": "stream",
     "text": [
      "5\n"
     ]
    }
   ],
   "source": [
    "with open(\"./guest.txt\" , \"w\") as file:\n",
    "    print(file.write(\"hello\"))\n",
    "     #we cant write in this file bcz \"w\" is only for writeable. it will give(UnsupportedOperation: not readable)ERROR.\n",
    "     #all previous text will be removed\n",
    "\n",
    "   # print(file.read())"
   ]
  },
  {
   "cell_type": "code",
   "execution_count": null,
   "metadata": {},
   "outputs": [
    {
     "name": "stdout",
     "output_type": "stream",
     "text": [
      "hellohow are you.\n",
      "After hellohow are you.\n"
     ]
    }
   ],
   "source": [
    "with open (\"./guest.txt\",\"r+\") as file:\n",
    "    print(file.read())\n",
    "    #print(file.write(\"how are you.\"))\n",
    "    file.seek(0)\n",
    "    print(\"After\",file.read())"
   ]
  },
  {
   "cell_type": "markdown",
   "metadata": {},
   "source": [
    "# 'w' creat file if not exist + we can also write text in file but cant read text."
   ]
  },
  {
   "cell_type": "code",
   "execution_count": null,
   "metadata": {},
   "outputs": [],
   "source": [
    "with open(\"./guest02.txt\",'w') as file:\n",
    "    file.write(\"hi this is new file..\")     # 'w' will create a file + write a text in this file.\n",
    "    #print(file.read())                     # but this will not allow you to read it will give eror"
   ]
  },
  {
   "cell_type": "markdown",
   "metadata": {},
   "source": [
    "'a' "
   ]
  },
  {
   "cell_type": "code",
   "execution_count": null,
   "metadata": {},
   "outputs": [],
   "source": [
    "with open(\"./guest02.txt\",'a') as file:\n",
    "    file.write(\"hi this is new file..\")     # 'a' will create a file + write new text at the end.\n",
    "    #print(file.read())  "
   ]
  },
  {
   "cell_type": "markdown",
   "metadata": {},
   "source": [
    "'x'(make new file)"
   ]
  },
  {
   "cell_type": "code",
   "execution_count": null,
   "metadata": {},
   "outputs": [],
   "source": [
    "with open('./guest.txt','x'):\n",
    "    print()"
   ]
  },
  {
   "cell_type": "markdown",
   "metadata": {
    "vscode": {
     "languageId": "html"
    }
   },
   "source": [
    "https://stackoverflow.com/questions/6648493/how-to-open-a-file-for-both-reading-and-writing  \n",
    "\n",
    "link for table of excess modifiers"
   ]
  },
  {
   "cell_type": "markdown",
   "metadata": {},
   "source": [
    "# read some real world data files\n",
    "* images\n",
    "* csv\n",
    "* live camera\n"
   ]
  },
  {
   "cell_type": "code",
   "execution_count": 4,
   "metadata": {},
   "outputs": [
    {
     "data": {
      "text/html": [
       "<div>\n",
       "<style scoped>\n",
       "    .dataframe tbody tr th:only-of-type {\n",
       "        vertical-align: middle;\n",
       "    }\n",
       "\n",
       "    .dataframe tbody tr th {\n",
       "        vertical-align: top;\n",
       "    }\n",
       "\n",
       "    .dataframe thead th {\n",
       "        text-align: right;\n",
       "    }\n",
       "</style>\n",
       "<table border=\"1\" class=\"dataframe\">\n",
       "  <thead>\n",
       "    <tr style=\"text-align: right;\">\n",
       "      <th></th>\n",
       "      <th>id</th>\n",
       "      <th>name</th>\n",
       "      <th>education</th>\n",
       "    </tr>\n",
       "  </thead>\n",
       "  <tbody>\n",
       "    <tr>\n",
       "      <th>0</th>\n",
       "      <td>1</td>\n",
       "      <td>\"rehan\"</td>\n",
       "      <td>bs</td>\n",
       "    </tr>\n",
       "    <tr>\n",
       "      <th>1</th>\n",
       "      <td>2</td>\n",
       "      <td>\"ali\"</td>\n",
       "      <td>bs</td>\n",
       "    </tr>\n",
       "    <tr>\n",
       "      <th>2</th>\n",
       "      <td>3</td>\n",
       "      <td>\"ahmed\"</td>\n",
       "      <td>bs</td>\n",
       "    </tr>\n",
       "  </tbody>\n",
       "</table>\n",
       "</div>"
      ],
      "text/plain": [
       "   id      name education\n",
       "0   1   \"rehan\"        bs\n",
       "1   2     \"ali\"        bs\n",
       "2   3   \"ahmed\"        bs"
      ]
     },
     "execution_count": 4,
     "metadata": {},
     "output_type": "execute_result"
    }
   ],
   "source": [
    "import pandas as pd\n",
    "df : pd.DataFrame = pd.read_csv(\"./data.csv\")\n",
    "\n",
    "df"
   ]
  },
  {
   "cell_type": "code",
   "execution_count": 6,
   "metadata": {},
   "outputs": [
    {
     "data": {
      "text/html": [
       "<div>\n",
       "<style scoped>\n",
       "    .dataframe tbody tr th:only-of-type {\n",
       "        vertical-align: middle;\n",
       "    }\n",
       "\n",
       "    .dataframe tbody tr th {\n",
       "        vertical-align: top;\n",
       "    }\n",
       "\n",
       "    .dataframe thead th {\n",
       "        text-align: right;\n",
       "    }\n",
       "</style>\n",
       "<table border=\"1\" class=\"dataframe\">\n",
       "  <thead>\n",
       "    <tr style=\"text-align: right;\">\n",
       "      <th></th>\n",
       "      <th>Unnamed: 0</th>\n",
       "      <th>id</th>\n",
       "      <th>name</th>\n",
       "      <th>f_name</th>\n",
       "      <th>education</th>\n",
       "    </tr>\n",
       "  </thead>\n",
       "  <tbody>\n",
       "    <tr>\n",
       "      <th>0</th>\n",
       "      <td>NaN</td>\n",
       "      <td>1</td>\n",
       "      <td>ali</td>\n",
       "      <td>zain</td>\n",
       "      <td>bs</td>\n",
       "    </tr>\n",
       "    <tr>\n",
       "      <th>1</th>\n",
       "      <td>NaN</td>\n",
       "      <td>2</td>\n",
       "      <td>ahmed</td>\n",
       "      <td>ali</td>\n",
       "      <td>bs</td>\n",
       "    </tr>\n",
       "    <tr>\n",
       "      <th>2</th>\n",
       "      <td>NaN</td>\n",
       "      <td>3</td>\n",
       "      <td>rehan</td>\n",
       "      <td>ahmed</td>\n",
       "      <td>bs</td>\n",
       "    </tr>\n",
       "    <tr>\n",
       "      <th>3</th>\n",
       "      <td>NaN</td>\n",
       "      <td>4</td>\n",
       "      <td>sufyan</td>\n",
       "      <td>ali</td>\n",
       "      <td>master</td>\n",
       "    </tr>\n",
       "    <tr>\n",
       "      <th>4</th>\n",
       "      <td>NaN</td>\n",
       "      <td>5</td>\n",
       "      <td>zain</td>\n",
       "      <td>rehan</td>\n",
       "      <td>phd</td>\n",
       "    </tr>\n",
       "  </tbody>\n",
       "</table>\n",
       "</div>"
      ],
      "text/plain": [
       "   Unnamed: 0  id    name f_name education\n",
       "0         NaN   1     ali   zain        bs\n",
       "1         NaN   2   ahmed    ali        bs\n",
       "2         NaN   3   rehan  ahmed        bs\n",
       "3         NaN   4  sufyan    ali    master\n",
       "4         NaN   5    zain  rehan       phd"
      ]
     },
     "execution_count": 6,
     "metadata": {},
     "output_type": "execute_result"
    }
   ],
   "source": [
    "df: pd.DataFrame = pd.read_csv(\"./demo_data - Sheet1.csv\")\n",
    "df"
   ]
  },
  {
   "cell_type": "code",
   "execution_count": 6,
   "metadata": {},
   "outputs": [
    {
     "ename": "ModuleNotFoundError",
     "evalue": "No module named 'mathplotlib'",
     "output_type": "error",
     "traceback": [
      "\u001b[1;31m---------------------------------------------------------------------------\u001b[0m",
      "\u001b[1;31mModuleNotFoundError\u001b[0m                       Traceback (most recent call last)",
      "Cell \u001b[1;32mIn[6], line 1\u001b[0m\n\u001b[1;32m----> 1\u001b[0m \u001b[38;5;28;01mimport\u001b[39;00m \u001b[38;5;21;01mmathplotlib\u001b[39;00m\u001b[38;5;21;01m.\u001b[39;00m\u001b[38;5;21;01mpyplot\u001b[39;00m \u001b[38;5;28;01mas\u001b[39;00m \u001b[38;5;21;01mplt\u001b[39;00m\n\u001b[0;32m      2\u001b[0m \u001b[38;5;28;01mimport\u001b[39;00m \u001b[38;5;21;01mmathplotlib\u001b[39;00m\u001b[38;5;21;01m.\u001b[39;00m\u001b[38;5;21;01mpyplot\u001b[39;00m \u001b[38;5;28;01mas\u001b[39;00m \u001b[38;5;21;01mmpimg\u001b[39;00m\n",
      "\u001b[1;31mModuleNotFoundError\u001b[0m: No module named 'mathplotlib'"
     ]
    }
   ],
   "source": [
    "import mathplotlib.pyplot as plt\n",
    "import mathplotlib.pyplot as mpimg"
   ]
  },
  {
   "cell_type": "code",
   "execution_count": 12,
   "metadata": {},
   "outputs": [],
   "source": [
    "# with open (\"./data.json\" , 'r+') as file:\n",
    "#     user_name = input(\"enter your name.\")\n",
    "#     info = json.dumps(user_name)\n",
    "#     file.write_text(info)\n",
    "#     print(f\"We'll remember you when you come back, {username}!\")"
   ]
  },
  {
   "cell_type": "code",
   "execution_count": null,
   "metadata": {},
   "outputs": [
    {
     "name": "stdout",
     "output_type": "stream",
     "text": [
      "hello ali\n"
     ]
    }
   ],
   "source": [
    "from pathlib import Path\n",
    "import json\n",
    "\n",
    "Path = Path(\"./data.json\")             \n",
    "\n",
    "user_name : str = input(\"enter your name.\")\n",
    "\n",
    "info = json.dumps(user_name)        #json.dumps to store data in file\n",
    "Path.write_text(info)\n",
    "\n",
    "print(f\"hello {user_name}\")\n",
    "\n"
   ]
  },
  {
   "cell_type": "code",
   "execution_count": null,
   "metadata": {},
   "outputs": [
    {
     "name": "stdout",
     "output_type": "stream",
     "text": [
      "hello ali\n"
     ]
    }
   ],
   "source": [
    "from pathlib import Path\n",
    "import json\n",
    "\n",
    "Path = Path(\"./data.json\")\n",
    "contacts = Path.read_text()\n",
    "user_name = json.loads(contacts)      # JSON.LOADS()TO READ TEXT IN JSON FORM\n",
    "print(f\"hello {user_name}\")"
   ]
  },
  {
   "cell_type": "markdown",
   "metadata": {},
   "source": [
    "# Saving and Reading User-Generated Data\n"
   ]
  },
  {
   "cell_type": "code",
   "execution_count": 3,
   "metadata": {},
   "outputs": [
    {
     "name": "stdout",
     "output_type": "stream",
     "text": [
      "we will remember you when ou come back new user ali\n"
     ]
    }
   ],
   "source": [
    "import json\n",
    "\n",
    "def get_stored_username():\n",
    "    \"\"\"get store user name if available\"\"\"\n",
    "    filename = ('./data.json')\n",
    "    try:\n",
    "        with open (filename) as f:\n",
    "            user_name = json.load(f)\n",
    "            \n",
    "    except FileNotFoundError:\n",
    "        return None\n",
    "\n",
    "def get_new_username():\n",
    "    user_name : str = input(\"enter your name\")\n",
    "\n",
    "    filename = ('./data.json')\n",
    "    with open (filename , \"w\") as f:\n",
    "        json.dump(user_name , f)\n",
    "        return user_name\n",
    "\n",
    "def greet_user():\n",
    "    \"\"\"greet the user by name and verify if its correct\"\"\"\n",
    "    user_name = get_stored_username()\n",
    "    if user_name:\n",
    "            correct_user : str = input(f'is {user_name} your user_name? yes/no')\n",
    "            if correct_user.lower == 'yes':\n",
    "                print(f'welcom {user_name} !')\n",
    "            else:\n",
    "                user_name = get_new_username()\n",
    "                print(f\"we will remember you when you will come back, {user_name}\")\n",
    "    else:\n",
    "        user_name = get_new_username()\n",
    "        print(f\"we will remember you when ou come back new user {user_name}\")\n",
    "\n",
    "\n",
    "greet_user()\n"
   ]
  }
 ],
 "metadata": {
  "kernelspec": {
   "display_name": "base",
   "language": "python",
   "name": "python3"
  },
  "language_info": {
   "codemirror_mode": {
    "name": "ipython",
    "version": 3
   },
   "file_extension": ".py",
   "mimetype": "text/x-python",
   "name": "python",
   "nbconvert_exporter": "python",
   "pygments_lexer": "ipython3",
   "version": "3.12.4"
  }
 },
 "nbformat": 4,
 "nbformat_minor": 2
}
