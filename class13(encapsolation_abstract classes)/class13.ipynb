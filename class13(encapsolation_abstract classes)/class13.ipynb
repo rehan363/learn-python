{
 "cells": [
  {
   "cell_type": "markdown",
   "metadata": {},
   "source": [
    "# callable"
   ]
  },
  {
   "cell_type": "code",
   "execution_count": null,
   "metadata": {},
   "outputs": [
    {
     "data": {
      "text/plain": [
       "3"
      ]
     },
     "execution_count": 4,
     "metadata": {},
     "output_type": "execute_result"
    }
   ],
   "source": [
    "class PowerFactor :\n",
    "    def __init__(self , exponents = 1):\n",
    "        self.exponents = exponents\n",
    "\n",
    "    def __call__ (self , base):\n",
    "        return base**self.exponents\n",
    "\n",
    "a : PowerFactor = PowerFactor()\n",
    "a.exponents\n",
    "a(3)"
   ]
  },
  {
   "cell_type": "code",
   "execution_count": 6,
   "metadata": {},
   "outputs": [
    {
     "name": "stdout",
     "output_type": "stream",
     "text": [
      "[8]\n",
      "[8, 10]\n",
      "[8, 10, 12]\n"
     ]
    },
    {
     "data": {
      "text/plain": [
       "10.0"
      ]
     },
     "execution_count": 6,
     "metadata": {},
     "output_type": "execute_result"
    }
   ],
   "source": [
    "class CamulativeAverage :\n",
    "    def __init__(self ):\n",
    "        self.data = []\n",
    "\n",
    "    def __call__ (self ,  new_value):\n",
    "        self.data.append(new_value)\n",
    "        print(self.data)\n",
    "\n",
    "        return sum(self.data) / len (self.data)\n",
    "\n",
    "\n",
    "streamm_average = CamulativeAverage()\n",
    "streamm_average(8)\n",
    "streamm_average(10)\n",
    "streamm_average(12)\n",
    "\n"
   ]
  },
  {
   "cell_type": "code",
   "execution_count": 8,
   "metadata": {},
   "outputs": [],
   "source": [
    "# fectorial.py\n",
    "\n",
    "class fectorial :\n",
    "    def __init__(self):\n",
    "        self.cache = {0 :1 , 1 : 1 }\n",
    "\n",
    "    def __call__ (self , number):\n",
    "        if number not in self.cache:\n",
    "            self.cache[number] = number * self(number-1)\n",
    "        return self.cache[number]"
   ]
  },
  {
   "cell_type": "code",
   "execution_count": 16,
   "metadata": {},
   "outputs": [
    {
     "data": {
      "text/plain": [
       "{0: 1, 1: 1, 2: 2, 3: 6, 4: 24, 5: 120}"
      ]
     },
     "execution_count": 16,
     "metadata": {},
     "output_type": "execute_result"
    }
   ],
   "source": [
    "factorial_of = fectorial()\n",
    "\n",
    "factorial_of (3)\n",
    "factorial_of (5)\n",
    "\n",
    "\n",
    "factorial_of.cache"
   ]
  },
  {
   "cell_type": "markdown",
   "metadata": {},
   "source": [
    "# decorator function\n"
   ]
  },
  {
   "cell_type": "markdown",
   "metadata": {},
   "source": [
    "in how many time function is executed"
   ]
  },
  {
   "cell_type": "code",
   "execution_count": 3,
   "metadata": {},
   "outputs": [
    {
     "name": "stdout",
     "output_type": "stream",
     "text": [
      "example_function ran in 7.0024254322052 time...\n"
     ]
    }
   ],
   "source": [
    "import time\n",
    "\n",
    "def Timer(func):\n",
    "    def wrapper(*args , **kwargu):\n",
    "        start = time.time()\n",
    "        result = func(*args , **kwargu)\n",
    "        end = time.time()\n",
    "        print(f\"{func.__name__} ran in {end - start} time...\")\n",
    "        return result\n",
    "    return wrapper\n",
    "\n",
    "@Timer\n",
    "def example_function(n):\n",
    "    time.sleep(n)\n",
    "\n",
    "example_function(7)"
   ]
  },
  {
   "cell_type": "markdown",
   "metadata": {},
   "source": [
    "2nd example:"
   ]
  },
  {
   "cell_type": "code",
   "execution_count": 13,
   "metadata": {},
   "outputs": [
    {
     "name": "stdout",
     "output_type": "stream",
     "text": [
      " calling greet with args ('rehan',) and kwargs {'greeting': 'hi'}\n",
      "hi rehan\n"
     ]
    }
   ],
   "source": [
    "def debug (func):\n",
    "    def wrapper (*args, **kwargs):\n",
    "        args_value = ', '.join(str(args) for arg in args)\n",
    "        kwargs_value = ', '.join (f\"{k}= {v}\"  for k , v in kwargs.items())\n",
    "        print(f\" calling {func.__name__} with args {args_value} and kwargs {kwargs}\")\n",
    "        return func(*args, **kwargs)\n",
    "\n",
    "    \n",
    "\n",
    "    return wrapper\n",
    "\n",
    "\n",
    "@debug\n",
    "def greet(name , greeting = \"hello\"):\n",
    "    print(f\"{greeting} {name}\")\n",
    "\n",
    "greet(\"rehan\" , greeting=\"hi\")"
   ]
  },
  {
   "cell_type": "code",
   "execution_count": 16,
   "metadata": {},
   "outputs": [
    {
     "name": "stdout",
     "output_type": "stream",
     "text": [
      "{}\n"
     ]
    },
    {
     "data": {
      "text/plain": [
       "8"
      ]
     },
     "execution_count": 16,
     "metadata": {},
     "output_type": "execute_result"
    }
   ],
   "source": [
    "import time\n",
    "\n",
    "def cache(func):\n",
    "    cache_value = {}\n",
    "    print(cache_value)\n",
    "    def wrapper (*args):\n",
    "        result = func(*args)\n",
    "\n",
    "        if args in cache_value:\n",
    "            return cache_value[args]\n",
    "            result = func(*args)\n",
    "            cache_value[args] = result\n",
    "        return result\n",
    "    return wrapper\n",
    "\n",
    "@cache\n",
    "def long_running_function(a ,b):\n",
    "    \n",
    "    return a + b\n",
    "\n",
    "long_running_function(4, 4)"
   ]
  },
  {
   "cell_type": "markdown",
   "metadata": {},
   "source": [
    "# excess modifiers\n",
    "* private\n",
    "* public \n",
    "* protected"
   ]
  },
  {
   "cell_type": "code",
   "execution_count": null,
   "metadata": {},
   "outputs": [
    {
     "name": "stdout",
     "output_type": "stream",
     "text": [
      "2929\n"
     ]
    }
   ],
   "source": [
    "class Piaic:\n",
    "    def __init__(self)->None:\n",
    "        # self.name                     public\n",
    "        self.Piaic_helpline = \"2929\"\n",
    "\n",
    "        #self._name                     protected\n",
    "        self._total_expense = \"322\"\n",
    "\n",
    "        #self.__name                     private\n",
    "        self.__test_date = \"3 nov 24\"\n",
    "\n",
    "rehan : Piaic = Piaic()\n",
    "print(rehan.Piaic_helpline)"
   ]
  },
  {
   "cell_type": "code",
   "execution_count": null,
   "metadata": {},
   "outputs": [
    {
     "ename": "AttributeError",
     "evalue": "'Piaic' object has no attribute '__test_date'",
     "output_type": "error",
     "traceback": [
      "\u001b[1;31m---------------------------------------------------------------------------\u001b[0m",
      "\u001b[1;31mAttributeError\u001b[0m                            Traceback (most recent call last)",
      "Cell \u001b[1;32mIn[18], line 1\u001b[0m\n\u001b[1;32m----> 1\u001b[0m rehan\u001b[38;5;241m.\u001b[39m__test_date\n",
      "\u001b[1;31mAttributeError\u001b[0m: 'Piaic' object has no attribute '__test_date'"
     ]
    }
   ],
   "source": [
    "rehan.__test_date       # we cant acess it bcz it is private"
   ]
  },
  {
   "cell_type": "code",
   "execution_count": 19,
   "metadata": {},
   "outputs": [
    {
     "data": {
      "text/plain": [
       "'3 nov 24'"
      ]
     },
     "execution_count": 19,
     "metadata": {},
     "output_type": "execute_result"
    }
   ],
   "source": [
    "rehan._Piaic__test_date"
   ]
  },
  {
   "cell_type": "code",
   "execution_count": 6,
   "metadata": {},
   "outputs": [],
   "source": [
    "class StudentLogin:\n",
    "    def __init__(self)->None:\n",
    "        self.__user_name = \"rehan\"  #private\n",
    "        self.__password  = \"1234\"   #private\n",
    "\n",
    "    def dbConnectivity (self, user:str , password:str):\n",
    "        print(\"sucessfully connected\")\n",
    "        if user == self.__user_name and password == self.__password:\n",
    "            print(\"valid user..\")\n",
    "        \n",
    "        else:\n",
    "            return \"invalid user..\"\n",
    "        \n",
    "    def update_password(self , password : str):\n",
    "        self.__password = password\n",
    "\n",
    "    def student_login(self , user : str , pass1 : str):\n",
    "        message :str = self.dbConnectivity(user , pass1)\n",
    "        print(message)\n",
    "\n",
    "    def display_information(self ):\n",
    "        print(f\"hello {self.__user_name} your password is {self.__password}\")"
   ]
  },
  {
   "cell_type": "code",
   "execution_count": 7,
   "metadata": {},
   "outputs": [
    {
     "ename": "AttributeError",
     "evalue": "'StudentLogin' object has no attribute '__password'",
     "output_type": "error",
     "traceback": [
      "\u001b[1;31m---------------------------------------------------------------------------\u001b[0m",
      "\u001b[1;31mAttributeError\u001b[0m                            Traceback (most recent call last)",
      "Cell \u001b[1;32mIn[7], line 3\u001b[0m\n\u001b[0;32m      1\u001b[0m ali : StudentLogin \u001b[38;5;241m=\u001b[39m StudentLogin()\n\u001b[1;32m----> 3\u001b[0m ali\u001b[38;5;241m.\u001b[39m__password()\n",
      "\u001b[1;31mAttributeError\u001b[0m: 'StudentLogin' object has no attribute '__password'"
     ]
    }
   ],
   "source": [
    "ali : StudentLogin = StudentLogin()\n",
    "\n",
    "ali.__password()          # password is not acessable becz it is private."
   ]
  },
  {
   "cell_type": "code",
   "execution_count": 8,
   "metadata": {},
   "outputs": [
    {
     "name": "stdout",
     "output_type": "stream",
     "text": [
      "sucessfully connected\n",
      "invalid user..\n"
     ]
    }
   ],
   "source": [
    "ali.student_login(\"ali\" , \"1234\")"
   ]
  },
  {
   "cell_type": "code",
   "execution_count": 9,
   "metadata": {},
   "outputs": [
    {
     "name": "stdout",
     "output_type": "stream",
     "text": [
      "sucessfully connected\n",
      "valid user..\n",
      "None\n"
     ]
    }
   ],
   "source": [
    "ali.student_login(\"rehan\" , \"1234\")"
   ]
  },
  {
   "cell_type": "code",
   "execution_count": 11,
   "metadata": {},
   "outputs": [
    {
     "name": "stdout",
     "output_type": "stream",
     "text": [
      "hello rehan your password is 1234\n"
     ]
    }
   ],
   "source": [
    "ali.display_information()"
   ]
  },
  {
   "cell_type": "code",
   "execution_count": 13,
   "metadata": {},
   "outputs": [
    {
     "name": "stdout",
     "output_type": "stream",
     "text": [
      "hello rehan your password is 1122\n"
     ]
    }
   ],
   "source": [
    "ali.update_password(\"1122\")\n",
    "ali.display_information()"
   ]
  },
  {
   "cell_type": "markdown",
   "metadata": {},
   "source": [
    "*__str__ dunder/magic methood"
   ]
  },
  {
   "cell_type": "code",
   "execution_count": 15,
   "metadata": {},
   "outputs": [
    {
     "name": "stdout",
     "output_type": "stream",
     "text": [
      "teacher name is SIR ZIA\n"
     ]
    }
   ],
   "source": [
    "class Teacher :\n",
    "    def __init__ (self , name):\n",
    "        self.name = name\n",
    "\n",
    "    def __str__(self)->str:\n",
    "        return f\"teacher name is {self.name}\"\n",
    "\n",
    "\n",
    "teacher1 : Teacher = Teacher(\"SIR ZIA\")\n",
    "print(teacher1)"
   ]
  },
  {
   "cell_type": "markdown",
   "metadata": {},
   "source": [
    "# abstract classes (cant make object directly)\n",
    "* Abstract classes in Python are used to define a blueprint for other classes. These classes cannot be instantiated directly and often include methods that must be implemented in their child classes. The abc module in Python is used to create abstract classes."
   ]
  },
  {
   "cell_type": "code",
   "execution_count": 16,
   "metadata": {},
   "outputs": [
    {
     "name": "stdout",
     "output_type": "stream",
     "text": [
      "Dog says: Woof! Woof!\n",
      "Cat says: Meow!\n"
     ]
    }
   ],
   "source": [
    "from abc import ABC, abstractmethod\n",
    "\n",
    "# Define an abstract class\n",
    "class Animal(ABC):\n",
    "    @abstractmethod\n",
    "    def sound(self):\n",
    "        \"\"\"This method must be implemented by subclasses\"\"\"\n",
    "        pass\n",
    "\n",
    "# Define a subclass (child class) that inherits from Animal\n",
    "class Dog(Animal):\n",
    "    def sound(self):\n",
    "        return \"Woof! Woof!\"\n",
    "\n",
    "class Cat(Animal):\n",
    "    def sound(self):\n",
    "        return \"Meow!\"\n",
    "\n",
    "# Instantiate subclasses and use them\n",
    "dog = Dog()\n",
    "cat = Cat()\n",
    "\n",
    "print(f\"Dog says: {dog.sound()}\")\n",
    "print(f\"Cat says: {cat.sound()}\")\n"
   ]
  },
  {
   "cell_type": "markdown",
   "metadata": {},
   "source": [
    "# Duck typing \n",
    "* Duck typing in Python refers to a programming style where the type or class of an object is less important than the methods or attributes it defines. The phrase \"If it looks like a duck and quacks like a duck, it must be a duck\" sums up this concept."
   ]
  },
  {
   "cell_type": "code",
   "execution_count": 17,
   "metadata": {},
   "outputs": [
    {
     "name": "stdout",
     "output_type": "stream",
     "text": [
      "Woof! Woof!\n",
      "Meow!\n",
      "Quack!\n"
     ]
    }
   ],
   "source": [
    "# A function that works with any object that has a `sound` method\n",
    "def make_animal_sound(animal):\n",
    "    print(animal.sound())\n",
    "\n",
    "# Class with a `sound` method\n",
    "class Dog:\n",
    "    def sound(self):\n",
    "        return \"Woof! Woof!\"\n",
    "\n",
    "class Cat:\n",
    "    def sound(self):\n",
    "        return \"Meow!\"\n",
    "\n",
    "class Duck:\n",
    "    def sound(self):\n",
    "        return \"Quack!\"\n",
    "\n",
    "# Objects of different classes\n",
    "dog = Dog()\n",
    "cat = Cat()\n",
    "duck = Duck()\n",
    "\n",
    "# Call the function with different objects\n",
    "make_animal_sound(dog)  # Output: Woof! Woof!\n",
    "make_animal_sound(cat)  # Output: Meow!\n",
    "make_animal_sound(duck) # Output: Quack!\n"
   ]
  }
 ],
 "metadata": {
  "kernelspec": {
   "display_name": "base",
   "language": "python",
   "name": "python3"
  },
  "language_info": {
   "codemirror_mode": {
    "name": "ipython",
    "version": 3
   },
   "file_extension": ".py",
   "mimetype": "text/x-python",
   "name": "python",
   "nbconvert_exporter": "python",
   "pygments_lexer": "ipython3",
   "version": "3.12.4"
  }
 },
 "nbformat": 4,
 "nbformat_minor": 2
}
