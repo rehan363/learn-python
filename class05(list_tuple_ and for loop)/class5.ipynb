{
 "cells": [
  {
   "cell_type": "markdown",
   "metadata": {},
   "source": [
    "# list\n",
    "* iteration operation with loop\n",
    "* apply any operation on loop"
   ]
  },
  {
   "cell_type": "markdown",
   "metadata": {},
   "source": [
    "# new methood"
   ]
  },
  {
   "cell_type": "code",
   "execution_count": 15,
   "metadata": {},
   "outputs": [
    {
     "name": "stdout",
     "output_type": "stream",
     "text": [
      "Bilal\n",
      "Ahmed\n",
      "Sam\n",
      "Ali\n"
     ]
    }
   ],
   "source": [
    "names :list[str] = ['bilal','ahmed',\"sam\",\"ali\"]\n",
    "\n",
    "for name in names:\n",
    "    print(name.capitalize())\n"
   ]
  },
  {
   "cell_type": "markdown",
   "metadata": {},
   "source": [
    "# old methood"
   ]
  },
  {
   "cell_type": "code",
   "execution_count": 16,
   "metadata": {},
   "outputs": [
    {
     "name": "stdout",
     "output_type": "stream",
     "text": [
      "bilal\n",
      "ahmed\n",
      "sam\n",
      "ali\n"
     ]
    }
   ],
   "source": [
    "names :list[str] = ['bilal','ahmed',\"sam\",\"ali\"]\n",
    "\n",
    "i:int =0  # counter=0\n",
    "while i<len(names): #names length=3\n",
    "    print(names[i])\n",
    "    i+=1\n",
    "\n",
    "    "
   ]
  },
  {
   "cell_type": "code",
   "execution_count": 17,
   "metadata": {},
   "outputs": [
    {
     "name": "stdout",
     "output_type": "stream",
     "text": [
      "Bilal! nice to meet you....\n",
      "Ahmed! nice to meet you....\n",
      "Sam! nice to meet you....\n",
      "Ali! nice to meet you....\n"
     ]
    }
   ],
   "source": [
    "names :list[str] = ['bilal','ahmed','sam','ali']\n",
    "\n",
    "for name in names:\n",
    "    print(f'{name.capitalize()}! nice to meet you....')\n",
    "    "
   ]
  },
  {
   "cell_type": "code",
   "execution_count": 18,
   "metadata": {},
   "outputs": [
    {
     "name": "stdout",
     "output_type": "stream",
     "text": [
      "1\n",
      "2\n",
      "3\n",
      "4\n",
      "5\n"
     ]
    }
   ],
   "source": [
    "names :list[int] = [1,2,3,4,5]\n",
    "for nam in names:\n",
    "    print(nam)\n"
   ]
  },
  {
   "cell_type": "code",
   "execution_count": 19,
   "metadata": {},
   "outputs": [
    {
     "name": "stdout",
     "output_type": "stream",
     "text": [
      "Bilal! nice to meet you....\n",
      "where are you from Bilal\n",
      "\n",
      "Ahmed! nice to meet you....\n",
      "where are you from Ahmed\n",
      "\n",
      "Sam! nice to meet you....\n",
      "where are you from Sam\n",
      "\n",
      "Ali! nice to meet you....\n",
      "where are you from Ali\n",
      "\n"
     ]
    }
   ],
   "source": [
    "names :list[str] = ['bilal','ahmed','sam','ali']\n",
    "\n",
    "for name in names:\n",
    "    print(f'{name.capitalize()}! nice to meet you....')\n",
    "    print(f'where are you from {name.title()}\\n')\n"
   ]
  },
  {
   "cell_type": "code",
   "execution_count": 20,
   "metadata": {},
   "outputs": [
    {
     "name": "stdout",
     "output_type": "stream",
     "text": [
      "Chicken fagita is my favourite pizza..\n",
      "\n",
      "Bbq is my favourite pizza..\n",
      "\n",
      "Crown crust is my favourite pizza..\n",
      "\n",
      "i love pizzas\n"
     ]
    }
   ],
   "source": [
    "# TRY IT YOURSELF\n",
    "# 4-1. Pizzas: Think of at least three kinds of your favorite pizza. Store these \n",
    "# pizza names in a list, and then use a for loop to print the name of each pizza.\n",
    "# • Modify your for loop to print a sentence using the name of the pizza, \n",
    "# instead of printing just the name of the pizza. For each pizza, you should \n",
    "# have one line of output containing a simple statement like I like pep\u0002peroni pizza.\n",
    "# • Add a line at the end of your program, outside the for loop, that states \n",
    "# how much you like pizza. The output should consist of three or more lines \n",
    "# about the kinds of pizza you like and then an additional sentence, such as \n",
    "# I really love pizza\n",
    "\n",
    "\n",
    "fav_flavours : list[str] = [\"chicken fagita\",\"bbq\",\"crown crust\"]\n",
    "\n",
    "for pizza in fav_flavours:\n",
    "    print(f\"{pizza.capitalize()} is my favourite pizza..\\n\")\n",
    "    \n",
    "print(\"i love pizzas\")    "
   ]
  },
  {
   "cell_type": "code",
   "execution_count": 21,
   "metadata": {},
   "outputs": [
    {
     "name": "stdout",
     "output_type": "stream",
     "text": [
      "CAT is good pet..\n",
      "\n",
      "DOG is good pet..\n",
      "\n",
      "GOAT is good pet..\n",
      "\n",
      "they are mamels\n"
     ]
    }
   ],
   "source": [
    "# 4-2. Animals: Think of at least three different animals that have a common char\u0002acteristic. Store the names of these animals in a list, and then use a for loop to \n",
    "# print out the name of each animal.\n",
    "# • Modify your program to print a statement about each animal, such as A \n",
    "# dog would make a great pet.\n",
    "# • Add a line at the end of your program, stating what these animals have in \n",
    "# common. You could print a sentence, such as Any of these animals would \n",
    "# make a great pet\n",
    "\n",
    "animals : list[str] = [\"cat\",\"dog\",\"goat\"]\n",
    "for animal in animals:\n",
    "    print(f\"{animal.upper()} is good pet..\\n\")\n",
    "print(\"they are mamels\")"
   ]
  },
  {
   "cell_type": "markdown",
   "metadata": {},
   "source": [
    "# Using the range() Function\n"
   ]
  },
  {
   "cell_type": "code",
   "execution_count": 22,
   "metadata": {},
   "outputs": [
    {
     "name": "stdout",
     "output_type": "stream",
     "text": [
      "1\n",
      "2\n",
      "3\n",
      "4\n",
      "5\n",
      "6\n",
      "7\n",
      "8\n",
      "9\n",
      "10\n"
     ]
    }
   ],
   "source": [
    "for values in range(1,11):\n",
    "    print(values)"
   ]
  },
  {
   "cell_type": "code",
   "execution_count": 23,
   "metadata": {},
   "outputs": [
    {
     "name": "stdout",
     "output_type": "stream",
     "text": [
      "0\n",
      "1\n",
      "2\n",
      "3\n",
      "4\n",
      "5\n"
     ]
    }
   ],
   "source": [
    "for no in range(6):\n",
    "    print(no)"
   ]
  },
  {
   "cell_type": "markdown",
   "metadata": {},
   "source": [
    "# Using range() to Make a List of Numbers\n"
   ]
  },
  {
   "cell_type": "code",
   "execution_count": 24,
   "metadata": {},
   "outputs": [
    {
     "name": "stdout",
     "output_type": "stream",
     "text": [
      "[1, 3, 5, 7, 9]\n"
     ]
    }
   ],
   "source": [
    "numbers = list(range(1,11,2))\n",
    "print(numbers)"
   ]
  },
  {
   "cell_type": "code",
   "execution_count": 25,
   "metadata": {},
   "outputs": [
    {
     "name": "stdout",
     "output_type": "stream",
     "text": [
      "*\n",
      "*\n",
      "*\n",
      "*\n",
      "*\n",
      "*\n",
      "*\n",
      "*\n",
      "*\n",
      "*\n"
     ]
    }
   ],
   "source": [
    "squares  = \"*\"\n",
    "for value in range(1,11):\n",
    "    # square = value+1\n",
    "    # squares.append(square)\n",
    "      print(squares)    "
   ]
  },
  {
   "cell_type": "code",
   "execution_count": 26,
   "metadata": {},
   "outputs": [
    {
     "name": "stdout",
     "output_type": "stream",
     "text": [
      "WELCOME!! Teachers Zia..\n",
      "in GEN AI course\n",
      "\n",
      "WELCOME!! Teachers Usman..\n",
      "in GEN AI course\n",
      "\n",
      "WELCOME!! Teachers Rehan..\n",
      "in GEN AI course\n",
      "\n"
     ]
    }
   ],
   "source": [
    "teachers : list[str] =[\"zia\",\"usman\",\"rehan\"]\n",
    "\n",
    "for name in teachers:\n",
    "    print(f'WELCOME!! Teachers {name.title()}..')\n",
    "    print(\"in GEN AI course\\n\")"
   ]
  },
  {
   "cell_type": "code",
   "execution_count": 27,
   "metadata": {},
   "outputs": [
    {
     "name": "stdout",
     "output_type": "stream",
     "text": [
      "WELCOME!! Teachers Zia..\n",
      "in GEN AI course\n",
      "\n",
      "WELCOME!! Teachers Usman..\n",
      "in GEN AI course\n",
      "\n"
     ]
    }
   ],
   "source": [
    "teachers : list[str] =[\"zia\",\"usman\",\"rehan\"]\n",
    "\n",
    "for name in teachers[:2]:          # it will print all the values expect 2\n",
    "    print(f'WELCOME!! Teachers {name.title()}..')\n",
    "    print(\"in GEN AI course\\n\")"
   ]
  },
  {
   "cell_type": "code",
   "execution_count": 28,
   "metadata": {},
   "outputs": [
    {
     "name": "stdout",
     "output_type": "stream",
     "text": [
      "welcome zia...\n",
      "welcome usman...\n"
     ]
    }
   ],
   "source": [
    "teachers : list[str] = [\"zia\",\"usman\",\"rehan\"]\n",
    "\n",
    "for name in teachers[:2]:\n",
    "    print(f'welcome {name}...')"
   ]
  },
  {
   "cell_type": "code",
   "execution_count": 29,
   "metadata": {},
   "outputs": [
    {
     "name": "stdout",
     "output_type": "stream",
     "text": [
      "welcome zia...\n"
     ]
    }
   ],
   "source": [
    "teachers : list[str] = [\"zia\",\"usman\",\"rehan\"]\n",
    "\n",
    "for name in teachers[:1]:\n",
    "    print(f'welcome {name}...')"
   ]
  },
  {
   "cell_type": "code",
   "execution_count": 30,
   "metadata": {},
   "outputs": [
    {
     "name": "stdout",
     "output_type": "stream",
     "text": [
      "welcome zia...\n",
      "welcome usman...\n",
      "welcome rehan...\n"
     ]
    }
   ],
   "source": [
    "teachers : list[str] = [\"zia\",\"usman\",\"rehan\"]\n",
    "\n",
    "for name in teachers[:3]:\n",
    "    print(f'welcome {name}...')"
   ]
  },
  {
   "cell_type": "code",
   "execution_count": 31,
   "metadata": {},
   "outputs": [
    {
     "name": "stdout",
     "output_type": "stream",
     "text": [
      "welcome zia...\n",
      "welcome usman...\n",
      "welcome rehan...\n"
     ]
    }
   ],
   "source": [
    "teachers : list[str] = [\"zia\",\"usman\",\"rehan\"]\n",
    "\n",
    "for name in teachers[-3:]:\n",
    "    print(f'welcome {name}...')"
   ]
  },
  {
   "cell_type": "code",
   "execution_count": 32,
   "metadata": {},
   "outputs": [
    {
     "name": "stdout",
     "output_type": "stream",
     "text": [
      "('rehan', '123')\n",
      "('ali', '235')\n",
      "('usman', '456')\n"
     ]
    }
   ],
   "source": [
    "\n",
    "data_base : list[tuple[str,str]] = [(\"rehan\",\"123\"),\n",
    "                                    (\"ali\",\"235\"),\n",
    "                                    (\"usman\",\"456\"),\n",
    "                                    ]\n",
    "\n",
    "for row in data_base:\n",
    "    print(row)"
   ]
  },
  {
   "cell_type": "code",
   "execution_count": 33,
   "metadata": {},
   "outputs": [
    {
     "name": "stdout",
     "output_type": "stream",
     "text": [
      "\n"
     ]
    }
   ],
   "source": [
    "input =input(\"enter name\")\n",
    "print(input)"
   ]
  },
  {
   "cell_type": "markdown",
   "metadata": {},
   "source": [
    "# example"
   ]
  },
  {
   "cell_type": "code",
   "execution_count": 1,
   "metadata": {},
   "outputs": [
    {
     "name": "stdout",
     "output_type": "stream",
     "text": [
      "valid user!\n"
     ]
    }
   ],
   "source": [
    "\n",
    "\n",
    "data_base : list[tuple[str,str]] = [(\"rehan\",\"123\"),\n",
    "                                    (\"ali\",\"235\"),\n",
    "                                    (\"usman\",\"456\"),\n",
    "                                    ]\n",
    "\n",
    "user_input  = input(\"Enter  name\")\n",
    "user_password  = input(\"Enter password\")\n",
    "\n",
    "for row in data_base:\n",
    "    user , pin = row\n",
    "    if user_input == user  and user_password == pin:\n",
    "        print(\"valid user!\")\n",
    "        break\n",
    "else:\n",
    "    print(\"not found..Invalid user!!\")\n"
   ]
  },
  {
   "cell_type": "code",
   "execution_count": 7,
   "metadata": {},
   "outputs": [
    {
     "data": {
      "text/plain": [
       "[(0, 'zia'), (1, 'usman'), (2, 'rehan')]"
      ]
     },
     "execution_count": 7,
     "metadata": {},
     "output_type": "execute_result"
    }
   ],
   "source": [
    "\n",
    "# enumrate function   *gives indx numbers with list\n",
    "teachers : list[str] = [\"zia\",\"usman\",\"rehan\"]\n",
    "\n",
    "list(enumerate(teachers))"
   ]
  },
  {
   "cell_type": "code",
   "execution_count": 8,
   "metadata": {},
   "outputs": [
    {
     "name": "stdout",
     "output_type": "stream",
     "text": [
      "0 zia\n",
      "1 usman\n",
      "2 rehan\n"
     ]
    }
   ],
   "source": [
    "teachers : list[str] = [\"zia\",\"usman\",\"rehan\"]\n",
    "\n",
    "for index , names in enumerate(teachers):\n",
    "    print(index,names)"
   ]
  },
  {
   "cell_type": "markdown",
   "metadata": {},
   "source": [
    "# Numbers with range\n",
    "* range(start,end,step)  (range is generator fuction..)"
   ]
  },
  {
   "cell_type": "code",
   "execution_count": 3,
   "metadata": {},
   "outputs": [
    {
     "data": {
      "text/plain": [
       "range(1, 3)"
      ]
     },
     "execution_count": 3,
     "metadata": {},
     "output_type": "execute_result"
    }
   ],
   "source": [
    "range (1,3)"
   ]
  },
  {
   "cell_type": "code",
   "execution_count": 4,
   "metadata": {},
   "outputs": [
    {
     "data": {
      "text/plain": [
       "[0, 1, 2, 3, 4, 5, 6, 7, 8, 9]"
      ]
     },
     "execution_count": 4,
     "metadata": {},
     "output_type": "execute_result"
    }
   ],
   "source": [
    "list(range(0,10)) #starting=0 , ending=(n-1) ,sttep"
   ]
  },
  {
   "cell_type": "code",
   "execution_count": 5,
   "metadata": {},
   "outputs": [
    {
     "data": {
      "text/plain": [
       "[2, 4, 6, 8, 10, 12, 14, 16, 18, 20]"
      ]
     },
     "execution_count": 5,
     "metadata": {},
     "output_type": "execute_result"
    }
   ],
   "source": [
    "list(range(2,21,2))  #table of 2"
   ]
  },
  {
   "cell_type": "code",
   "execution_count": 6,
   "metadata": {},
   "outputs": [
    {
     "name": "stdout",
     "output_type": "stream",
     "text": [
      "2\n",
      "4\n",
      "6\n",
      "8\n",
      "10\n",
      "12\n",
      "14\n",
      "16\n",
      "18\n",
      "20\n"
     ]
    }
   ],
   "source": [
    "for n in range(2,21,2):\n",
    "    print(n)"
   ]
  },
  {
   "cell_type": "markdown",
   "metadata": {},
   "source": [
    "# table of 2"
   ]
  },
  {
   "cell_type": "code",
   "execution_count": 10,
   "metadata": {},
   "outputs": [
    {
     "name": "stdout",
     "output_type": "stream",
     "text": [
      " 2 X 1 = 2\n",
      " 2 X 2 = 4\n",
      " 2 X 3 = 6\n",
      " 2 X 4 = 8\n",
      " 2 X 5 = 10\n",
      " 2 X 6 = 12\n",
      " 2 X 7 = 14\n",
      " 2 X 8 = 16\n",
      " 2 X 9 = 18\n",
      " 2 X 10 = 20\n"
     ]
    }
   ],
   "source": [
    "for n in range(1,11):\n",
    "    print(f\" 2 X {n} = {n*2}\")"
   ]
  },
  {
   "cell_type": "markdown",
   "metadata": {},
   "source": [
    "# table of 5\n"
   ]
  },
  {
   "cell_type": "code",
   "execution_count": 12,
   "metadata": {},
   "outputs": [
    {
     "name": "stdout",
     "output_type": "stream",
     "text": [
      "5 X 1 = 5\n",
      "5 X 2 = 10\n",
      "5 X 3 = 15\n",
      "5 X 4 = 20\n",
      "5 X 5 = 25\n",
      "5 X 6 = 30\n",
      "5 X 7 = 35\n",
      "5 X 8 = 40\n",
      "5 X 9 = 45\n",
      "5 X 10 = 50\n"
     ]
    }
   ],
   "source": [
    "for n in range(1,11):\n",
    "    print(f\"5 X {n} = {n*5}\")"
   ]
  },
  {
   "cell_type": "code",
   "execution_count": 16,
   "metadata": {},
   "outputs": [
    {
     "name": "stdout",
     "output_type": "stream",
     "text": [
      "[1, 4, 9, 16, 25, 36, 49, 64, 81, 100]\n"
     ]
    }
   ],
   "source": [
    "squares:list[int]=[]\n",
    "for value in range(1,11):\n",
    "    square = value**2\n",
    "    squares.append(square)\n",
    "\n",
    "print(squares)               # same code is below in only one line "
   ]
  },
  {
   "cell_type": "markdown",
   "metadata": {},
   "source": [
    "# list comprehensive\n"
   ]
  },
  {
   "cell_type": "code",
   "execution_count": 22,
   "metadata": {},
   "outputs": [
    {
     "name": "stdout",
     "output_type": "stream",
     "text": [
      "[1, 4, 9, 16, 25, 36, 49, 64, 81, 100]\n"
     ]
    }
   ],
   "source": [
    "\n",
    "#  for item in items_list:\n",
    "#        loop_body\n",
    "#===================x=========================x=======\n",
    "\n",
    "# comprehensive style:\n",
    "\n",
    "# [loop_body for item in items_list]\n",
    "\n",
    "print([i**2  for i in range(1,11)])"
   ]
  },
  {
   "cell_type": "code",
   "execution_count": 27,
   "metadata": {},
   "outputs": [
    {
     "name": "stdout",
     "output_type": "stream",
     "text": [
      "[1, 2, 3, 4, 5, 6, 7, 8, 9, 11, 10]\n",
      "11\n",
      "1\n",
      "66\n"
     ]
    }
   ],
   "source": [
    "numbers : list[int] = [1,2,3,4,5,6,7,8,9,11,10]\n",
    "\n",
    "print(numbers)\n",
    "print(max(numbers))\n",
    "print(min(numbers))\n",
    "print(sum(numbers))"
   ]
  },
  {
   "cell_type": "code",
   "execution_count": 30,
   "metadata": {},
   "outputs": [
    {
     "name": "stdout",
     "output_type": "stream",
     "text": [
      "['pizza', 'alfado', 'carrot cake']\n",
      "['pizza', 'alfado', 'carrot cake'] ['pizza', 'alfado', 'carrot cake']\n",
      "['burger', 'alfado', 'carrot cake']\n",
      "['pizza', 'alfado', 'carrot cake']\n"
     ]
    }
   ],
   "source": [
    "my_foods = [\"pizza\",\"alfado\",\"carrot cake\"]    # benifit of slicing:\n",
    "friends_food = my_foods[:]                     # deep copy (it will not change orignal list)\n",
    "print(my_foods)\n",
    "print(my_foods , friends_food)\n",
    "\n",
    "friends_food[0] =\"burger\"\n",
    "print(friends_food)\n",
    "print(my_foods)\n",
    "\n"
   ]
  },
  {
   "cell_type": "code",
   "execution_count": 33,
   "metadata": {},
   "outputs": [
    {
     "name": "stdout",
     "output_type": "stream",
     "text": [
      "A\n",
      "('A', 'B')\n"
     ]
    }
   ],
   "source": [
    "# tuple (not updateable , constant) (fix value we cant assign any value in tuple)\n",
    "\n",
    "names : tuple = (\"A\",\"B\",\"C\")\n",
    "print(names[0])\n",
    "print(names[0:2])\n",
    "# names[0]=\"c\"   error\n",
    "\n",
    "\n"
   ]
  },
  {
   "cell_type": "code",
   "execution_count": 35,
   "metadata": {},
   "outputs": [
    {
     "name": "stdout",
     "output_type": "stream",
     "text": [
      "a\n",
      "[1, 2, 3]\n"
     ]
    }
   ],
   "source": [
    "from typing import Any\n",
    "name : tuple =(\"a\",[1,2,3],\"b\")\n",
    "print(name[0])\n",
    "print(name[1])\n"
   ]
  }
 ],
 "metadata": {
  "kernelspec": {
   "display_name": "python12",
   "language": "python",
   "name": "python3"
  },
  "language_info": {
   "codemirror_mode": {
    "name": "ipython",
    "version": 3
   },
   "file_extension": ".py",
   "mimetype": "text/x-python",
   "name": "python",
   "nbconvert_exporter": "python",
   "pygments_lexer": "ipython3",
   "version": "3.12.0"
  }
 },
 "nbformat": 4,
 "nbformat_minor": 2
}
