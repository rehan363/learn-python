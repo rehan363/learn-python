{
 "cells": [
  {
   "cell_type": "markdown",
   "metadata": {},
   "source": [
    "# functions\n",
    "* pre_defined function\n",
    "    * provided by pograming language\n",
    "\n",
    "* user defined functions\n",
    "    * custom function\n",
    "\n",
    "* return and non-return type\n",
    "    * return\n",
    "        * we can assign this function output in any variable\n",
    "    \n",
    "    * non-return\n",
    "        * only run we cant assign any value to variable\n",
    "\n",
    "====================================x==================\n",
    "\n",
    "# components\n",
    "* function decleration\n",
    "* function body\n",
    "* function calling \n",
    "\n",
    "\n",
    "==================x==========================\n",
    "\n",
    "# lambda function:(anonymus function)\n",
    "* one line function\n",
    "* without name\n",
    "* only use in this line\n",
    "\n",
    "* syntax\n",
    "\n",
    "lambda param1 , param2 : function_body\n",
    " \n"
   ]
  },
  {
   "cell_type": "code",
   "execution_count": 2,
   "metadata": {},
   "outputs": [
    {
     "name": "stdout",
     "output_type": "stream",
     "text": [
      "genAI course\n",
      "welcome\n"
     ]
    }
   ],
   "source": [
    "def piaic()-> None:\n",
    "    print(\"genAI course\")\n",
    "    print(\"welcome\")\n",
    "\n",
    "piaic()"
   ]
  },
  {
   "cell_type": "code",
   "execution_count": 7,
   "metadata": {},
   "outputs": [
    {
     "name": "stdout",
     "output_type": "stream",
     "text": [
      "4\n"
     ]
    }
   ],
   "source": [
    "def add_two_numbers (num1 : int , num2 : int)->int:\n",
    "    return(num1 + num2)\n",
    "\n",
    "num1 = int(input (\"enter number1\"))\n",
    "num2  = int(input (\"enter number2\"))\n",
    "\n",
    "result = (add_two_numbers(num1,num2))\n",
    "print(result)\n",
    "\n",
    "\n",
    "\n",
    "\n",
    "\n"
   ]
  },
  {
   "cell_type": "markdown",
   "metadata": {},
   "source": [
    "# with opetional parameter"
   ]
  },
  {
   "cell_type": "code",
   "execution_count": 10,
   "metadata": {},
   "outputs": [
    {
     "name": "stdout",
     "output_type": "stream",
     "text": [
      "5\n"
     ]
    }
   ],
   "source": [
    "def add_two_numbers (num1 : int , num2 : int=0)->int: # we have set the default value 0\n",
    "    return(num1 + num2)\n",
    "\n",
    "num1 = int(input (\"enter number1\"))\n",
    "num2  = int(input (\"enter number2\"))\n",
    "\n",
    "result = (add_two_numbers(num1,num2))\n",
    "print(result)\n"
   ]
  },
  {
   "cell_type": "code",
   "execution_count": 11,
   "metadata": {},
   "outputs": [
    {
     "data": {
      "text/plain": [
       "3"
      ]
     },
     "execution_count": 11,
     "metadata": {},
     "output_type": "execute_result"
    }
   ],
   "source": [
    "# lambda function\n",
    "\n",
    "a = lambda num1 , num2 : num1 + num2\n",
    "\n",
    "a(2,1)"
   ]
  },
  {
   "cell_type": "code",
   "execution_count": 15,
   "metadata": {},
   "outputs": [
    {
     "name": "stdout",
     "output_type": "stream",
     "text": [
      "[1, 4, 9, 16, 25, 36]\n",
      "[4, 16, 36]\n"
     ]
    }
   ],
   "source": [
    "data : list[int] =[1,2,3,4,5,6]\n",
    "\n",
    "data = list(map(lambda  x:x**2 , data))\n",
    "print(data)\n",
    "\n",
    "data = list(filter(lambda  x:x%2==0 , data))\n",
    "print(data)\n",
    "\n"
   ]
  },
  {
   "cell_type": "markdown",
   "metadata": {},
   "source": [
    "# generator function\n",
    "* iterates on element one by one\n",
    "* stop every atteration\n",
    "* remember old atteration value"
   ]
  },
  {
   "cell_type": "code",
   "execution_count": 22,
   "metadata": {},
   "outputs": [
    {
     "name": "stdout",
     "output_type": "stream",
     "text": [
      "list[<generator object my_range at 0x000002B9E6550C70>]\n"
     ]
    }
   ],
   "source": [
    "def my_range (start:int , end:int , step:int):\n",
    "    for i in range(start, end+1 ,step):\n",
    "        yield i\n",
    "\n",
    "a = my_range(1,10,1)\n",
    "print(list[a])"
   ]
  },
  {
   "cell_type": "code",
   "execution_count": 8,
   "metadata": {},
   "outputs": [
    {
     "name": "stdout",
     "output_type": "stream",
     "text": [
      "before function\n",
      "hello....\n",
      "after function\n"
     ]
    }
   ],
   "source": [
    "from typing import Callable\n",
    "\n",
    "def decorator(func: Callable[[],None]) -> Callable[[],None]:\n",
    "    def wrapper() ->None:\n",
    "        print(\"before function\")\n",
    "        func()\n",
    "        print(\"after function\")\n",
    "    return wrapper\n",
    "\n",
    "@decorator                 # connects the function \n",
    "def say_hello() -> None:\n",
    "    print(\"hello....\")\n",
    "\n",
    "say_hello()\n"
   ]
  },
  {
   "cell_type": "code",
   "execution_count": 10,
   "metadata": {},
   "outputs": [
    {
     "name": "stdout",
     "output_type": "stream",
     "text": [
      "before function\n",
      "heloooo rehnx..\n",
      "after function\n"
     ]
    }
   ],
   "source": [
    "from typing import Callable\n",
    "\n",
    "def my_decorator(func: Callable[[],None]) ->Callable[[],None]:\n",
    "    def wrapper():\n",
    "        print(\"before function\")\n",
    "        func()\n",
    "        print(\"after function\")\n",
    "    return wrapper\n",
    "\n",
    "@my_decorator\n",
    "def greet()->str:\n",
    "    print(\"heloooo rehnx..\")\n",
    "\n",
    "greet()"
   ]
  },
  {
   "cell_type": "markdown",
   "metadata": {},
   "source": [
    "# Returning a Dictionary\n"
   ]
  },
  {
   "cell_type": "code",
   "execution_count": 12,
   "metadata": {},
   "outputs": [
    {
     "name": "stdout",
     "output_type": "stream",
     "text": [
      "{'first': 'rehan', 'last': 'ahmed'}\n"
     ]
    }
   ],
   "source": [
    "def built_person(first_name,last_name):\n",
    "    person ={\"first\": first_name, \"last\": last_name }\n",
    "    return person\n",
    "\n",
    "student = built_person(\"rehan\",\"ahmed\")\n",
    "\n",
    "print(student)"
   ]
  },
  {
   "cell_type": "code",
   "execution_count": 10,
   "metadata": {},
   "outputs": [
    {
     "name": "stdout",
     "output_type": "stream",
     "text": [
      "{'first': 'jimi', 'last': 'hendrix'}\n"
     ]
    }
   ],
   "source": [
    "def build_person(first_name, last_name):\n",
    " \"\"\"Return a dictionary of information about a person.\"\"\"\n",
    " person = {'first': first_name, 'last': last_name}\n",
    " return person\n",
    "musician = build_person('jimi', 'hendrix')\n",
    "print(musician)"
   ]
  },
  {
   "cell_type": "code",
   "execution_count": 38,
   "metadata": {},
   "outputs": [
    {
     "name": "stdout",
     "output_type": "stream",
     "text": [
      "{'first': 'rehan', 'last': 'ahmed', 'age': 2}\n"
     ]
    }
   ],
   "source": [
    "def employs(first_name,last_name,age=None):\n",
    "\n",
    "  person = {'first':first_name , 'last':last_name}\n",
    "   \n",
    "  if age:\n",
    "    person['age'] = age\n",
    "\n",
    "  return person\n",
    "\n",
    "details = employs(\"rehan\",\"ahmed\",age=2)\n",
    "\n",
    "print(details)\n",
    "\n"
   ]
  },
  {
   "cell_type": "code",
   "execution_count": null,
   "metadata": {},
   "outputs": [
    {
     "name": "stdout",
     "output_type": "stream",
     "text": [
      "{'first': 'jimi', 'last': 'hendrix', 'age': 9}\n"
     ]
    }
   ],
   "source": [
    "def build_person(first_name, last_name, age=None):\n",
    " \"\"\"Return a dictionary of information about a person.\"\"\"\n",
    " person = {'first': first_name, 'last': last_name}\n",
    " if age:\n",
    "    person['age'] = age\n",
    " return person\n",
    "musician = build_person('jimi', 'hendrix' ,)\n",
    "print(musician)"
   ]
  },
  {
   "cell_type": "code",
   "execution_count": null,
   "metadata": {},
   "outputs": [
    {
     "name": "stdout",
     "output_type": "stream",
     "text": [
      "please tell me your name..\n",
      "press q to quit any time..\n",
      "please tell me your name..\n",
      "press q to quit any time..\n",
      "please tell me your name..\n",
      "press q to quit any time..\n",
      "please tell me your name..\n",
      "press q to quit any time..\n",
      "please tell me your name..\n",
      "press q to quit any time..\n",
      "please tell me your name..\n",
      "press q to quit any time..\n"
     ]
    }
   ],
   "source": [
    "def get_formated_name(first_name,last_name):\n",
    "    full_name = f\"{first_name} {last_name}\"\n",
    "    return full_name.title()\n",
    "\n",
    "\n",
    "while True:\n",
    "    print(\"please tell me your name..\")\n",
    "    print(\"press q to quit any time..\")\n",
    "\n",
    "    f_name : str = input(\"enter first name.\")\n",
    "    if  f_name==\"q\":\n",
    "        break\n",
    "    l_name : str = input(\"enter last name.\")\n",
    "    if  l_name==\"q\":\n",
    "        break\n",
    "    \n",
    "\n",
    "formated_name = get_formated_name(f_name,l_name)\n",
    "print(formated_name)"
   ]
  },
  {
   "cell_type": "code",
   "execution_count": 4,
   "metadata": {},
   "outputs": [
    {
     "name": "stdout",
     "output_type": "stream",
     "text": [
      "Please tell me your name.\n",
      "Press 'Q' to quit anytime.\n",
      "Rehan Ahmed\n",
      "Please tell me your name.\n",
      "Press 'Q' to quit anytime.\n",
      "Ali Ali\n",
      "Please tell me your name.\n",
      "Press 'Q' to quit anytime.\n"
     ]
    }
   ],
   "source": [
    "def get_formatted_name(first_name, last_name):\n",
    "    \"\"\"Formats the full name with proper capitalization.\"\"\"\n",
    "    full_name = f\"{first_name} {last_name}\"\n",
    "    return full_name.title()\n",
    "\n",
    "while True:\n",
    "    print(\"Please tell me your name.\")\n",
    "    print(\"Press 'Q' to quit anytime.\")\n",
    "\n",
    "    first_name = input(\"Enter first name: \")\n",
    "    if first_name.upper() == \"Q\":\n",
    "        break\n",
    "\n",
    "    last_name = input(\"Enter last name: \")\n",
    "    if last_name.upper() == \"Q\":\n",
    "        break\n",
    "\n",
    "    formatted_name = get_formatted_name(first_name, last_name)\n",
    "    print(formatted_name)"
   ]
  },
  {
   "cell_type": "markdown",
   "metadata": {},
   "source": [
    "# Passing an Arbitrary Number of Argument\n",
    "\n",
    "* This syntax works no matter how many arguments the function receives.\n"
   ]
  },
  {
   "cell_type": "code",
   "execution_count": null,
   "metadata": {},
   "outputs": [
    {
     "name": "stdout",
     "output_type": "stream",
     "text": [
      "('pepperoni', 'chesse')\n",
      "('mushrooms', 'green peppers', 'extra cheese')\n"
     ]
    }
   ],
   "source": [
    "def make_pizza(*toppings):               #  * is very important as we can pass more than one aurgument\n",
    " \"\"\"Print the list of toppings that have been requested.\"\"\"\n",
    " print(toppings)\n",
    "make_pizza('pepperoni',\"chesse\")\n",
    "make_pizza('mushrooms',  'green peppers', 'extra cheese')"
   ]
  },
  {
   "cell_type": "markdown",
   "metadata": {},
   "source": [
    "# Mixing Positional and Arbitrary Arguments"
   ]
  },
  {
   "cell_type": "code",
   "execution_count": 7,
   "metadata": {},
   "outputs": [
    {
     "name": "stdout",
     "output_type": "stream",
     "text": [
      "making a size 12 inches and ('chese', 'mushrooms') topings..\n"
     ]
    }
   ],
   "source": [
    "def make_pizza(size,*toppings):\n",
    "    print(f\"making a size {size} inches and {toppings} topings..\")\n",
    "\n",
    "make_pizza(12,\"chese\",\"mushrooms\")"
   ]
  }
 ],
 "metadata": {
  "kernelspec": {
   "display_name": "base",
   "language": "python",
   "name": "python3"
  },
  "language_info": {
   "codemirror_mode": {
    "name": "ipython",
    "version": 3
   },
   "file_extension": ".py",
   "mimetype": "text/x-python",
   "name": "python",
   "nbconvert_exporter": "python",
   "pygments_lexer": "ipython3",
   "version": "3.12.4"
  }
 },
 "nbformat": 4,
 "nbformat_minor": 2
}
