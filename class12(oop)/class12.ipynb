{
 "cells": [
  {
   "cell_type": "markdown",
   "metadata": {},
   "source": [
    "# oop(object oriented pograming)\n",
    "* class\n",
    "    * methood\n",
    "        * first argument must be additional variable (self,this or any thing else)\n",
    "    * attributes\n",
    "        * connect with indivisual object \n",
    "        * Making an object from a class is called instantiation\n",
    "    * class variables\n",
    "        * this value use for all objects\n",
    "    * constructor\n",
    "        * (syntax) def __init__\n",
    "\n",
    "\n",
    "* syntax of class\n",
    "    * class Class_name:\n",
    "        * pass"
   ]
  },
  {
   "cell_type": "code",
   "execution_count": null,
   "metadata": {},
   "outputs": [],
   "source": [
    "# class(blue print;)\n",
    "class Teacher():\n",
    "    def __init__(self , teacher_id : int , teacher_name : str)->None:          #constructor\n",
    "    #Initializes a Teacher object with ID, name, and optional organization.\n",
    "        self.name : str = teacher_name       # self.attribute of name\n",
    "        self.teacher_id : int = teacher_id \n",
    "        self.organization_name = \"PIAIC\"\n",
    "\n",
    "\n",
    "    # another methood\n",
    "\n",
    "    def speak(self , words : str)->None:\n",
    "        print(f\"{self.name} is speaking words {words}..\")\n",
    "\n",
    "    \n",
    "    # another methood:\n",
    "    def teaching(self , subject :str)->None:\n",
    "        print(f\"{self.name} is teaching {subject}..\")\n"
   ]
  },
  {
   "cell_type": "code",
   "execution_count": null,
   "metadata": {},
   "outputs": [],
   "source": [
    "# object formation\n",
    "\n",
    "obj1 : Teacher = Teacher(1,\"Sir zia khan\")   # initalizing object-> calling constructor __init__()methood only this time\n",
    "obj2 : Teacher = Teacher(2,\"sir qasim\")\n",
    "\n",
    "\n"
   ]
  },
  {
   "cell_type": "code",
   "execution_count": null,
   "metadata": {},
   "outputs": [
    {
     "name": "stdout",
     "output_type": "stream",
     "text": [
      "1\n",
      "Sir zia khan\n",
      "PIAIC\n",
      "1\n",
      "sir qasim\n",
      "PIAIC\n"
     ]
    }
   ],
   "source": [
    "print(obj1.teacher_id)        # object oen is instance of teacher class\n",
    "print(obj1.name)\n",
    "print(obj1.organization_name)\n",
    "\n",
    "print(obj1.teacher_id)\n",
    "print(obj2.name)\n",
    "print(obj2.organization_name)\n"
   ]
  },
  {
   "cell_type": "code",
   "execution_count": 31,
   "metadata": {},
   "outputs": [
    {
     "name": "stdout",
     "output_type": "stream",
     "text": [
      "Sir zia khan is teaching generative AI..\n",
      "sir qasim is teaching deep learning...\n",
      "Sir zia khan is speaking words english..\n",
      "sir qasim is speaking words urdu..\n"
     ]
    }
   ],
   "source": [
    "obj1.teaching(\"generative AI\")\n",
    "obj2.teaching(\"deep learning.\")\n",
    "\n",
    "obj1.speak(\"english\")\n",
    "obj2.speak(\"urdu\")\n"
   ]
  },
  {
   "cell_type": "code",
   "execution_count": 4,
   "metadata": {},
   "outputs": [
    {
     "data": {
      "text/plain": [
       "['__class__',\n",
       " '__delattr__',\n",
       " '__dict__',\n",
       " '__dir__',\n",
       " '__doc__',\n",
       " '__eq__',\n",
       " '__format__',\n",
       " '__ge__',\n",
       " '__getattribute__',\n",
       " '__getstate__',\n",
       " '__gt__',\n",
       " '__hash__',\n",
       " '__init__',\n",
       " '__init_subclass__',\n",
       " '__le__',\n",
       " '__lt__',\n",
       " '__module__',\n",
       " '__ne__',\n",
       " '__new__',\n",
       " '__reduce__',\n",
       " '__reduce_ex__',\n",
       " '__repr__',\n",
       " '__setattr__',\n",
       " '__sizeof__',\n",
       " '__str__',\n",
       " '__subclasshook__',\n",
       " '__weakref__',\n",
       " 'name',\n",
       " 'organization_name',\n",
       " 'speak',\n",
       " 'teacher_id']"
      ]
     },
     "execution_count": 4,
     "metadata": {},
     "output_type": "execute_result"
    }
   ],
   "source": [
    "dir(obj1)"
   ]
  },
  {
   "cell_type": "markdown",
   "metadata": {},
   "source": [
    "# class variable\n",
    "* this value use for all objects\n",
    "* can be called from 2 ways\n",
    "    * 1. Class_name .class_variable\n",
    "    * 2. object_name.class_variable"
   ]
  },
  {
   "cell_type": "code",
   "execution_count": 8,
   "metadata": {},
   "outputs": [
    {
     "name": "stdout",
     "output_type": "stream",
     "text": [
      "pabloo is sitting\n"
     ]
    }
   ],
   "source": [
    "class Dog:\n",
    "    \"\"\"A simple attempt to model a dog.\"\"\"\n",
    "    def __init__ (self , name : str , age : int)-> None:\n",
    "         self.name = name\n",
    "         self.age = age    \n",
    "\n",
    "    def sit(self):\n",
    "        print(f\"{self.name} is sitting\")  #function that’s part of a class is a method.\n",
    "\n",
    "    def roll_over():\n",
    "        print(f\"{self.name} i rolling.\")\n",
    "\n",
    "\n",
    "dog1 : Dog = Dog(\"pabloo\",5)\n",
    "dog1.sit()\n"
   ]
  },
  {
   "cell_type": "code",
   "execution_count": 40,
   "metadata": {},
   "outputs": [],
   "source": [
    "# class(blue print;)\n",
    "class Teacher():\n",
    "    counter : int = 0               # class variable\n",
    "    help_line_number : str = \"1122\"\n",
    "\n",
    "    def __init__(self , teacher_id : int , teacher_name : str)->None:          #constructor\n",
    "    #Initializes a Teacher object with ID, name, and optional organization.\n",
    "        self.name : str = teacher_name       # self.attribute of name\n",
    "        self.teacher_id : int = teacher_id \n",
    "        self.organization_name = \"PIAIC\"\n",
    "        Teacher.counter +=1\n",
    "\n",
    "\n",
    "    # another methood\n",
    "\n",
    "    def speak(self , words : str)->None:\n",
    "        print(f\"{self.name} is speaking words {words}..\")\n",
    "\n",
    "    \n",
    "    # another methood:\n",
    "    def teaching(self , subject :str)->None:\n",
    "        print(f\"{self.name} is teaching {subject}..\")\n",
    "\n",
    "    def details(self)->None:\n",
    "        information : str = (f\"\"\" \n",
    "        teacher name is {self.name}\n",
    "        our helpline number is {self.help_line_number}\n",
    "        \"\"\")\n",
    "        print(information)\n",
    "\n",
    "\n",
    "obj1 : Teacher = Teacher(1,\"Sir zia khan\")\n",
    "obj2 : Teacher = Teacher(2,\"sir qasim\")\n",
    "\n"
   ]
  },
  {
   "cell_type": "code",
   "execution_count": 41,
   "metadata": {},
   "outputs": [
    {
     "name": "stdout",
     "output_type": "stream",
     "text": [
      "2\n",
      "2\n",
      "2\n",
      "1122\n",
      "1122\n",
      "1122\n"
     ]
    }
   ],
   "source": [
    "print(obj1.counter)\n",
    "print(obj2.counter)\n",
    "print(Teacher.counter)\n",
    "\n",
    "print(obj1.help_line_number)\n",
    "print(obj2.help_line_number)\n",
    "print(Teacher.help_line_number)\n",
    "\n"
   ]
  },
  {
   "cell_type": "code",
   "execution_count": 43,
   "metadata": {},
   "outputs": [
    {
     "name": "stdout",
     "output_type": "stream",
     "text": [
      " \n",
      "        teacher name is Sir zia khan\n",
      "        our helpline number is 1122\n",
      "        \n"
     ]
    }
   ],
   "source": [
    "obj1.details()\n"
   ]
  },
  {
   "cell_type": "code",
   "execution_count": null,
   "metadata": {},
   "outputs": [],
   "source": []
  },
  {
   "cell_type": "markdown",
   "metadata": {},
   "source": [
    "# 4 pillars of oop\n",
    "\n",
    "# 1. Encapsulation: \n",
    "This involves bundling the data (attributes) and methods (functions) that operate on the data into a single unit or class, restricting direct access to some of an object’s components. This protects data integrity and hides internal details from the outside world, only exposing what’s necessary.\n",
    "\n",
    "# 2.Abstraction: \n",
    "This is about simplifying complex systems by modeling classes appropriate to the problem and working at a high level of functionality. Abstraction hides unnecessary details, focusing on essential aspects, making it easier to manage and use objects without knowing every detail of their workings.\n",
    "\n",
    "# 3.Inheritance:\n",
    " This allows classes to inherit features (attributes and methods) from other classes, promoting code reuse. A subclass inherits characteristics from a parent (superclass), and it can also have additional unique properties or modify inherited ones.\n",
    "\n",
    "# 4.Polymorphism: \n",
    "This allows objects to be treated as instances of their parent class, even if they belong to a subclass. Through polymorphism, a single function or method can operate on different types of objects, adapting its behavior based on the object it’s dealing with."
   ]
  },
  {
   "cell_type": "markdown",
   "metadata": {},
   "source": [
    "# 1. inharitance"
   ]
  },
  {
   "cell_type": "code",
   "execution_count": null,
   "metadata": {},
   "outputs": [
    {
     "name": "stdout",
     "output_type": "stream",
     "text": [
      "parent methood speak PAKISTAN..\n",
      "None\n",
      "black\n",
      "you are looking object name TV\n",
      "None\n",
      "==========================\n",
      "parent methood speak english..\n",
      "None\n",
      "brown\n",
      "black\n"
     ]
    }
   ],
   "source": [
    "class Parent:\n",
    "    def __init__ (self)->None:\n",
    "        self.eye_colour : str = 'brown'\n",
    "        self.hair_colour : str = 'black'\n",
    "    \n",
    "    def speak(self , words : str )->None:\n",
    "        print(f\"parent methood speak {words}..\")\n",
    "\n",
    "    def watch(self , obj_name :str )->None:\n",
    "        print(f\"you are looking object name {obj_name}\")\n",
    "\n",
    "\n",
    "class child(Parent):          # inhariting parents attributes\n",
    "    pass\n",
    "\n",
    "obj1 : Parent= Parent()\n",
    "print(obj1.speak(\"PAKISTAN\"))\n",
    "print(obj1.hair_colour)\n",
    "print(obj1.watch(\"TV\"))\n",
    "print(\"==========================\")\n",
    "\n",
    "\n",
    "\n",
    "childern1 : child = child()\n",
    "print(childern1.speak(\"english\"))\n",
    "print(childern1.eye_colour)\n",
    "print(childern1.hair_colour)\n",
    "\n",
    "\n"
   ]
  },
  {
   "cell_type": "code",
   "execution_count": null,
   "metadata": {},
   "outputs": [
    {
     "name": "stdout",
     "output_type": "stream",
     "text": [
      "child methood  for teaching eng\n"
     ]
    }
   ],
   "source": [
    "class Parent:\n",
    "    def __init__ (self)->None:\n",
    "        self.eye_colour : str = 'brown'\n",
    "        self.hair_colour : str = 'black'\n",
    "    \n",
    "    def speak(self , words : str )->None:\n",
    "        print(f\"parent methood speak {words}..\")\n",
    "\n",
    "    def watch(self , obj_name :str )->None:\n",
    "        print(f\"you are looking object name {obj_name}\")\n",
    "\n",
    "\n",
    "class child(Parent):\n",
    "    def teaching(self , subject : str)->None:\n",
    "        print(F\"child methood  for teaching {subject}\")\n",
    "\n",
    "\n",
    "child1 :child = child()\n",
    "child1.teaching(\"eng\")\n",
    "\n",
    "\n",
    "\n"
   ]
  },
  {
   "cell_type": "markdown",
   "metadata": {},
   "source": [
    "# super constructor:"
   ]
  },
  {
   "cell_type": "code",
   "execution_count": null,
   "metadata": {},
   "outputs": [
    {
     "name": "stdout",
     "output_type": "stream",
     "text": [
      "['python']\n",
      "ali\n",
      "web developer.\n",
      "rehan\n",
      "adobe master\n"
     ]
    }
   ],
   "source": [
    "class Employ :\n",
    "    def __init__(self , name)->None:\n",
    "        self.name : str = name\n",
    "        self.education : str = \"\"\n",
    "        self.department : str = \"\"\n",
    "\n",
    "class Designer():\n",
    "    def __init__ (self , name, title : str)->None:\n",
    "        super().__init__()                     # it will call parent constructor\n",
    "        self.name = name\n",
    "        self.title :str = title\n",
    "\n",
    "class Developer():\n",
    "    def __init__ (self , name , title : str)->None:\n",
    "        super().__init__()\n",
    "        self.name = name\n",
    "        self.pograming_skills : list[str] = ['python']\n",
    "        self.title : str = title\n",
    "\n",
    "\n",
    "designer1 : Designer = Designer(\"rehan\",\"adobe master\")\n",
    "\n",
    "developer1 : Developer = Developer(\"ali\",\"web developer.\")\n",
    "\n",
    "print(developer1.pograming_skills)\n",
    "print(developer1.name)\n",
    "print(developer1.title)\n",
    "print(designer1.name)\n",
    "print(designer1.title)\n"
   ]
  },
  {
   "cell_type": "code",
   "execution_count": null,
   "metadata": {},
   "outputs": [],
   "source": [
    "# TRY IT YOURSELF\n",
    "# 9-1. Restaurant: Make a class called Restaurant. The __init__() method for \n",
    "# Restaurant should store two attributes: a restaurant_name and a cuisine_type. \n",
    "# Make a method called describe_restaurant() that prints these two pieces of \n",
    "# information, and a method called open_restaurant() that prints a message indicating that the restaurant is open.\n",
    "# Make an instance called restaurant from your class. Print the two attributes individually, and then call both method"
   ]
  },
  {
   "cell_type": "code",
   "execution_count": null,
   "metadata": {},
   "outputs": [
    {
     "name": "stdout",
     "output_type": "stream",
     "text": [
      "chezious pizza shop\n",
      "pakistani\n",
      " Restaurant name : chezious pizza shop\n",
      " Restaurant type : pakistani\n",
      "chezious pizza shop restaurant is open now!\n",
      "\n"
     ]
    }
   ],
   "source": [
    "class Restaurant:\n",
    "    # define __init__ methood to initiallize the attributes\n",
    "    def __init__ (self , restaurant_name , cuisine_type):\n",
    "        self.restaurant_name = restaurant_name\n",
    "        self.cuisine_type = cuisine_type \n",
    "    \n",
    "    def describe_restaurant(self):\n",
    "        print(f\" Restaurant name : {self.restaurant_name}\\n Restaurant type : {self.cuisine_type}\")\n",
    "    \n",
    "    def open_restaurant(self):\n",
    "        print(f\"{self.restaurant_name} restaurant is open now!\\n\")\n",
    "    \n",
    "    # creating an instance of the class \n",
    "restaurant1 : Restaurant = Restaurant('chezious pizza shop' , 'pakistani')\n",
    "\n",
    "\n",
    "\n",
    "\n",
    "print(restaurant1.restaurant_name) #print restaurant_name\n",
    "print(restaurant1.cuisine_type)     # print restaurant_type\n",
    "\n",
    "restaurant1.describe_restaurant()\n",
    "restaurant1.open_restaurant()\n"
   ]
  },
  {
   "cell_type": "code",
   "execution_count": 40,
   "metadata": {},
   "outputs": [
    {
     "name": "stdout",
     "output_type": "stream",
     "text": [
      "Restaurant1:\n",
      " Restaurant name : chezious pizza shop\n",
      " Restaurant type : pakistani\n",
      "\n",
      "chezious pizza shop restaurant is open now!\n",
      "\n",
      "Restaurant2:\n",
      " Restaurant name : ranchers\n",
      " Restaurant type : burgers\n",
      "\n",
      "ranchers restaurant is open now!\n",
      "\n",
      "Restaurant3:\n",
      " Restaurant name : trim horons\n",
      " Restaurant type : bake shop\n",
      "\n",
      "trim horons restaurant is open now!\n",
      "\n"
     ]
    }
   ],
   "source": [
    "class Restaurant:\n",
    "    # define __init__ methood to initiallize the attributes\n",
    "    def __init__ (self , restaurant_name , cuisine_type):\n",
    "        self.restaurant_name = restaurant_name\n",
    "        self.cuisine_type = cuisine_type \n",
    "    \n",
    "    def describe_restaurant(self):\n",
    "        print(f\" Restaurant name : {self.restaurant_name}\\n Restaurant type : {self.cuisine_type}\")\n",
    "    \n",
    "    def open_restaurant(self):\n",
    "        print(f\"{self.restaurant_name} restaurant is open now!\\n\")\n",
    "    \n",
    "    # creating an instance of the class \n",
    "restaurant1 : Restaurant = Restaurant('chezious pizza shop' , 'pakistani')\n",
    "restaurant2 : Restaurant = Restaurant('ranchers' , 'burgers')\n",
    "restaurant3 : Restaurant = Restaurant('trim horons' , 'bake shop')\n",
    "\n",
    "print(\"Restaurant1:\")\n",
    "restaurant1.describe_restaurant()\n",
    "print()\n",
    "restaurant1.open_restaurant()\n",
    "\n",
    "print(\"Restaurant2:\")\n",
    "restaurant2.describe_restaurant()\n",
    "print()\n",
    "restaurant2.open_restaurant()\n",
    "print(\"Restaurant3:\")\n",
    "restaurant3.describe_restaurant()\n",
    "print()\n",
    "restaurant3.open_restaurant()\n",
    "\n",
    "\n",
    "\n",
    "\n"
   ]
  },
  {
   "cell_type": "markdown",
   "metadata": {},
   "source": [
    "<!-- Users: Make a class called User. Create two attributes called first_name\n",
    "and last_name, and then create several other attributes that are typically stored \n",
    "in a user profile. Make a method called describe_user() that prints a summary \n",
    "of the user’s information. Make another method called greet_user() that prints \n",
    "a personalized greeting to the user.\n",
    "Create several instances representing different users, and call both methods for each user -->"
   ]
  },
  {
   "cell_type": "code",
   "execution_count": 46,
   "metadata": {},
   "outputs": [
    {
     "name": "stdout",
     "output_type": "stream",
     "text": [
      "First_name: rehan\n",
      "Last_name: rehan\n",
      "Age: 19\n",
      "CNIC: 37402-294-9\n"
     ]
    }
   ],
   "source": [
    "class User:\n",
    "    def __init__ (self , first_name , last_name , age , cnic) ->None:\n",
    "        self.first_name = first_name\n",
    "        self.last_name = last_name\n",
    "        self.age = age\n",
    "        self.cnic = cnic\n",
    "\n",
    "    def describe_user(self):\n",
    "        print(f\"First_name: {self.first_name}\")\n",
    "        print(f\"Last_name: {self.first_name}\")\n",
    "        print(f\"Age: {self.age}\")\n",
    "        print(f\"CNIC: {self.cnic}\")\n",
    "\n",
    "User1 : User = User(\"rehan\",\"ahmed\",19,\"37402-294-9\")\n",
    "\n",
    "User1.describe_user()\n",
    "    "
   ]
  },
  {
   "cell_type": "code",
   "execution_count": 47,
   "metadata": {},
   "outputs": [
    {
     "name": "stdout",
     "output_type": "stream",
     "text": [
      "Login attempts: 3\n",
      "Login attempts after reset: 0\n"
     ]
    }
   ],
   "source": [
    "class User:\n",
    "    def __init__(self, first_name, last_name, age, email, address):\n",
    "        self.first_name = first_name\n",
    "        self.last_name = last_name\n",
    "        self.age = age\n",
    "        self.email = email\n",
    "        self.address = address\n",
    "        self.login_attempts = 0\n",
    "\n",
    "    def describe_user(self):\n",
    "        print(f\"User Information:\")\n",
    "        print(f\"Name: {self.first_name} {self.last_name}\")\n",
    "        print(f\"Age: {self.age}\")\n",
    "        print(f\"Email: {self.email}\")\n",
    "        print(f\"Address: {self.address}\")\n",
    "\n",
    "    def greet_user(self):\n",
    "        print(f\"Hello, {self.first_name}! Welcome back.\")\n",
    "\n",
    "    def increment_login_attempts(self):\n",
    "        self.login_attempts += 1\n",
    "\n",
    "    def reset_login_attempts(self):\n",
    "        self.login_attempts = 0\n",
    "\n",
    "# Create an instance of the User class\n",
    "user1 = User(\"Alice\", \"Johnson\", 30, \"alice@example.com\", \"123 Main St\")\n",
    "\n",
    "# Increment login attempts\n",
    "user1.increment_login_attempts()\n",
    "user1.increment_login_attempts()\n",
    "user1.increment_login_attempts()\n",
    "\n",
    "print(f\"Login attempts: {user1.login_attempts}\")\n",
    "\n",
    "# Reset login attempts\n",
    "user1.reset_login_attempts()\n",
    "\n",
    "print(f\"Login attempts after reset: {user1.login_attempts}\")"
   ]
  },
  {
   "cell_type": "code",
   "execution_count": 12,
   "metadata": {},
   "outputs": [
    {
     "name": "stdout",
     "output_type": "stream",
     "text": [
      "Car Model Is 2020. Car Make Is Toyota. Car Colour Is Black\n"
     ]
    }
   ],
   "source": [
    "class Car:\n",
    "    \"\"\"a simplea attempt to represent a car.\"\"\"\n",
    "    def __init__(self , make , model , colour)-> None:\n",
    "        self.make = make\n",
    "        self.model = model\n",
    "        self.colour = colour\n",
    "\n",
    "    def get_descriptive_name(self):\n",
    "        details =(f\"Car model is {self.model}. Car make is {self.make}. Car colour is {self.colour}\")\n",
    "        return details.title()\n",
    "\n",
    "car1 : Car = Car(\"toyota\" , \"2020\" , \"black\" )\n",
    "\n",
    "print(car1.get_descriptive_name())\n",
    "\n",
    "\n",
    "       "
   ]
  },
  {
   "cell_type": "code",
   "execution_count": 11,
   "metadata": {},
   "outputs": [
    {
     "name": "stdout",
     "output_type": "stream",
     "text": [
      "Car Model Is 2020. Car Make Is Toyota. Car Colour Is Black\n",
      "this car has 0 miles driven.\n"
     ]
    }
   ],
   "source": [
    "class Car:\n",
    "    \"\"\"a simplea attempt to represent a car.\"\"\"\n",
    "    def __init__(self , make , model , colour )-> None:\n",
    "        self.make = make\n",
    "        self.model = model\n",
    "        self.colour = colour\n",
    "        self.odmeter= 0\n",
    "\n",
    "    def get_descriptive_name(self):\n",
    "        details =(f\"Car model is {self.model}. Car make is {self.make}. Car colour is {self.colour}\")\n",
    "        return details.title()\n",
    "    \n",
    "    def read_odmeter(self):\n",
    "        print(f\"this car has {self.odmeter} miles driven.\")\n",
    "\n",
    "\n",
    "car1 : Car = Car(\"toyota\" , \"2020\" , \"black\" )\n",
    "\n",
    "print(car1.get_descriptive_name())\n",
    "car1.read_odmeter()\n",
    "\n",
    "\n",
    "       "
   ]
  },
  {
   "cell_type": "code",
   "execution_count": 20,
   "metadata": {},
   "outputs": [
    {
     "name": "stdout",
     "output_type": "stream",
     "text": [
      "Car Model Is A4. Car Make Is Audi. Car Colour Is 2024\n",
      "This car has 0 miles on it.\n",
      "This car has 64 miles on it.\n",
      "meter cant be rolled back..\n",
      "This car has 64 miles on it.\n"
     ]
    }
   ],
   "source": [
    "class Car:\n",
    " def __init__(self, make, model, year):\n",
    " #\"\"\"Initialize attributes to describe a car.\"\"\"\n",
    "    self.make = make\n",
    "    self.model = model\n",
    "    self.year = year\n",
    "    self.odometer_reading = 0\n",
    "\n",
    " def get_descriptive_name(self):\n",
    "      details =(f\"Car model is {self.model}. Car make is {self.make}. Car colour is {self.year}\")\n",
    "      return details.title()\n",
    "    \n",
    "\n",
    " def read_odometer(self):\n",
    "    #\"\"\"Print a statement showing the car's mileage.\"\"\"\n",
    "    print(f\"This car has {self.odometer_reading} miles on it.\")\n",
    "   \n",
    " def update_odometer(self,mileage):\n",
    "   if mileage >= self.odometer_reading :\n",
    "      self.odometer_reading = mileage\n",
    "   else:\n",
    "      print(\"meter cant be rolled back..\")\n",
    "\n",
    "\n",
    "my_new_car = Car('audi', 'a4', 2024)\n",
    "print(my_new_car.get_descriptive_name())\n",
    "my_new_car.read_odometer()\n",
    "my_new_car.update_odometer(64)\n",
    "my_new_car.read_odometer()\n",
    "my_new_car.update_odometer(60)\n",
    "my_new_car.read_odometer()"
   ]
  },
  {
   "cell_type": "code",
   "execution_count": null,
   "metadata": {},
   "outputs": [
    {
     "ename": "NameError",
     "evalue": "name 'my_new_car' is not defined",
     "output_type": "error",
     "traceback": [
      "\u001b[1;31m---------------------------------------------------------------------------\u001b[0m",
      "\u001b[1;31mNameError\u001b[0m                                 Traceback (most recent call last)",
      "Cell \u001b[1;32mIn[1], line 35\u001b[0m\n\u001b[0;32m     29\u001b[0m     \u001b[38;5;28;01mdef\u001b[39;00m \u001b[38;5;21mbattery_size\u001b[39m(\u001b[38;5;28mself\u001b[39m):\n\u001b[0;32m     30\u001b[0m         \u001b[38;5;28mprint\u001b[39m(\u001b[38;5;124mf\u001b[39m\u001b[38;5;124m\"\u001b[39m\u001b[38;5;124mbatter size of my car is \u001b[39m\u001b[38;5;132;01m{\u001b[39;00m\u001b[38;5;28mself\u001b[39m\u001b[38;5;241m.\u001b[39mbattery_size\u001b[38;5;132;01m}\u001b[39;00m\u001b[38;5;124m\"\u001b[39m)\n\u001b[1;32m---> 35\u001b[0m \u001b[38;5;28mprint\u001b[39m(my_new_car\u001b[38;5;241m.\u001b[39mget_descriptive_name())\n\u001b[0;32m     36\u001b[0m Electric_car\u001b[38;5;241m.\u001b[39mbattery_size()\n",
      "\u001b[1;31mNameError\u001b[0m: name 'my_new_car' is not defined"
     ]
    }
   ],
   "source": [
    "class Car:\n",
    " def __init__(self, make, model, year):\n",
    " #\"\"\"Initialize attributes to describe a car.\"\"\"\n",
    "    self.make = make\n",
    "    self.model = model\n",
    "    self.year = year\n",
    "    self.odometer_reading = 0\n",
    "\n",
    " def get_descriptive_name(self):\n",
    "      details =(f\"Car model is {self.model}. Car make is {self.make}. Car colour is {self.year}\")\n",
    "      return details.title()\n",
    "    \n",
    "\n",
    " def read_odometer(self):\n",
    "    #\"\"\"Print a statement showing the car's mileage.\"\"\"\n",
    "    print(f\"This car has {self.odometer_reading} miles on it.\")\n",
    "   \n",
    " def update_odometer(self,mileage):\n",
    "   if mileage >= self.odometer_reading :\n",
    "      self.odometer_reading = mileage\n",
    "   else:\n",
    "      print(\"meter cant be rolled back..\")\n",
    "    \n",
    "class Electric_car(Car):\n",
    "    def __init__ (self , make , model , year):\n",
    "        super().__init__(make,model,year)    #super key word we can call parent class methoods from child class.and if we want to inherit from 1 class we use super key word\n",
    "        self.battery_size = 2\n",
    "    \n",
    "    def battery_size(self):\n",
    "        print(f\"batter size of my car is {self.battery_size}\")\n",
    "\n",
    "\n",
    "\n",
    "\n",
    "print(my_new_car.get_descriptive_name())\n",
    "Electric_car.battery_size()"
   ]
  },
  {
   "cell_type": "code",
   "execution_count": 7,
   "metadata": {},
   "outputs": [
    {
     "name": "stdout",
     "output_type": "stream",
     "text": [
      "employ name : rehan \n",
      " employ id : 007\n",
      "None\n"
     ]
    }
   ],
   "source": [
    "class Employ:\n",
    "    def __init__(self , name , id):\n",
    "        self.name = name\n",
    "        self.id = id\n",
    "\n",
    "    def showDetails(self):\n",
    "        print(f\"employ name : {self.name} \\n employ id : {self.id}\")\n",
    "\n",
    "e = Employ(\"rehan\",\"007\")\n",
    "\n",
    "print(e.showDetails())"
   ]
  },
  {
   "cell_type": "markdown",
   "metadata": {},
   "source": [
    "# super() keyword."
   ]
  },
  {
   "cell_type": "code",
   "execution_count": null,
   "metadata": {},
   "outputs": [
    {
     "name": "stdout",
     "output_type": "stream",
     "text": [
      "rehan is a professional pogramer of python\n"
     ]
    }
   ],
   "source": [
    "class Employ :\n",
    "    def __init__ (self , name , id):\n",
    "        self.name = name\n",
    "        self.id = id\n",
    "    \n",
    "class Pogramer (Employ) :\n",
    "    def __init__(self , name , id , language):\n",
    "        super().__init__(name , id)\n",
    "        self.language = language\n",
    "    \n",
    "    def pogramer_type(self):\n",
    "        print(f\" {self.name} is a professional pogramer of {self.language}\")\n",
    "    \n",
    "emp1 = Pogramer (\"rehan\" , 7 , \"python\")\n",
    "\n",
    "emp1.pogramer_type()\n",
    "\n",
    "\n",
    "\n"
   ]
  },
  {
   "cell_type": "markdown",
   "metadata": {},
   "source": [
    "# multiple inheritance"
   ]
  },
  {
   "cell_type": "code",
   "execution_count": 24,
   "metadata": {},
   "outputs": [
    {
     "name": "stdout",
     "output_type": "stream",
     "text": [
      "Child 1 name : ali\n",
      "Child father name : qasim\n",
      "Child height : 6 feet\n",
      "mother is speaking hello i am python developer\n"
     ]
    }
   ],
   "source": [
    "class Mother:\n",
    "    def __init__ (self , name:str , age:int)->None:\n",
    "        self.mother_name = name\n",
    "        self.mother_age = age\n",
    "        self.mother_eye_colour = \"blue\"\n",
    "\n",
    "    def speaking(self , words : str)->str:\n",
    "        return f'mother is speaking {words}'\n",
    "\n",
    "\n",
    "\n",
    "class Father:\n",
    "    def __init__(self , name:str ,age:int)->None:\n",
    "        self.father_name : str = name\n",
    "        self.father_age : str  = age\n",
    "        self.father_height : str = \"6 feet\"\n",
    "\n",
    "    def speaking(self , words : str)->str:\n",
    "        print(f\"father is speaking {words}\")\n",
    "\n",
    "\n",
    "class Children(Mother , Father):\n",
    "    def __init__(self , mother_name : str , father_name : str , child_name : str , mother_age :str , father_age : str):\n",
    "        Mother.__init__(self , mother_name , mother_age )\n",
    "        Father.__init__(self , father_name , father_age)\n",
    "        self.child_name : str = child_name \n",
    "\n",
    "\n",
    "child1 : Children = Children(\"aliza\" , \"qasim\" , \"ali\" , \"20\" , \"22\")\n",
    "\n",
    "print(f\"Child 1 name : {child1.child_name}\")\n",
    "print(f\"Child father name : {child1.father_name}\")\n",
    "print(f\"Child height : {child1.father_height}\")\n",
    "print(child1.speaking(\"hello i am python developer\"))\n"
   ]
  },
  {
   "cell_type": "code",
   "execution_count": 15,
   "metadata": {},
   "outputs": [
    {
     "data": {
      "text/plain": [
       "['__class__',\n",
       " '__delattr__',\n",
       " '__dict__',\n",
       " '__dir__',\n",
       " '__doc__',\n",
       " '__eq__',\n",
       " '__format__',\n",
       " '__ge__',\n",
       " '__getattribute__',\n",
       " '__getstate__',\n",
       " '__gt__',\n",
       " '__hash__',\n",
       " '__init__',\n",
       " '__init_subclass__',\n",
       " '__le__',\n",
       " '__lt__',\n",
       " '__module__',\n",
       " '__ne__',\n",
       " '__new__',\n",
       " '__reduce__',\n",
       " '__reduce_ex__',\n",
       " '__repr__',\n",
       " '__setattr__',\n",
       " '__sizeof__',\n",
       " '__str__',\n",
       " '__subclasshook__',\n",
       " '__weakref__',\n",
       " 'age',\n",
       " 'child_name',\n",
       " 'eye_colour',\n",
       " 'height',\n",
       " 'name',\n",
       " 'speaking']"
      ]
     },
     "execution_count": 15,
     "metadata": {},
     "output_type": "execute_result"
    }
   ],
   "source": [
    "dir(child1)"
   ]
  },
  {
   "cell_type": "code",
   "execution_count": 26,
   "metadata": {},
   "outputs": [
    {
     "name": "stdout",
     "output_type": "stream",
     "text": [
      "Child 1 name : ali\n",
      "Child father name : qasim\n",
      "Child height : 6 feet\n",
      "father is speaking hello i am python developer\n",
      "None\n"
     ]
    }
   ],
   "source": [
    "class Mother:\n",
    "    def __init__ (self , name:str , age:int)->None:\n",
    "        self.mother_name = name\n",
    "        self.mother_age = age\n",
    "        self.mother_eye_colour = \"blue\"\n",
    "\n",
    "    def speaking(self , words : str)->str:\n",
    "        return f'mother is speaking {words}'\n",
    "\n",
    "\n",
    "\n",
    "class Father:\n",
    "    def __init__(self , name:str ,age:int)->None:\n",
    "        self.father_name : str = name\n",
    "        self.father_age : str  = age\n",
    "        self.father_height : str = \"6 feet\"\n",
    "\n",
    "    def speaking(self , words : str)->str:\n",
    "        print(f\"father is speaking {words}\")\n",
    "\n",
    "\n",
    "class Children(Father , Mother):\n",
    "    def __init__(self , mother_name : str , father_name : str , child_name : str , mother_age :str , father_age : str):\n",
    "        Mother.__init__(self , mother_name , mother_age )\n",
    "        Father.__init__(self , father_name , father_age)\n",
    "        self.child_name : str = child_name \n",
    "\n",
    "\n",
    "child1 : Children = Children(\"aliza\" , \"qasim\" , \"ali\" , \"20\" , \"22\")\n",
    "\n",
    "print(f\"Child 1 name : {child1.child_name}\")\n",
    "print(f\"Child father name : {child1.father_name}\")\n",
    "print(f\"Child height : {child1.father_height}\")\n",
    "print(child1.speaking(\"hello i am python developer\"))\n"
   ]
  },
  {
   "cell_type": "markdown",
   "metadata": {},
   "source": [
    "# overloading"
   ]
  },
  {
   "cell_type": "code",
   "execution_count": null,
   "metadata": {},
   "outputs": [
    {
     "name": "stdout",
     "output_type": "stream",
     "text": [
      "6.0\n",
      "10\n"
     ]
    }
   ],
   "source": [
    "class Adder():\n",
    "    def add (self , x : int , y : int)->int:\n",
    "        return x + y\n",
    "\n",
    "    def add (self , x : float , y : float)->int:\n",
    "        return x + y\n",
    "    \n",
    "obj : Adder = Adder()\n",
    "print(obj.add(2.0,4.0))\n",
    "print(obj.add(2,8))"
   ]
  },
  {
   "cell_type": "code",
   "execution_count": 6,
   "metadata": {},
   "outputs": [
    {
     "name": "stdout",
     "output_type": "stream",
     "text": [
      "adding 1 of apples to the cart.\n",
      "adding 22 of banana to the cart.\n",
      "shopping cart\n",
      "apples , 1\n",
      "banana , 22\n"
     ]
    }
   ],
   "source": [
    "from typing import overload\n",
    "\n",
    "class ShoppingCart :\n",
    "    def __init__(self)->None:\n",
    "        self.items : list[tuple[str,int]] = []\n",
    "\n",
    "\n",
    "\n",
    "    def add_items (self , name : str )->None:\n",
    "        ...\n",
    "    @overload\n",
    "    def add_items (self , name : str , quantity : int)->None:\n",
    "        ...\n",
    "    \n",
    "    def add_items (self , name : str , quantity :int = 1)->None:\n",
    "        self.items.append((name , quantity))\n",
    "        print(f\"adding {quantity} of {name} to the cart.\")\n",
    "\n",
    "    def show_cart(self )->None:\n",
    "        print(f\"shopping cart\")\n",
    "        for name , quantity in self.items:\n",
    "            print(f\"{name} , {quantity}\")\n",
    "\n",
    "cart = ShoppingCart()\n",
    "\n",
    "cart.add_items(\"apples\")\n",
    "cart.add_items(\"banana\" , 22)\n",
    "\n",
    "cart.show_cart()\n"
   ]
  },
  {
   "cell_type": "code",
   "execution_count": 17,
   "metadata": {},
   "outputs": [
    {
     "name": "stdout",
     "output_type": "stream",
     "text": [
      "3.29\n",
      "11.22\n",
      "helo \trehnx\n"
     ]
    }
   ],
   "source": [
    "from typing import Union , overload\n",
    "\n",
    "@overload\n",
    "def add(x : int , y : int)->int:\n",
    "    ...\n",
    "@overload\n",
    "def add(x : float , y :float)->float:\n",
    "    ...\n",
    "\n",
    "@overload\n",
    "def add(x : str , y : str)->str:\n",
    "    ...\n",
    "\n",
    "def add(x : Union[int , float , str] , y : Union[int , float , str])-> Union[ int , float , str]:\n",
    "    if isinstance (x , int) or isinstance (y , int):\n",
    "        return x + y\n",
    "    elif isinstance (x , float) or isinstance (y , float):\n",
    "        return x + y\n",
    "\n",
    "    elif  isinstance (x , str) or isinstance (y , str):\n",
    "        return x + y\n",
    "    \n",
    "    else:\n",
    "        raise TypeError (\"Invalid argument types!\")\n",
    "\n",
    "\n",
    "result1 :add = add (2,1.29)\n",
    "print(result1)\n",
    "result2 :add = add (2,9.22)\n",
    "print(result2)\n",
    "result3 :add = add (\"helo \\t\",\"rehnx\")\n",
    "print(result3)\n",
    "\n",
    "\n",
    "\n"
   ]
  },
  {
   "cell_type": "markdown",
   "metadata": {},
   "source": [
    "# over riding and polymorphism"
   ]
  },
  {
   "cell_type": "code",
   "execution_count": null,
   "metadata": {},
   "outputs": [
    {
     "name": "stdout",
     "output_type": "stream",
     "text": [
      "bird is eating bread\n",
      "animal is eating grass\n",
      "bird is eating grass\n"
     ]
    }
   ],
   "source": [
    "class Animal:\n",
    "    def eating (self , food : str)->None:\n",
    "        print(f\"animal is eating {food}\")\n",
    "\n",
    "         #overriding we are making eating methood in both classes with same signatures.\n",
    "        \n",
    "class Bird(Animal):\n",
    "    def eating (self , food : str)->None:\n",
    "        print(f\"bird is eating {food}\")\n",
    "\n",
    "bird : Bird = Bird()\n",
    "bird.eating(\"bread\")\n",
    "\n",
    "animal : Animal = Animal()\n",
    "animal.eating(\"grass\")\n",
    "\n",
    "# polymorphism:          ( runtime it wil decide which methood wil be called)\n",
    "\n",
    "animal : Animal = Bird()\n",
    "animal.eating(\"grass\")\n"
   ]
  },
  {
   "cell_type": "markdown",
   "metadata": {},
   "source": [
    "# Static variables           (belongs to class no need of object)"
   ]
  },
  {
   "cell_type": "markdown",
   "metadata": {},
   "source": [
    "# class variales"
   ]
  },
  {
   "cell_type": "code",
   "execution_count": 8,
   "metadata": {},
   "outputs": [
    {
     "name": "stdout",
     "output_type": "stream",
     "text": [
      "3\n"
     ]
    }
   ],
   "source": [
    "class Car:\n",
    " total_cars = 0\n",
    " def __init__(self, make, model, year):\n",
    " #\"\"\"Initialize attributes to describe a car.\"\"\"\n",
    "    self.make = make\n",
    "    self.model = model\n",
    "    self.year = year\n",
    "    Car.total_cars += 1\n",
    "\n",
    " def get_descriptive_name(self):\n",
    "      details =(f\"Car model is {self.model}. Car make is {self.make}. Car colour is {self.year}\")\n",
    "      return details.title()\n",
    "    \n",
    "\n",
    " \n",
    "car2 : Car = Car(\"civic\" ,\"japani\" , \"2011\")\n",
    "car3 : Car = Car(\"prius\" ,\"japani\" , \"2011\")\n",
    "car4 : Car = Car(\"honda\" ,\"japani\" , \"2011\")\n",
    "\n",
    "print(Car.total_cars)\n"
   ]
  },
  {
   "cell_type": "markdown",
   "metadata": {},
   "source": [
    "# static methood"
   ]
  },
  {
   "cell_type": "code",
   "execution_count": 14,
   "metadata": {},
   "outputs": [
    {
     "name": "stdout",
     "output_type": "stream",
     "text": [
      "3\n",
      "Cars are a popular mode of transportation.\n",
      "Car Model Is Japani. Car Make Is Civic. Car Year Is 2011.\n"
     ]
    }
   ],
   "source": [
    "class Car:\n",
    "    total_cars = 0  # Class attribute\n",
    "    \n",
    "    def __init__(self, make, model, year):\n",
    "        \"\"\"Initialize attributes to describe a car.\"\"\"\n",
    "        self.make = make\n",
    "        self.model = model\n",
    "        self.year = year\n",
    "        Car.total_cars += 1  # Increment the total car count\n",
    "\n",
    "    def get_descriptive_name(self):\n",
    "        \"\"\"Return a descriptive name for the car.\"\"\"\n",
    "        details = f\"Car model is {self.model}. Car make is {self.make}. Car year is {self.year}.\"\n",
    "        return details.title()\n",
    "\n",
    "    @staticmethod\n",
    "    def description():\n",
    "        \"\"\"Provide a general description about cars.\"\"\"\n",
    "        return \"Cars are a popular mode of transportation.\"\n",
    "\n",
    "\n",
    "# Create car instances\n",
    "car2 = Car(\"Civic\", \"Japani\", \"2011\")\n",
    "car3 = Car(\"Prius\", \"Japani\", \"2011\")\n",
    "car4 = Car(\"Honda\", \"Japani\", \"2011\")\n",
    "\n",
    "# Access the total_cars class attribute\n",
    "print(Car.total_cars)  # Outputs: 3\n",
    "\n",
    "# Access the static method\n",
    "print(Car.description())  # Outputs: Cars are a popular mode of transportation.\n",
    "\n",
    "# Access instance-specific details\n",
    "print(car2.get_descriptive_name())  # Outputs: Car Model Is Civic. Car Make Is Japani. Car Year Is 2011.\n"
   ]
  },
  {
   "cell_type": "markdown",
   "metadata": {},
   "source": [
    "# property decorator (to hide directly acess  + we cannot override value of model)"
   ]
  },
  {
   "cell_type": "code",
   "execution_count": 26,
   "metadata": {},
   "outputs": [
    {
     "name": "stdout",
     "output_type": "stream",
     "text": [
      "honda\n",
      "2022 is your model..\n"
     ]
    }
   ],
   "source": [
    "class Car:\n",
    "    def __init__ (self , name , model):\n",
    "        self.name = name\n",
    "        self.__model = model        # private\n",
    "\n",
    "    @property\n",
    "    def car_model(self):\n",
    "        return f\"{self.__model} is your model..\" \n",
    "\n",
    "car1 : Car = Car(\"honda\" ,\"2022\")\n",
    "\n",
    "print(car1.name)\n",
    "#print(car1.model)                          #not acessable\n",
    "print(car1.car_model)\n"
   ]
  },
  {
   "cell_type": "markdown",
   "metadata": {},
   "source": [
    "# isinstance fuction"
   ]
  },
  {
   "cell_type": "code",
   "execution_count": 27,
   "metadata": {},
   "outputs": [
    {
     "name": "stdout",
     "output_type": "stream",
     "text": [
      "True\n"
     ]
    }
   ],
   "source": [
    "class Car:\n",
    "    def __init__ (self , name , model):\n",
    "        self.name = name\n",
    "        self.__model = model        # private\n",
    "\n",
    "    @property\n",
    "    def car_model(self):\n",
    "        return f\"{self.__model} is your model..\" \n",
    "\n",
    "car1 : Car = Car(\"honda\" ,\"2022\")\n",
    "\n",
    "\n",
    "print(isinstance (car1 , Car))"
   ]
  }
 ],
 "metadata": {
  "kernelspec": {
   "display_name": "base",
   "language": "python",
   "name": "python3"
  },
  "language_info": {
   "codemirror_mode": {
    "name": "ipython",
    "version": 3
   },
   "file_extension": ".py",
   "mimetype": "text/x-python",
   "name": "python",
   "nbconvert_exporter": "python",
   "pygments_lexer": "ipython3",
   "version": "3.12.4"
  }
 },
 "nbformat": 4,
 "nbformat_minor": 2
}
