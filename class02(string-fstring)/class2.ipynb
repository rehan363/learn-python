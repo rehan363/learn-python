{
 "cells": [
  {
   "cell_type": "markdown",
   "metadata": {},
   "source": [
    "\n",
    "# string data types in python  "
   ]
  },
  {
   "cell_type": "code",
   "execution_count": 11,
   "metadata": {},
   "outputs": [
    {
     "name": "stdout",
     "output_type": "stream",
     "text": [
      "*\n"
     ]
    }
   ],
   "source": [
    "#we can define strings in boundries\n",
    "#' ', \" \",''' ''',\"\"\" \"\"\"\n",
    "name : str =\"ali\"\n",
    "print(\"*\")"
   ]
  },
  {
   "cell_type": "markdown",
   "metadata": {},
   "source": [
    "# methoods to create a new line in Python"
   ]
  },
  {
   "cell_type": "code",
   "execution_count": 2,
   "metadata": {},
   "outputs": [
    {
     "name": "stdout",
     "output_type": "stream",
     "text": [
      "Hello, world!\n",
      "\n",
      "\n",
      "\n",
      "This is a new line.\n"
     ]
    }
   ],
   "source": [
    "#1st methood:\n",
    "print(\"Hello, world!\", end=\"\\n\\n\\n\\n\")  # Two newlines after \"Hello, world!\"\n",
    "print(\"This is a new line.\")\n",
    "\n",
    "#or\n"
   ]
  },
  {
   "cell_type": "code",
   "execution_count": 1,
   "metadata": {},
   "outputs": [
    {
     "name": "stdout",
     "output_type": "stream",
     "text": [
      "hello world!\n",
      "\n",
      "this is new line\n"
     ]
    }
   ],
   "source": [
    "#2nd methood:\n",
    "print(\"hello world!\")\n",
    "print()\n",
    "print(\"this is new line\")\n"
   ]
  },
  {
   "cell_type": "markdown",
   "metadata": {},
   "source": [
    "# ===================x==============================x================"
   ]
  },
  {
   "cell_type": "code",
   "execution_count": 9,
   "metadata": {},
   "outputs": [
    {
     "name": "stdout",
     "output_type": "stream",
     "text": [
      "ali father's name is mehmood\n"
     ]
    }
   ],
   "source": [
    "name : str = \"ali\"\n",
    "print(name,'father\\'s name is mehmood')"
   ]
  },
  {
   "cell_type": "code",
   "execution_count": 1,
   "metadata": {},
   "outputs": [
    {
     "name": "stdout",
     "output_type": "stream",
     "text": [
      "PIAIC student\n",
      "student name:sufyan\n",
      "Age:17\n"
     ]
    }
   ],
   "source": [
    "name : str = \"sufan\"\n",
    "fname : str = \"amjad\"\n",
    "age : str = \"17\"\n",
    "education : str = \"intermedate\"\n",
    "\n",
    "card : str = \"PIAIC student\\nstudent name:\" + name + \"\\nAge:\" + age\n",
    "print(card)"
   ]
  },
  {
   "cell_type": "code",
   "execution_count": 2,
   "metadata": {},
   "outputs": [
    {
     "data": {
      "text/plain": [
       "'a7'"
      ]
     },
     "execution_count": 2,
     "metadata": {},
     "output_type": "execute_result"
    }
   ],
   "source": [
    "\"a\"+ str(7)\n",
    "\n",
    "\n"
   ]
  },
  {
   "cell_type": "markdown",
   "metadata": {},
   "source": [
    "# \"\\\" line to continue  (old methood)"
   ]
  },
  {
   "cell_type": "code",
   "execution_count": 5,
   "metadata": {},
   "outputs": [
    {
     "name": "stdout",
     "output_type": "stream",
     "text": [
      "6\n"
     ]
    }
   ],
   "source": [
    "print(3 + \\\n",
    "      2 + \\\n",
    "            + 1)"
   ]
  },
  {
   "cell_type": "markdown",
   "metadata": {},
   "source": [
    "# define multiline string \"\"\"    \"\"\"\n",
    "\n",
    "# f-string  (latest thing very usefull) syntex =f\"\"\"    \"\"\"  or '''   '''"
   ]
  },
  {
   "cell_type": "code",
   "execution_count": 13,
   "metadata": {},
   "outputs": [
    {
     "name": "stdout",
     "output_type": "stream",
     "text": [
      "\n",
      "PIAIC STUDENT\n",
      "student name : sufyan\n",
      "father name : amjad\n",
      "age : 17\n",
      "education : intermediate\n",
      "school :fg\n",
      "\n",
      "total 10\n",
      "\n",
      "\n",
      "\n"
     ]
    }
   ],
   "source": [
    "name : str = \"sufan\"\n",
    "fname : str = \"amjad\"\n",
    "agr : int = 17\n",
    "education : str = \"intermediate\"\n",
    "\n",
    "card : str =f\"\"\"\n",
    "PIAIC STUDENT\n",
    "student name : {name}\n",
    "father name : {fname}\n",
    "age : {age}\n",
    "education : {education}\n",
    "\n",
    "\n",
    "total {2+3+5}\n",
    "\n",
    "\n",
    "\"\"\"\n",
    "\n",
    "print(card)"
   ]
  },
  {
   "cell_type": "markdown",
   "metadata": {},
   "source": [
    "# f string anda jinga style"
   ]
  },
  {
   "cell_type": "code",
   "execution_count": null,
   "metadata": {},
   "outputs": [],
   "source": [
    "# jinga style\n",
    "\n",
    "\"\"\"\n",
    "student name {{name}}\n",
    "\"\"\""
   ]
  },
  {
   "cell_type": "code",
   "execution_count": 51,
   "metadata": {},
   "outputs": [
    {
     "name": "stdout",
     "output_type": "stream",
     "text": [
      "   ch rehan    \n",
      "   ch rehan    \n",
      "   ch rehan    \n",
      "   CH REHAN    \n",
      "ch rehan    \n",
      "   ch rehan\n",
      "ch rehan\n",
      "   Ch Rehan    \n"
     ]
    }
   ],
   "source": [
    "name : str = \"   ch rehan    \"\n",
    "print(name.capitalize())  #first letter capital\n",
    "print(name.casefold())  #all small\n",
    "print(name.lower())     #convert them to all small\n",
    "print(name.upper())     #convert them all in big\n",
    "print(name.lstrip())    #removes extra spaces form left side\n",
    "print(name.rstrip())    #removes extra spaces form right side\n",
    "print(name.strip())     #removes extra spaces form both sides\n",
    "print(name.title())     #capatilize the first letters"
   ]
  },
  {
   "cell_type": "code",
   "execution_count": 47,
   "metadata": {},
   "outputs": [
    {
     "data": {
      "text/plain": [
       "'     ch     rehan       '"
      ]
     },
     "metadata": {},
     "output_type": "display_data"
    },
    {
     "data": {
      "text/plain": [
       "'chrehan'"
      ]
     },
     "metadata": {},
     "output_type": "display_data"
    }
   ],
   "source": [
    "import re\n",
    "\n",
    "name : str = \"     ch     rehan       \"\n",
    "display(name)\n",
    "\n",
    "name1 : str = re.sub(' {2,100}','',name)\n",
    "\n",
    "display(name1)"
   ]
  },
  {
   "cell_type": "code",
   "execution_count": 54,
   "metadata": {},
   "outputs": [
    {
     "name": "stdout",
     "output_type": "stream",
     "text": [
      "hello, Ch Rehan!\n"
     ]
    }
   ],
   "source": [
    "first_name = \"ch\"\n",
    "last_name = \"rehan\"\n",
    "full_name = f\"{first_name} {last_name}\"\n",
    "print(f\"hello, {full_name .title()}!\")"
   ]
  },
  {
   "cell_type": "code",
   "execution_count": 60,
   "metadata": {},
   "outputs": [
    {
     "name": "stdout",
     "output_type": "stream",
     "text": [
      "name  \t\t = rehan\n",
      "name  = rehan\n"
     ]
    }
   ],
   "source": [
    "print(\"name  \\t\\t = rehan\")       #\\t for space b/w words\n",
    "                                  #\\n for next line\n",
    "print(\"name :\\b = rehan\")       #\\b remeves the previous letter"
   ]
  },
  {
   "cell_type": "markdown",
   "metadata": {},
   "source": [
    "# .format methood (old methood)"
   ]
  },
  {
   "cell_type": "code",
   "execution_count": 28,
   "metadata": {},
   "outputs": [
    {
     "data": {
      "text/plain": [
       "'pakistan value a = 3 and value b = 5'"
      ]
     },
     "execution_count": 28,
     "metadata": {},
     "output_type": "execute_result"
    }
   ],
   "source": [
    "a = 3\n",
    "b = 5\n",
    "# {} is called place holder\n",
    "\n",
    "\"pakistan value a = {} and value b = {}\".format(a,b)"
   ]
  },
  {
   "cell_type": "code",
   "execution_count": 2,
   "metadata": {},
   "outputs": [
    {
     "name": "stdout",
     "output_type": "stream",
     "text": [
      "\n",
      "PIAIC STUDENT\n",
      "student name : sufan\n",
      "father name : amjad\n",
      "age : 17\n",
      "education : intermediate\n",
      "\n"
     ]
    }
   ],
   "source": [
    "name : str = \"sufan\"\n",
    "fname : str = \"amjad\"\n",
    "age : int = 17\n",
    "education : str = \"intermediate\"\n",
    "\n",
    "card : str =\"\"\"\n",
    "PIAIC STUDENT\n",
    "student name : {}\n",
    "father name : {}\n",
    "age : {}\n",
    "education : {}\n",
    "\"\"\".format(name, fname ,age,education)\n",
    "\n",
    "print(card)"
   ]
  },
  {
   "cell_type": "markdown",
   "metadata": {},
   "source": [
    "# recomended below 2 f- string methoods"
   ]
  },
  {
   "cell_type": "code",
   "execution_count": 31,
   "metadata": {},
   "outputs": [
    {
     "name": "stdout",
     "output_type": "stream",
     "text": [
      "\n",
      "PIAIC STUDENT\n",
      "student name : sufyan\n",
      "father name : amjad\n",
      "age : 17\n",
      "education : intermediate\n",
      "\n"
     ]
    }
   ],
   "source": [
    "name : str = \"sufyan\"\n",
    "fname : str = \"amjad\"\n",
    "agr : int = 17\n",
    "education : str = \"intermediate\"\n",
    "\n",
    "card : str =\"\"\"\n",
    "PIAIC STUDENT\n",
    "student name : {a}\n",
    "father name : {b}\n",
    "age : {c}\n",
    "education : {d}\n",
    "\"\"\".format(a = name, b = fname , c = age , d= education)\n",
    "\n",
    "print(card)"
   ]
  },
  {
   "cell_type": "code",
   "execution_count": null,
   "metadata": {},
   "outputs": [],
   "source": [
    "name : str = \"sufyan\"\n",
    "fname : str = \"amjad\"\n",
    "agr : int = 17\n",
    "education : str = \"intermediate\"\n",
    "\n",
    "card : str =f\"\"\"\n",
    "PIAIC STUDENT\n",
    "student name : {name}\n",
    "father name : {fname}\n",
    "age : {age}\n",
    "education : {education}\n",
    "\n",
    "\n",
    "total {2+3+5}\n",
    "\n",
    "\n",
    "\"\"\"\n",
    "\n",
    "print(card)"
   ]
  },
  {
   "cell_type": "code",
   "execution_count": 32,
   "metadata": {},
   "outputs": [
    {
     "name": "stdout",
     "output_type": "stream",
     "text": [
      "my name is rehan\n",
      "9\n"
     ]
    }
   ],
   "source": [
    "student_code : str =\"\"\" \n",
    "\n",
    "print(\"my name is rehan\")\n",
    "a:int = 4\n",
    "b:int = 5\n",
    "print(a+b)\n",
    "\"\"\"\n",
    "exec(student_code)"
   ]
  },
  {
   "cell_type": "markdown",
   "metadata": {},
   "source": [
    "# f string real life eg (birthdy greeting card)"
   ]
  },
  {
   "cell_type": "code",
   "execution_count": 3,
   "metadata": {},
   "outputs": [
    {
     "name": "stdout",
     "output_type": "stream",
     "text": [
      " \n",
      "\n",
      "DEAR sufyan!!\n",
      "\n",
      "happy 17th birthday !\n",
      "\n",
      "best wishes,\n",
      "REGARDS:[ch rehan]\n",
      "\n",
      "\n"
     ]
    }
   ],
   "source": [
    "name : str = input(\"enter your name:\")\n",
    "age = int( input(\"enter your age\"))\n",
    "\n",
    "greeting = f\"\"\" \n",
    "\n",
    "DEAR {name}!!\n",
    "\n",
    "happy {age}th birthday !\n",
    "\n",
    "best wishes,\n",
    "REGARDS:[ch rehan]\n",
    "\n",
    "\"\"\"\n",
    "print(greeting)"
   ]
  },
  {
   "cell_type": "markdown",
   "metadata": {},
   "source": [
    "example2"
   ]
  },
  {
   "cell_type": "code",
   "execution_count": 5,
   "metadata": {},
   "outputs": [
    {
     "name": "stdout",
     "output_type": "stream",
     "text": [
      "the value of ppi is 3.14\n"
     ]
    }
   ],
   "source": [
    "x =3.14159\n",
    "\n",
    "print(f\"the value of ppi is {x:.2f}\")   # here 2f is usrd for adding 2 floting numbers in the result"
   ]
  },
  {
   "cell_type": "markdown",
   "metadata": {},
   "source": [
    "# string methoods and attributes\n",
    "# methood we have studied \n",
    "# print\n",
    "# id\n",
    "# type\n",
    "# dir\n",
    "# len"
   ]
  },
  {
   "cell_type": "code",
   "execution_count": 36,
   "metadata": {},
   "outputs": [
    {
     "name": "stdout",
     "output_type": "stream",
     "text": [
      "['capitalize', 'casefold', 'center', 'count', 'encode', 'endswith', 'expandtabs', 'find', 'format', 'format_map', 'index', 'isalnum', 'isalpha', 'isascii', 'isdecimal', 'isdigit', 'isidentifier', 'islower', 'isnumeric', 'isprintable', 'isspace', 'istitle', 'isupper', 'join', 'ljust', 'lower', 'lstrip', 'maketrans', 'partition', 'removeprefix', 'removesuffix', 'replace', 'rfind', 'rindex', 'rjust', 'rpartition', 'rsplit', 'rstrip', 'split', 'splitlines', 'startswith', 'strip', 'swapcase', 'title', 'translate', 'upper', 'zfill']\n",
      "47\n"
     ]
    }
   ],
   "source": [
    "a : list [str] =[i for i in dir(str) if \"__\" not in i]\n",
    "\n",
    "print(a)\n",
    "print(len(a))"
   ]
  }
 ],
 "metadata": {
  "kernelspec": {
   "display_name": "base",
   "language": "python",
   "name": "python3"
  },
  "language_info": {
   "codemirror_mode": {
    "name": "ipython",
    "version": 3
   },
   "file_extension": ".py",
   "mimetype": "text/x-python",
   "name": "python",
   "nbconvert_exporter": "python",
   "pygments_lexer": "ipython3",
   "version": "3.12.4"
  }
 },
 "nbformat": 4,
 "nbformat_minor": 2
}
